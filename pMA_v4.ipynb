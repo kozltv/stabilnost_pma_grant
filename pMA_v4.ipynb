{
 "cells": [
  {
   "cell_type": "markdown",
   "metadata": {
    "colab_type": "text",
    "id": "view-in-github"
   },
   "source": [
    "<a href=\"https://colab.research.google.com/github/kozltv/pMA_stabilnost/blob/main/pMA_v2.ipynb\" target=\"_parent\"><img src=\"https://colab.research.google.com/assets/colab-badge.svg\" alt=\"Open In Colab\"/></a>"
   ]
  },
  {
   "cell_type": "markdown",
   "metadata": {},
   "source": [
    "## TOC:\n",
    "* [Part 0: Installation](#first-bullet)\n",
    "* [Part 1: find Movement onset](#second-bullet)"
   ]
  },
  {
   "cell_type": "markdown",
   "metadata": {},
   "source": [
    "## Part 0: Installation"
   ]
  },
  {
   "cell_type": "markdown",
   "metadata": {},
   "source": [
    "__1. Install libraries__"
   ]
  },
  {
   "cell_type": "raw",
   "metadata": {},
   "source": [
    "!pip3 install numpy\n",
    "!pip3 install mne\n",
    "!pip3 install tqdm\n",
    "!pip3 install pandas\n",
    "!pip3 install matplotlib\n",
    "!pip3 install sklearn\n",
    "!pip3 install oauth2client\n",
    "!pip3 install gspread_dataframe\n",
    "!pip3 install ipywidgets \n",
    "\n",
    "# for widgets\n",
    "!ipython notebook --pylab=inline\n",
    "!conda install -c conda-forge/label/cf202003 nodejs\n",
    "!conda install -y nodejs\n",
    "!pip3 install ipympl\n",
    "!pip3 install --upgrade jupyterlab\n",
    "!jupyter labextension install @jupyter-widgets/jupyterlab-manager\n",
    "!jupyter labextension install jupyter-matplotlib\n",
    "!jupyter nbextension enable --py widgetsnbextension\n"
   ]
  },
  {
   "cell_type": "code",
   "execution_count": null,
   "metadata": {},
   "outputs": [
    {
     "name": "stdout",
     "output_type": "stream",
     "text": [
      "\u001b[32m[I 2021-11-22 12:44:22.428 ServerApp]\u001b[m jupyterlab | extension was successfully linked.\n",
      "\u001b[32m[I 2021-11-22 12:44:22.445 ServerApp]\u001b[m Writing notebook server cookie secret to /Users/ksenia.kozlova/Library/Jupyter/runtime/jupyter_cookie_secret\n",
      "\u001b[32m[I 2021-11-22 12:44:22.858 ServerApp]\u001b[m nbclassic | extension was successfully linked.\n",
      "\u001b[32m[I 2021-11-22 12:44:22.907 ServerApp]\u001b[m The port 8888 is already in use, trying another port.\n",
      "\u001b[32m[I 2021-11-22 12:44:22.912 LabApp]\u001b[m JupyterLab extension loaded from /opt/anaconda3/lib/python3.8/site-packages/jupyterlab\n",
      "\u001b[32m[I 2021-11-22 12:44:22.913 LabApp]\u001b[m JupyterLab application directory is /opt/anaconda3/share/jupyter/lab\n",
      "\u001b[32m[I 2021-11-22 12:44:22.913 LabApp]\u001b[m Starting JupyterLab watch mode...\n",
      "\u001b[32m[I 2021-11-22 12:44:29.592 LabApp]\u001b[m > node /opt/anaconda3/lib/python3.8/site-packages/jupyterlab/staging/yarn.js run watch\n",
      "\u001b[2K\u001b[1G\u001b[1myarn run v1.21.1\u001b[22m\n",
      "\u001b[2K\u001b[1G\u001b[2m$ webpack --watch\u001b[22m\n",
      "assets by path \u001b[1m\u001b[32m*.js\u001b[39m\u001b[22m 51.7 MiB\n",
      "  assets by chunk 33.6 MiB (id hint: vendors) 47 assets\n",
      "assets by chunk 2.79 MiB (auxiliary id hint: vendors)\n",
      "  assets by path \u001b[1m\u001b[32m*.svg\u001b[39m\u001b[22m 1.73 MiB 3 assets\n",
      "  assets by path \u001b[1m\u001b[32m*.eot\u001b[39m\u001b[22m 363 KiB 3 assets\n",
      "  assets by path \u001b[1m\u001b[32m*.ttf\u001b[39m\u001b[22m 362 KiB 3 assets\n",
      "  assets by path \u001b[1m\u001b[32m*.woff\u001b[39m\u001b[22m 203 KiB\n",
      "    asset \u001b[1m\u001b[32m3f6d3488cf65374f6f676c315340b0ac2be832bd55240c809448e36ef9b96326.woff\u001b[39m\u001b[22m 99.3 KiB \u001b[1m\u001b[32m[emitted]\u001b[39m\u001b[22m (auxiliary id hint: vendors)\n",
      "    asset \u001b[1m\u001b[32mf9217f66874b0c01cd8c10b6a295dbc4f609acb6f5adc41c37da46641b57eb02.woff\u001b[39m\u001b[22m 87.9 KiB \u001b[1m\u001b[32m[emitted]\u001b[39m\u001b[22m (auxiliary id hint: vendors)\n",
      "    asset \u001b[1m\u001b[32mcb9e9e693192413cde2b1f21c1dc1d44b6fe7b27cc2b458e8b359d18f9ff8f4e.woff\u001b[39m\u001b[22m 15.9 KiB \u001b[1m\u001b[32m[emitted]\u001b[39m\u001b[22m (auxiliary id hint: vendors)\n",
      "  assets by path \u001b[1m\u001b[32m*.woff2\u001b[39m\u001b[22m 164 KiB\n",
      "    asset \u001b[1m\u001b[32m9834b82ad26e2a37583d22676a12dd2eb0fe7c80356a2114d0db1aa8b3899537.woff2\u001b[39m\u001b[22m 76.4 KiB \u001b[1m\u001b[32m[emitted]\u001b[39m\u001b[22m (auxiliary id hint: vendors)\n",
      "    asset \u001b[1m\u001b[32m8ea8791754915a898a3100e63e32978a6d1763be6df8e73a39d3a90d691cdeef.woff2\u001b[39m\u001b[22m 74.9 KiB \u001b[1m\u001b[32m[emitted]\u001b[39m\u001b[22m (auxiliary id hint: vendors)\n",
      "    asset \u001b[1m\u001b[32me42a88444448ac3d60549cc7c1ff2c8a9cac721034c073d80a14a44e79730cca.woff2\u001b[39m\u001b[22m 12.9 KiB \u001b[1m\u001b[32m[emitted]\u001b[39m\u001b[22m (auxiliary id hint: vendors)\n",
      "asset \u001b[1m\u001b[32mindex.html\u001b[39m\u001b[22m 1.73 KiB \u001b[1m\u001b[32m[emitted]\u001b[39m\u001b[22m\n",
      "Entrypoint \u001b[1mmain\u001b[39m\u001b[22m 738 KiB = \u001b[1m\u001b[32mvendors-node_modules_whatwg-fetch_fetch_js.470effdc474a519d4748.js\u001b[39m\u001b[22m 44 KiB \u001b[1m\u001b[32mmain.89d450b4941164e48286.js\u001b[39m\u001b[22m 694 KiB\n",
      "orphan modules 217 KiB \u001b[1m\u001b[33m[orphan]\u001b[39m\u001b[22m 216 modules\n",
      "runtime modules 275 KiB 15 modules\n",
      "modules by path \u001b[1m./node_modules/\u001b[39m\u001b[22m 17.9 MiB\n",
      "  javascript modules 17.9 MiB 2442 modules\n",
      "  json modules 44.8 KiB 6 modules\n",
      "provide-module modules 5.04 KiB\n",
      "  modules by path \u001b[1mprovide shared module (default) @jupyterlab/\u001b[39m\u001b[22m 3.65 KiB 89 modules\n",
      "  modules by path \u001b[1mprovide shared module (default) @lumino/\u001b[39m\u001b[22m 588 bytes 14 modules\n",
      "  modules by path \u001b[1mprovide shared module (default) @jupyter-widgets/\u001b[39m\u001b[22m 252 bytes 2 modules\n",
      "consume-shared-module modules 5.04 KiB 64 modules\n",
      "modules by path \u001b[1m./build/*.js\u001b[39m\u001b[22m 24.3 KiB\n",
      "  \u001b[1m./build/bootstrap.js\u001b[39m\u001b[22m 3.86 KiB \u001b[1m\u001b[33m[built]\u001b[39m\u001b[22m \u001b[1m\u001b[33m[code generated]\u001b[39m\u001b[22m\n",
      "  \u001b[1m./build/index.out.js\u001b[39m\u001b[22m 18.1 KiB \u001b[1m\u001b[33m[built]\u001b[39m\u001b[22m \u001b[1m\u001b[33m[code generated]\u001b[39m\u001b[22m\n",
      "  \u001b[1m./build/style.js\u001b[39m\u001b[22m 2.28 KiB \u001b[1m\u001b[33m[built]\u001b[39m\u001b[22m \u001b[1m\u001b[33m[code generated]\u001b[39m\u001b[22m\n",
      "9 modules\n",
      "\n",
      "\u001b[1m\u001b[33mWARNING\u001b[39m\u001b[22m in \u001b[1m./node_modules/jupyter-matplotlib/src/index.js\u001b[39m\u001b[22m \u001b[1m\u001b[32m4:0-42\u001b[39m\u001b[22m\n",
      "\u001b[1mShould not import the named export 'version' (reexported as 'version') from default-exporting module (only default export is available soon)\u001b[39m\u001b[22m\n",
      " @ ./node_modules/jupyter-matplotlib/src/lab_extension.js 1:25-43\n",
      " @ ./build/index.out.js 575:16-63\n",
      " @ ./build/bootstrap.js 116:20-44\n",
      "\n",
      "\u001b[1m\u001b[33mWARNING\u001b[39m\u001b[22m in \u001b[1m./node_modules/vega-embed/build/vega-embed.module.js\u001b[39m\u001b[22m \u001b[1m\u001b[32m1225:2-26\u001b[39m\u001b[22m\n",
      "\u001b[1mModule \u001b[1m\u001b[31mnot found\u001b[39m\u001b[22m\u001b[1m: \u001b[1m\u001b[31mError\u001b[39m\u001b[22m\u001b[1m: Can't resolve './iterator.js' in '/opt/anaconda3/share/jupyter/lab/staging/node_modules/vega-embed/build'\u001b[39m\u001b[22m\n",
      " @ consume shared module (default) vega-embed@^6.2.1 (strict) (fallback: ./node_modules/vega-embed/build/vega-embed.module.js)\n",
      " @ ./node_modules/@jupyterlab/vega5-extension/lib/index.js 166:28-48\n",
      " @ consume shared module (default) @jupyterlab/vega5-extension@~3.2.4 (strict) (fallback: ./node_modules/@jupyterlab/vega5-extension/lib/index.js)\n",
      " @ ./build/index.out.js 171:16-54\n",
      " @ ./build/bootstrap.js 116:20-44\n",
      "\n",
      "\u001b[1m\u001b[33mWARNING\u001b[39m\u001b[22m in \u001b[1mshared module underscore -> /opt/anaconda3/share/jupyter/lab/staging/node_modules/underscore/modules/index-all.js\u001b[39m\u001b[22m\n",
      "\u001b[1mNo version specified and unable to automatically determine one. No version in description file (usually package.json). Add version to description file, or manually specify version in shared config.\u001b[39m\u001b[22m\n",
      "\n",
      "1 warning has detailed information that is not shown.\n",
      "Use 'stats.errorDetails: true' resp. '--stats-error-details' to show it.\n",
      "\n",
      "webpack 5.64.1 compiled with \u001b[1m\u001b[33m3 warnings\u001b[39m\u001b[22m in 10656 ms\n",
      "\n",
      "asset \u001b[1m\u001b[32mindex.css\u001b[39m\u001b[22m 15.8 KiB \u001b[1m\u001b[33m[compared for emit]\u001b[39m\u001b[22m (name: index)\n",
      "asset \u001b[1m\u001b[32mindex.js\u001b[39m\u001b[22m 0 bytes \u001b[1m\u001b[33m[compared for emit]\u001b[39m\u001b[22m \u001b[1m\u001b[32m[minimized]\u001b[39m\u001b[22m (name: index)\n",
      "Entrypoint \u001b[1mindex\u001b[39m\u001b[22m 15.8 KiB = \u001b[1m\u001b[32mindex.css\u001b[39m\u001b[22m 15.8 KiB \u001b[1m\u001b[32mindex.js\u001b[39m\u001b[22m 0 bytes\n",
      "\u001b[1m./node_modules/@jupyterlab/theme-dark-extension/style/theme.css\u001b[39m\u001b[22m 50 bytes \u001b[1m\u001b[33m[built]\u001b[39m\u001b[22m \u001b[1m\u001b[33m[code generated]\u001b[39m\u001b[22m\n",
      "css ./node_modules/css-loader/dist/cjs.js!\u001b[1m./node_modules/@jupyterlab/theme-dark-extension/style/variables.css\u001b[39m\u001b[22m 15.3 KiB \u001b[1m\u001b[33m[code generated]\u001b[39m\u001b[22m\n",
      "css ./node_modules/css-loader/dist/cjs.js!\u001b[1m./node_modules/@jupyterlab/theme-dark-extension/style/theme.css\u001b[39m\u001b[22m 472 bytes \u001b[1m\u001b[33m[code generated]\u001b[39m\u001b[22m\n",
      "webpack 5.64.1 compiled \u001b[1m\u001b[32msuccessfully\u001b[39m\u001b[22m in 2628 ms\n",
      "\n",
      "asset \u001b[1m\u001b[32mindex.css\u001b[39m\u001b[22m 14.7 KiB \u001b[1m\u001b[33m[compared for emit]\u001b[39m\u001b[22m (name: index)\n",
      "asset \u001b[1m\u001b[32mindex.js\u001b[39m\u001b[22m 0 bytes \u001b[1m\u001b[33m[compared for emit]\u001b[39m\u001b[22m \u001b[1m\u001b[32m[minimized]\u001b[39m\u001b[22m (name: index)\n",
      "Entrypoint \u001b[1mindex\u001b[39m\u001b[22m 14.7 KiB = \u001b[1m\u001b[32mindex.css\u001b[39m\u001b[22m 14.7 KiB \u001b[1m\u001b[32mindex.js\u001b[39m\u001b[22m 0 bytes\n",
      "\u001b[1m./node_modules/@jupyterlab/theme-light-extension/style/theme.css\u001b[39m\u001b[22m 50 bytes \u001b[1m\u001b[33m[built]\u001b[39m\u001b[22m \u001b[1m\u001b[33m[code generated]\u001b[39m\u001b[22m\n",
      "ytes \u001b[1m\u001b[33m[code generated]\u001b[39m\u001b[22m\n",
      "webpack 5.64.1 compiled \u001b[1m\u001b[32msuccessfully\u001b[39m\u001b[22m in 2626 ms\n",
      "\u001b[32m[I 2021-11-22 12:44:45.150 ServerApp]\u001b[m jupyterlab | extension was successfully loaded.\n",
      "\u001b[32m[I 2021-11-22 12:44:45.158 ServerApp]\u001b[m nbclassic | extension was successfully loaded.\n",
      "\u001b[32m[I 2021-11-22 12:44:45.158 ServerApp]\u001b[m Serving notebooks from local directory: /Users/ksenia.kozlova/Documents/GitHub/pma_grant\n",
      "\u001b[32m[I 2021-11-22 12:44:45.158 ServerApp]\u001b[m Jupyter Server 1.6.0 is running at:\n",
      "\u001b[32m[I 2021-11-22 12:44:45.158 ServerApp]\u001b[m http://localhost:8889/lab?token=4ee4e8ae48423d31c0f97ce6fe4a242e50414119f9b6212b\n",
      "\u001b[32m[I 2021-11-22 12:44:45.158 ServerApp]\u001b[m     http://127.0.0.1:8889/lab?token=4ee4e8ae48423d31c0f97ce6fe4a242e50414119f9b6212b\n",
      "\u001b[32m[I 2021-11-22 12:44:45.158 ServerApp]\u001b[m Use Control-C to stop this server and shut down all kernels (twice to skip confirmation).\n",
      "\u001b[35m[C 2021-11-22 12:44:45.170 ServerApp]\u001b[m \n",
      "    \n",
      "    To access the server, open this file in a browser:\n",
      "        file:///Users/ksenia.kozlova/Library/Jupyter/runtime/jpserver-70638-open.html\n",
      "    Or copy and paste one of these URLs:\n",
      "        http://localhost:8889/lab?token=4ee4e8ae48423d31c0f97ce6fe4a242e50414119f9b6212b\n",
      "        http://127.0.0.1:8889/lab?token=4ee4e8ae48423d31c0f97ce6fe4a242e50414119f9b6212b\n",
      "\u001b[33m[W 2021-11-22 12:45:07.501 ServerApp]\u001b[m Notebook pMA_v4.ipynb is not trusted\n",
      "\u001b[32m[I 2021-11-22 12:45:09.482 ServerApp]\u001b[m Kernel started: 0d7ee361-700a-4e80-afec-d034d439bee9\n"
     ]
    },
    {
     "name": "stdout",
     "output_type": "stream",
     "text": [
      "\u001b[33m[W 2021-11-22 12:46:31.516 ServerApp]\u001b[m Notebook pMA_v5_auto_part_2.ipynb is not trusted\n",
      "\u001b[32m[I 2021-11-22 12:46:33.984 ServerApp]\u001b[m Kernel started: 7d96986c-83dd-4a8a-97ea-f2d840b3a2f5\n",
      "\u001b[32m[I 2021-11-22 12:48:32.503 ServerApp]\u001b[m Saving file at /pMA_v5_auto_part_2.ipynb\n",
      "\u001b[33m[W 2021-11-22 12:48:32.504 ServerApp]\u001b[m Notebook pMA_v5_auto_part_2.ipynb is not trusted\n",
      "\u001b[32m[I 2021-11-22 12:49:10.994 ServerApp]\u001b[m Saving file at /pMA_v4.ipynb\n",
      "\u001b[33m[W 2021-11-22 12:49:10.995 ServerApp]\u001b[m Notebook pMA_v4.ipynb is not trusted\n",
      "\u001b[32m[I 2021-11-22 12:50:32.653 ServerApp]\u001b[m Saving file at /pMA_v5_auto_part_2.ipynb\n",
      "\u001b[33m[W 2021-11-22 12:50:32.654 ServerApp]\u001b[m Notebook pMA_v5_auto_part_2.ipynb is not trusted\n",
      "\u001b[32m[I 2021-11-22 12:52:32.830 ServerApp]\u001b[m Saving file at /pMA_v5_auto_part_2.ipynb\n",
      "\u001b[33m[W 2021-11-22 12:52:32.831 ServerApp]\u001b[m Notebook pMA_v5_auto_part_2.ipynb is not trusted\n",
      "\u001b[32m[I 2021-11-22 12:54:33.039 ServerApp]\u001b[m Saving file at /pMA_v5_auto_part_2.ipynb\n",
      "\u001b[33m[W 2021-11-22 12:54:33.040 ServerApp]\u001b[m Notebook pMA_v5_auto_part_2.ipynb is not trusted\n",
      "\u001b[32m[I 2021-11-22 12:56:33.231 ServerApp]\u001b[m Saving file at /pMA_v5_auto_part_2.ipynb\n",
      "\u001b[33m[W 2021-11-22 12:56:33.232 ServerApp]\u001b[m Notebook pMA_v5_auto_part_2.ipynb is not trusted\n",
      "\u001b[32m[I 2021-11-22 12:58:33.392 ServerApp]\u001b[m Saving file at /pMA_v5_auto_part_2.ipynb\n",
      "\u001b[33m[W 2021-11-22 12:58:33.393 ServerApp]\u001b[m Notebook pMA_v5_auto_part_2.ipynb is not trusted\n",
      "\u001b[32m[I 2021-11-22 13:00:33.520 ServerApp]\u001b[m Saving file at /pMA_v5_auto_part_2.ipynb\n",
      "\u001b[33m[W 2021-11-22 13:00:33.521 ServerApp]\u001b[m Notebook pMA_v5_auto_part_2.ipynb is not trusted\n",
      "\u001b[32m[I 2021-11-22 13:02:33.713 ServerApp]\u001b[m Saving file at /pMA_v5_auto_part_2.ipynb\n",
      "\u001b[33m[W 2021-11-22 13:02:33.714 ServerApp]\u001b[m Notebook pMA_v5_auto_part_2.ipynb is not trusted\n",
      "\u001b[32m[I 2021-11-22 13:04:33.895 ServerApp]\u001b[m Saving file at /pMA_v5_auto_part_2.ipynb\n",
      "\u001b[33m[W 2021-11-22 13:04:33.896 ServerApp]\u001b[m Notebook pMA_v5_auto_part_2.ipynb is not trusted\n",
      "\u001b[32m[I 2021-11-22 13:06:34.049 ServerApp]\u001b[m Saving file at /pMA_v5_auto_part_2.ipynb\n",
      "\u001b[33m[W 2021-11-22 13:06:34.050 ServerApp]\u001b[m Notebook pMA_v5_auto_part_2.ipynb is not trusted\n",
      "\u001b[32m[I 2021-11-22 13:08:34.203 ServerApp]\u001b[m Saving file at /pMA_v5_auto_part_2.ipynb\n",
      "\u001b[33m[W 2021-11-22 13:08:34.205 ServerApp]\u001b[m Notebook pMA_v5_auto_part_2.ipynb is not trusted\n",
      "\u001b[32m[I 2021-11-22 13:10:34.547 ServerApp]\u001b[m Saving file at /pMA_v5_auto_part_2.ipynb\n",
      "\u001b[33m[W 2021-11-22 13:10:34.548 ServerApp]\u001b[m Notebook pMA_v5_auto_part_2.ipynb is not trusted\n",
      "\u001b[32m[I 2021-11-22 13:12:34.740 ServerApp]\u001b[m Saving file at /pMA_v5_auto_part_2.ipynb\n",
      "\u001b[33m[W 2021-11-22 13:12:34.741 ServerApp]\u001b[m Notebook pMA_v5_auto_part_2.ipynb is not trusted\n",
      "\u001b[32m[I 2021-11-22 13:14:34.929 ServerApp]\u001b[m Saving file at /pMA_v5_auto_part_2.ipynb\n",
      "\u001b[33m[W 2021-11-22 13:14:34.931 ServerApp]\u001b[m Notebook pMA_v5_auto_part_2.ipynb is not trusted\n",
      "\u001b[32m[I 2021-11-22 13:15:12.023 ServerApp]\u001b[m Saving file at /pMA_v4.ipynb\n",
      "\u001b[33m[W 2021-11-22 13:15:12.024 ServerApp]\u001b[m Notebook pMA_v4.ipynb is not trusted\n"
     ]
    }
   ],
   "source": [
    "!jupyter lab --watch"
   ]
  },
  {
   "cell_type": "code",
   "execution_count": 1,
   "metadata": {
    "id": "0eYwgaKTgEPQ"
   },
   "outputs": [
    {
     "ename": "KeyError",
     "evalue": "'widgets'",
     "output_type": "error",
     "traceback": [
      "\u001b[0;31m---------------------------------------------------------------------------\u001b[0m",
      "\u001b[0;31mKeyError\u001b[0m                                  Traceback (most recent call last)",
      "\u001b[0;32m<ipython-input-1-6885d801d9ca>\u001b[0m in \u001b[0;36m<module>\u001b[0;34m\u001b[0m\n\u001b[1;32m     14\u001b[0m \u001b[0;34m\u001b[0m\u001b[0m\n\u001b[1;32m     15\u001b[0m \u001b[0;31m#%matplotlib notebook\u001b[0m\u001b[0;34m\u001b[0m\u001b[0;34m\u001b[0m\u001b[0;34m\u001b[0m\u001b[0m\n\u001b[0;32m---> 16\u001b[0;31m \u001b[0mget_ipython\u001b[0m\u001b[0;34m(\u001b[0m\u001b[0;34m)\u001b[0m\u001b[0;34m.\u001b[0m\u001b[0mrun_line_magic\u001b[0m\u001b[0;34m(\u001b[0m\u001b[0;34m'matplotlib'\u001b[0m\u001b[0;34m,\u001b[0m \u001b[0;34m'widgets'\u001b[0m\u001b[0;34m)\u001b[0m\u001b[0;34m\u001b[0m\u001b[0;34m\u001b[0m\u001b[0m\n\u001b[0m",
      "\u001b[0;32m/opt/anaconda3/lib/python3.8/site-packages/IPython/core/interactiveshell.py\u001b[0m in \u001b[0;36mrun_line_magic\u001b[0;34m(self, magic_name, line, _stack_depth)\u001b[0m\n\u001b[1;32m   2325\u001b[0m                 \u001b[0mkwargs\u001b[0m\u001b[0;34m[\u001b[0m\u001b[0;34m'local_ns'\u001b[0m\u001b[0;34m]\u001b[0m \u001b[0;34m=\u001b[0m \u001b[0mself\u001b[0m\u001b[0;34m.\u001b[0m\u001b[0mget_local_scope\u001b[0m\u001b[0;34m(\u001b[0m\u001b[0mstack_depth\u001b[0m\u001b[0;34m)\u001b[0m\u001b[0;34m\u001b[0m\u001b[0;34m\u001b[0m\u001b[0m\n\u001b[1;32m   2326\u001b[0m             \u001b[0;32mwith\u001b[0m \u001b[0mself\u001b[0m\u001b[0;34m.\u001b[0m\u001b[0mbuiltin_trap\u001b[0m\u001b[0;34m:\u001b[0m\u001b[0;34m\u001b[0m\u001b[0;34m\u001b[0m\u001b[0m\n\u001b[0;32m-> 2327\u001b[0;31m                 \u001b[0mresult\u001b[0m \u001b[0;34m=\u001b[0m \u001b[0mfn\u001b[0m\u001b[0;34m(\u001b[0m\u001b[0;34m*\u001b[0m\u001b[0margs\u001b[0m\u001b[0;34m,\u001b[0m \u001b[0;34m**\u001b[0m\u001b[0mkwargs\u001b[0m\u001b[0;34m)\u001b[0m\u001b[0;34m\u001b[0m\u001b[0;34m\u001b[0m\u001b[0m\n\u001b[0m\u001b[1;32m   2328\u001b[0m             \u001b[0;32mreturn\u001b[0m \u001b[0mresult\u001b[0m\u001b[0;34m\u001b[0m\u001b[0;34m\u001b[0m\u001b[0m\n\u001b[1;32m   2329\u001b[0m \u001b[0;34m\u001b[0m\u001b[0m\n",
      "\u001b[0;32m<decorator-gen-101>\u001b[0m in \u001b[0;36mmatplotlib\u001b[0;34m(self, line)\u001b[0m\n",
      "\u001b[0;32m/opt/anaconda3/lib/python3.8/site-packages/IPython/core/magic.py\u001b[0m in \u001b[0;36m<lambda>\u001b[0;34m(f, *a, **k)\u001b[0m\n\u001b[1;32m    185\u001b[0m     \u001b[0;31m# but it's overkill for just that one bit of state.\u001b[0m\u001b[0;34m\u001b[0m\u001b[0;34m\u001b[0m\u001b[0;34m\u001b[0m\u001b[0m\n\u001b[1;32m    186\u001b[0m     \u001b[0;32mdef\u001b[0m \u001b[0mmagic_deco\u001b[0m\u001b[0;34m(\u001b[0m\u001b[0marg\u001b[0m\u001b[0;34m)\u001b[0m\u001b[0;34m:\u001b[0m\u001b[0;34m\u001b[0m\u001b[0;34m\u001b[0m\u001b[0m\n\u001b[0;32m--> 187\u001b[0;31m         \u001b[0mcall\u001b[0m \u001b[0;34m=\u001b[0m \u001b[0;32mlambda\u001b[0m \u001b[0mf\u001b[0m\u001b[0;34m,\u001b[0m \u001b[0;34m*\u001b[0m\u001b[0ma\u001b[0m\u001b[0;34m,\u001b[0m \u001b[0;34m**\u001b[0m\u001b[0mk\u001b[0m\u001b[0;34m:\u001b[0m \u001b[0mf\u001b[0m\u001b[0;34m(\u001b[0m\u001b[0;34m*\u001b[0m\u001b[0ma\u001b[0m\u001b[0;34m,\u001b[0m \u001b[0;34m**\u001b[0m\u001b[0mk\u001b[0m\u001b[0;34m)\u001b[0m\u001b[0;34m\u001b[0m\u001b[0;34m\u001b[0m\u001b[0m\n\u001b[0m\u001b[1;32m    188\u001b[0m \u001b[0;34m\u001b[0m\u001b[0m\n\u001b[1;32m    189\u001b[0m         \u001b[0;32mif\u001b[0m \u001b[0mcallable\u001b[0m\u001b[0;34m(\u001b[0m\u001b[0marg\u001b[0m\u001b[0;34m)\u001b[0m\u001b[0;34m:\u001b[0m\u001b[0;34m\u001b[0m\u001b[0;34m\u001b[0m\u001b[0m\n",
      "\u001b[0;32m/opt/anaconda3/lib/python3.8/site-packages/IPython/core/magics/pylab.py\u001b[0m in \u001b[0;36mmatplotlib\u001b[0;34m(self, line)\u001b[0m\n\u001b[1;32m     97\u001b[0m             \u001b[0mprint\u001b[0m\u001b[0;34m(\u001b[0m\u001b[0;34m\"Available matplotlib backends: %s\"\u001b[0m \u001b[0;34m%\u001b[0m \u001b[0mbackends_list\u001b[0m\u001b[0;34m)\u001b[0m\u001b[0;34m\u001b[0m\u001b[0;34m\u001b[0m\u001b[0m\n\u001b[1;32m     98\u001b[0m         \u001b[0;32melse\u001b[0m\u001b[0;34m:\u001b[0m\u001b[0;34m\u001b[0m\u001b[0;34m\u001b[0m\u001b[0m\n\u001b[0;32m---> 99\u001b[0;31m             \u001b[0mgui\u001b[0m\u001b[0;34m,\u001b[0m \u001b[0mbackend\u001b[0m \u001b[0;34m=\u001b[0m \u001b[0mself\u001b[0m\u001b[0;34m.\u001b[0m\u001b[0mshell\u001b[0m\u001b[0;34m.\u001b[0m\u001b[0menable_matplotlib\u001b[0m\u001b[0;34m(\u001b[0m\u001b[0margs\u001b[0m\u001b[0;34m.\u001b[0m\u001b[0mgui\u001b[0m\u001b[0;34m.\u001b[0m\u001b[0mlower\u001b[0m\u001b[0;34m(\u001b[0m\u001b[0;34m)\u001b[0m \u001b[0;32mif\u001b[0m \u001b[0misinstance\u001b[0m\u001b[0;34m(\u001b[0m\u001b[0margs\u001b[0m\u001b[0;34m.\u001b[0m\u001b[0mgui\u001b[0m\u001b[0;34m,\u001b[0m \u001b[0mstr\u001b[0m\u001b[0;34m)\u001b[0m \u001b[0;32melse\u001b[0m \u001b[0margs\u001b[0m\u001b[0;34m.\u001b[0m\u001b[0mgui\u001b[0m\u001b[0;34m)\u001b[0m\u001b[0;34m\u001b[0m\u001b[0;34m\u001b[0m\u001b[0m\n\u001b[0m\u001b[1;32m    100\u001b[0m             \u001b[0mself\u001b[0m\u001b[0;34m.\u001b[0m\u001b[0m_show_matplotlib_backend\u001b[0m\u001b[0;34m(\u001b[0m\u001b[0margs\u001b[0m\u001b[0;34m.\u001b[0m\u001b[0mgui\u001b[0m\u001b[0;34m,\u001b[0m \u001b[0mbackend\u001b[0m\u001b[0;34m)\u001b[0m\u001b[0;34m\u001b[0m\u001b[0;34m\u001b[0m\u001b[0m\n\u001b[1;32m    101\u001b[0m \u001b[0;34m\u001b[0m\u001b[0m\n",
      "\u001b[0;32m/opt/anaconda3/lib/python3.8/site-packages/IPython/core/interactiveshell.py\u001b[0m in \u001b[0;36menable_matplotlib\u001b[0;34m(self, gui)\u001b[0m\n\u001b[1;32m   3492\u001b[0m         \"\"\"\n\u001b[1;32m   3493\u001b[0m         \u001b[0;32mfrom\u001b[0m \u001b[0mIPython\u001b[0m\u001b[0;34m.\u001b[0m\u001b[0mcore\u001b[0m \u001b[0;32mimport\u001b[0m \u001b[0mpylabtools\u001b[0m \u001b[0;32mas\u001b[0m \u001b[0mpt\u001b[0m\u001b[0;34m\u001b[0m\u001b[0;34m\u001b[0m\u001b[0m\n\u001b[0;32m-> 3494\u001b[0;31m         \u001b[0mgui\u001b[0m\u001b[0;34m,\u001b[0m \u001b[0mbackend\u001b[0m \u001b[0;34m=\u001b[0m \u001b[0mpt\u001b[0m\u001b[0;34m.\u001b[0m\u001b[0mfind_gui_and_backend\u001b[0m\u001b[0;34m(\u001b[0m\u001b[0mgui\u001b[0m\u001b[0;34m,\u001b[0m \u001b[0mself\u001b[0m\u001b[0;34m.\u001b[0m\u001b[0mpylab_gui_select\u001b[0m\u001b[0;34m)\u001b[0m\u001b[0;34m\u001b[0m\u001b[0;34m\u001b[0m\u001b[0m\n\u001b[0m\u001b[1;32m   3495\u001b[0m \u001b[0;34m\u001b[0m\u001b[0m\n\u001b[1;32m   3496\u001b[0m         \u001b[0;32mif\u001b[0m \u001b[0mgui\u001b[0m \u001b[0;34m!=\u001b[0m \u001b[0;34m'inline'\u001b[0m\u001b[0;34m:\u001b[0m\u001b[0;34m\u001b[0m\u001b[0;34m\u001b[0m\u001b[0m\n",
      "\u001b[0;32m/opt/anaconda3/lib/python3.8/site-packages/IPython/core/pylabtools.py\u001b[0m in \u001b[0;36mfind_gui_and_backend\u001b[0;34m(gui, gui_select)\u001b[0m\n\u001b[1;32m    282\u001b[0m     \u001b[0;32mif\u001b[0m \u001b[0mgui\u001b[0m \u001b[0;32mand\u001b[0m \u001b[0mgui\u001b[0m \u001b[0;34m!=\u001b[0m \u001b[0;34m'auto'\u001b[0m\u001b[0;34m:\u001b[0m\u001b[0;34m\u001b[0m\u001b[0;34m\u001b[0m\u001b[0m\n\u001b[1;32m    283\u001b[0m         \u001b[0;31m# select backend based on requested gui\u001b[0m\u001b[0;34m\u001b[0m\u001b[0;34m\u001b[0m\u001b[0;34m\u001b[0m\u001b[0m\n\u001b[0;32m--> 284\u001b[0;31m         \u001b[0mbackend\u001b[0m \u001b[0;34m=\u001b[0m \u001b[0mbackends\u001b[0m\u001b[0;34m[\u001b[0m\u001b[0mgui\u001b[0m\u001b[0;34m]\u001b[0m\u001b[0;34m\u001b[0m\u001b[0;34m\u001b[0m\u001b[0m\n\u001b[0m\u001b[1;32m    285\u001b[0m         \u001b[0;32mif\u001b[0m \u001b[0mgui\u001b[0m \u001b[0;34m==\u001b[0m \u001b[0;34m'agg'\u001b[0m\u001b[0;34m:\u001b[0m\u001b[0;34m\u001b[0m\u001b[0;34m\u001b[0m\u001b[0m\n\u001b[1;32m    286\u001b[0m             \u001b[0mgui\u001b[0m \u001b[0;34m=\u001b[0m \u001b[0;32mNone\u001b[0m\u001b[0;34m\u001b[0m\u001b[0;34m\u001b[0m\u001b[0m\n",
      "\u001b[0;31mKeyError\u001b[0m: 'widgets'"
     ]
    }
   ],
   "source": [
    "import numpy as np\n",
    "import mne\n",
    "from tqdm.notebook import tqdm\n",
    "import pandas as pd\n",
    "import matplotlib.pyplot as plt\n",
    "from sklearn.metrics import auc\n",
    "import warnings\n",
    "warnings.filterwarnings('ignore')\n",
    "from oauth2client.service_account import ServiceAccountCredentials\n",
    "import gspread_dataframe as gsp\n",
    "import gspread\n",
    "from ipywidgets import widgets  \n",
    "from ipywidgets import interact, interactive, fixed, interact_manual \n",
    "\n",
    "#%matplotlib notebook\n",
    "%matplotlib widgets"
   ]
  },
  {
   "cell_type": "markdown",
   "metadata": {
    "id": "Y4ZE3YixgEPR"
   },
   "source": [
    "__2. Run functions__"
   ]
  },
  {
   "cell_type": "code",
   "execution_count": 2,
   "metadata": {
    "id": "rQolN0BWh-jS"
   },
   "outputs": [],
   "source": [
    "# To work with google sheets\n",
    "#key_path = '/Users/ksenia.kozlova/Documents/GitHub/pma_grant'\n",
    "\n",
    "def find_movement(data, time, mscl, window, thrs, thrs2, positive):\n",
    "    '''Find movement\n",
    "\n",
    "    arguments: \n",
    "      raw: DataFrame, filtered emg\n",
    "      time: list with [start, end], contains start and end of raw data to analise\n",
    "      mscl: str, name of EMG chanel\n",
    "      window: int, window size in ms \n",
    "      thrs: int, threshold in uV to find movement start in the whole signal\n",
    "      thrs2:  int, threshold in uV to find more accurate movement start/end moment in the window \n",
    "          where movement started/ended based in thrs\n",
    "      positive: float, percentage of ticks in the window which should be more or eaqual\n",
    "          to thrs/thrs2\n",
    "    '''\n",
    "    \n",
    "    # 0. Select data\n",
    "    # ms to select time window to find movement start (ms)\n",
    "    try:\n",
    "        start = time[0]\n",
    "        end=time[1]\n",
    "    except:\n",
    "        start = time[0]\n",
    "        end = raw.to_data_frame().time.max()\n",
    "        \n",
    "    dat = data[(data.time>=start)&(data.time<=end)]\n",
    "            \n",
    "    # NEW 1. Sliding window to check condition \n",
    "    y = abs(dat[mscl]).reset_index(drop=True)\n",
    "    w_ms = window\n",
    "    w_ticks = w_ms * 5\n",
    "\n",
    "    a = y >= thrs\n",
    "\n",
    "    s = np.zeros(len(a)-w_ticks+1, dtype=int)\n",
    "\n",
    "    s[0] = np.sum(a[:w_ticks])\n",
    "\n",
    "    for i in tqdm(range(1, len(s), 1)):\n",
    "        s[i] = s[i-1] - a[i-1] + a[i+w_ticks-1]\n",
    "\n",
    "    cond_result = s >= (w_ticks * positive)\n",
    "    time = dat.time[:len(dat)-w_ticks+1]\n",
    "    \n",
    "      \n",
    "\n",
    "    # 2. Find \"start\" and \"end\" of movement\n",
    "    result3 = pd.DataFrame({'times':time, 'result':cond_result})\n",
    "    result3['previous'] = result3.result.shift(1)\n",
    "    result3['change'] = result3.result - result3.previous\n",
    "\n",
    "    trig = result3[result3.change.isin([1,-1])].reset_index(drop=True)\n",
    "    trig['movement'] = np.where(trig.change==1, 'start', 'end')\n",
    "\n",
    "\n",
    "\n",
    "    # 3. select times in the suitable windows preciselly \n",
    "    res = []\n",
    "    for tr in trig.times:\n",
    "        wnd = np.abs(dat[(dat.time>=tr)&(dat.time<=tr+window)])\n",
    "\n",
    "        if trig[trig.times==tr].movement.values[0] == 'start':\n",
    "            # select time when uV achived thrs first\n",
    "            first = wnd[wnd[mscl]>=thrs2].time.min()\n",
    "            res.append([first,trig[trig.times==tr].movement.values[0]])\n",
    "        else: \n",
    "            last = wnd[wnd[mscl]>=thrs2].time.max()\n",
    "            res.append([last,trig[trig.times==tr].movement.values[0]])\n",
    "        \n",
    "    markup = pd.DataFrame(res)\n",
    "    if markup.shape[1]>1:\n",
    "        markup.columns = ['time','name']\n",
    "    else:\n",
    "        pass\n",
    "        \n",
    "    return markup, dat\n",
    "\n",
    "def plot_signal(data, movement_time, mscl):\n",
    "    \"\"\"\n",
    "    Interactive plot to see movement start closer\n",
    "\n",
    "    Arguments:\n",
    "      data: DataFrame with EMG by channels\n",
    "      movement_time: array with times of movement start/end\n",
    "    \"\"\"\n",
    "\n",
    "    fig, (ax0) = plt.subplots(nrows=1)\n",
    "    for r in movement_time:\n",
    "        ax0.axvline(x=r, color='r')\n",
    "\n",
    "    ax0.plot(data.time, data[mscl], label='signal')\n",
    "    ax0.legend()\n",
    "    \n",
    "    \n",
    "def plot_emg_events(raw, movement_time):\n",
    "    \"\"\"\n",
    "    MNE Interactive plot to see whole EMG with movement time markups\n",
    "\n",
    "    Arguments:\n",
    "      raw: emg file\n",
    "      movement_time: array with times of movement start/end\n",
    "    \"\"\"\n",
    "    # create event list from movemet_times and name each event with order number\n",
    "    events = pd.DataFrame({'time':np.array(movement_time)*5, 'event_value':1, 'event_name':list(range(1,len(np.array(movement_time))+1))})\n",
    "    filt = np.array([50, 100, 150, 200])\n",
    "    notch = raw.notch_filter(freqs=filt, verbose=False) #filter\n",
    "    notch.plot(n_channels=1, event_color='red', \n",
    "             events=np.array(events), \n",
    "             scalings=1e-3, \n",
    "             highpass=20, lowpass=1000)\n",
    "    \n",
    "def create_events(movement_time):\n",
    "    \"\"\"\n",
    "    Creates event list from movemet_times and name each event with order number\n",
    "\n",
    "    Arguments:\n",
    "      movement_time: array with times of movement start/end\n",
    "    \"\"\"\n",
    "    events = pd.DataFrame({'time':np.array(movement_time), 'event_value':1, 'event_name':list(range(1,len(np.array(movement_time))+1))})\n",
    "    return events\n",
    "\n",
    "    \n",
    "\n",
    "\n",
    "\n",
    "def adjust_movements(ev):\n",
    "    \"\"\"\n",
    "    Interactive program based on widgets to Manually adjast Algo movement markups\n",
    "\n",
    "    Arguments:\n",
    "      ev: array with time of movement markups which are need to be adjasted\n",
    "    \"\"\"\n",
    "    \n",
    "    #raw file to dataframe\n",
    "    data = raw.filter(l_freq=20, h_freq=1000, verbose=False).to_data_frame()\n",
    "    \n",
    "    # create widget to list events with button 'next event'\n",
    "    button=widgets.Button(\n",
    "        value=False,\n",
    "        description='Next event',\n",
    "        disabled=False,\n",
    "        button_style='', # 'success', 'info', 'warning', 'danger' or ''\n",
    "        tooltip='Description',\n",
    "        icon='Saved' # (FontAwesome names without the `fa-` prefix)\n",
    "                        )\n",
    "\n",
    "    \n",
    "    l = [] # for loop - indexes list of redo events \n",
    "    new_ts = [] # list to save new times stamp\n",
    "\n",
    "    def plus(sender):\n",
    "        l.append(1)\n",
    "        index = np.array(l).sum()\n",
    "        try:\n",
    "            \n",
    "            # create windget to Change event position\n",
    "            w = widgets.FloatText(\n",
    "            value=ev[index-1],\n",
    "            min=ev[index-1]-800,\n",
    "            max=ev[index-1]+3000,\n",
    "            step=5,\n",
    "            description='New Value uV:',\n",
    "            disabled=False,\n",
    "            continuous_update=False,\n",
    "            orientation='horizontal',\n",
    "            )\n",
    "            \n",
    "            # function for visualisation of new timestamp based on windget to Change event position\n",
    "            def f(x):\n",
    "                fig, (ax0) = plt.subplots(nrows=1)\n",
    "                ax0.axvline(x=x, color='r')\n",
    "                ax0.plot(data[(data.time>=ev[index-1]-800)&(data.time<=ev[index-1]+3000)].time, \n",
    "                         data[(data.time>=ev[index-1]-800)&(data.time<=ev[index-1]+3000)][mscl], label='signal') \n",
    "\n",
    "            \n",
    "            # create Button to save new position\n",
    "            b=widgets.Button(\n",
    "                value=False,\n",
    "                description='Save timestamp',\n",
    "                disabled=False,\n",
    "                button_style='', # 'success', 'info', 'warning', 'danger' or ''\n",
    "                tooltip='Description',\n",
    "                icon='Saved' # (FontAwesome names without the `fa-` prefix)\n",
    "                )\n",
    "            \n",
    "            \n",
    "            saved_ts=[] # new timestamp list\n",
    "            \n",
    "            # function of button 'save timestemp' - it saves new value to the list\n",
    "            def but(sender):\n",
    "                saved_ts.append(w.value)\n",
    "\n",
    "            b.on_click(but)\n",
    "            display(b,interactive(f, x=w))\n",
    "            new_ts.append(saved_ts)\n",
    "            \n",
    "        except Exception as e:\n",
    "            print(\"You finished\")\n",
    "\n",
    "\n",
    "    button.on_click(plus)\n",
    "   \n",
    "\n",
    "    \n",
    "    return display(button),new_ts\n",
    "\n",
    "\n",
    "# 1. SET UP GOOGLE SHEET API\n",
    "# ----------- CHANGE CREADENTIALS LOCATION ------------------------\n",
    "\n",
    "# #current_dir = '/content'\n",
    "# current_dir = key_path\n",
    "# GSPREAD_KEYS_PATH = current_dir + '/esoteric-pad-326113-4ab241befdd8.json' # this is the directory where your file with key located\n",
    " \n",
    "\n",
    "# # Some functions for authorizing (no need to change something here)\n",
    "# def authorize_at_gspread(gspread_key_path=GSPREAD_KEYS_PATH):\n",
    "#     \"\"\"\n",
    "#     Return authorized gspread object\n",
    "#     :param gspread_key_path: path to credentials key\n",
    "#     :return: gc object\n",
    "#     \"\"\"\n",
    "#     scope = ['https://spreadsheets.google.com/feeds']\n",
    "#     credentials = ServiceAccountCredentials.from_json_keyfile_name(GSPREAD_KEYS_PATH, scope)\n",
    "#     gc = gspread.authorize(credentials)\n",
    "#     return gc\n",
    "# # authorization\n",
    "# authorize_at_gspread()\n",
    "\n",
    "\n",
    "# 2. Function for particular sheet connection\n",
    "# def get_workbook(workbook_url, gspread_key_path=GSPREAD_KEYS_PATH):\n",
    "#     \"\"\" Returns GSPREAD object with opened workbook.\n",
    "#     Just open worksheet by referring to .worksheet(name) or use gspread_dataframe to load dataframe.\n",
    "#     \"\"\"\n",
    "#     gc = authorize_at_gspread(gspread_key_path=gspread_key_path)\n",
    "#     return gc.open_by_url(workbook_url)\n",
    "\n",
    "\n",
    "# Damir - to write to a sheet fucntion\n",
    "# def tospreadsheet (df, workbook_link, header = 'Title', key = 'new'):\n",
    "#     \"\"\"Import dataframe to google spreadsheet by link\n",
    "#     Args: \n",
    "#         df: imported dataframe\n",
    "#         workbook: link to dataframe\n",
    "#         header: header of worksheet \n",
    "#         key: default 'new'\n",
    "#         if you want to use existing worksheet pass 'to existing sheet'\n",
    "\n",
    "#     \"\"\"\n",
    "#     if key == 'new':\n",
    "#         workbook = get_workbook(workbook_link)\n",
    "#         wks = workbook.add_worksheet(header, len(df.index),len(df.columns))\n",
    "#         gsp.set_with_dataframe(wks, df, row = 1, col =1, include_column_header=True)\n",
    "\n",
    "#     elif key == 'existing':\n",
    "#         workbook = get_workbook(workbook)\n",
    "#         wks = workbook.worksheet(header)\n",
    "#         gsp.set_with_dataframe(wks, df, row = 1, col =1, include_column_header=True)\n",
    "        \n",
    "\n",
    "def gsheet(header,new_t,bad,slow, sheet=False):\n",
    "    \n",
    "    new = pd.DataFrame({'events_to_correct':redo})\n",
    "    new2=pd.concat([new, pd.DataFrame(new_t[1])], axis=1).set_index('events_to_correct')\n",
    "\n",
    "    result = movement_time[['name','time']]\n",
    "    result['event_name'] = result.reset_index()['index']+1\n",
    "    result = result.set_index('event_name')\n",
    "\n",
    "    final = pd.concat([result,new2],axis=1)\n",
    "    final['muscle'] = mscl\n",
    "    final['file'] = path[-20:path.find('.vhdr')][path[-20:path.find('.vhdr')].find('/')+1:]\n",
    "    #final_corrected_movement_time = last filled column before \"muscle\" column\n",
    "    final['final_corrected_movement_time'] = final.apply(lambda x: x.iloc[(x.dropna().to_frame().transpose().columns.get_loc('muscle'))-1],axis=1)\n",
    "\n",
    "    #add Bad and Slow lables\n",
    "    final['slow'] = pd.DataFrame({'index':slow, 'Slow':True}).set_index('index')\n",
    "    final['bad'] = pd.DataFrame({'index':bad, 'Bad':True}).set_index('index')\n",
    "    \n",
    "    link = 'https://docs.google.com/spreadsheets/d/1g0wJeyONCuivtppNc352MBkBIyOgY7FxkQq5XgaBjsg/edit?usp=sharing'\n",
    "\n",
    "    if sheet == True:\n",
    "        pass\n",
    "        #tospreadsheet(final, link, header)\n",
    "    elif sheet == False:\n",
    "        file = header + '.xls'\n",
    "        final.to_excel(file)\n",
    "        print('Movement data saved to file ', file)\n",
    "\n",
    "    return final\n",
    "\n",
    "\n",
    "#PMA functions\n",
    "\n",
    "def envelop(time, mscl, data, sub_window_size):\n",
    "    \"\"\"\n",
    "    time: list, time where calculate envelop\n",
    "    mscl: str\n",
    "    data: df\n",
    "    subwindow_size: int, ms for envelop\n",
    "    \"\"\"\n",
    "    \n",
    "    start = time[0]\n",
    "    end = time[1]    \n",
    "    array = np.array(data[mscl])\n",
    "    \n",
    "    start_index = data[data.time>=start].index.min()\n",
    "    end_index = data[data.time<=end].index.max()    \n",
    "        \n",
    "        \n",
    "    sub_windows = (\n",
    "        start_index + \n",
    "        # *5 cos 5k HZ\n",
    "        np.expand_dims(np.arange(sub_window_size*5), 0) +\n",
    "        # +2 to not mess last 2 indexes; subtraction of sub_window_size to avoid extra indexes missed in data array\n",
    "        np.expand_dims(np.arange(end_index - start_index - sub_window_size*5 + 2), 0).T\n",
    "        )\n",
    "    \n",
    "    envelop = pd.DataFrame(array[sub_windows]).apply(lambda x: (abs(x)).max(), axis = 1)\n",
    "    \n",
    "    return envelop\n",
    "\n",
    "def pma_find_preact_thrs(sheet, data, preactivation_time, mscl):\n",
    "    \"\"\"\n",
    "    sheet: df, data about movement from sheet with correected time\n",
    "    data: df, raw emg data\n",
    "    preactivation_time: int, is ms for preactivation window analisys\n",
    "    mscl: str, name of channel\n",
    "    \"\"\"\n",
    "    # extract movement start corrected\n",
    "    movement_time_cor = sheet[sheet.name=='start'].final_corrected_movement_time\n",
    "    windows = data[data.time.isin(movement_time_cor)].index\n",
    "    each_five = list(range(0,len(windows),5)) #select each 1st index among 5 indexes with te same time (5000 hz) \n",
    "    # find inndex for movement\n",
    "    movemenet_start_index = windows[each_five]\n",
    "    #get trial and its slow lable\n",
    "    slow_trial_list = sheet[['trial_number','slow']].drop_duplicates().slow\n",
    "    #save all inffor to df\n",
    "    preactivation_boards_list = pd.DataFrame({'start_time':np.array(data.time)[movemenet_start_index-preactivation_time*5],\n",
    "                         'end_time':np.array(data.time)[movemenet_start_index],\n",
    "                        'Trial number':sheet.trial_number.unique(),\n",
    "                        'Is slow':slow_trial_list})\n",
    "    \n",
    "    thrss = []\n",
    "    # go through [start, end] times in preactivation\n",
    "    for preact_time in np.array(preactivation_boards_list):\n",
    "        env = envelop(preact_time, mscl, data, 50)\n",
    "        thrs = env.mean() + env.std()*2\n",
    "        \n",
    "        # saves thr, original trial number and slow lable\n",
    "        thrss.append([thrs, preact_time[2], preact_time[3] ])\n",
    "        \n",
    "    return pd.DataFrame(thrss)\n",
    "        \n",
    "def get_movement_indexes(sheet, name, df):\n",
    "    \"\"\"\n",
    "    sheet: df from sheet with 'final_corrected_movement_time' column\n",
    "    name: str, time name from sheet start/end of movement\n",
    "    df: raw.to_data_frame()\n",
    "    \"\"\"\n",
    "    movement_time_cor = sheet[sheet.name==name].final_corrected_movement_time\n",
    "    windows = df[df.time.isin(movement_time_cor)].index\n",
    "    each_five = list(range(0,len(windows),5)) #select each 1st index among 5 indexes with te same time (5000 hz) \n",
    "    movemenet_index = windows[each_five]\n",
    "    return movemenet_index\n",
    "\n",
    "def find_pma(data, mscl, thrss, pma_start_positive):\n",
    "    \n",
    "    \"\"\"\n",
    "    data: df of emg \n",
    "    mscl: str, name of channel like 'lADM' \n",
    "    thrss: list, preactivation thresholds list for the mscl\n",
    "    pma_start_positive: float, share of picks whihch should be >= preact. thrs\n",
    "    \"\"\"\n",
    "\n",
    "    ind_end = get_movement_indexes(sheet, 'end', data)\n",
    "    ind_st = get_movement_indexes(sheet, 'start', data)\n",
    "\n",
    "    all_ind = np.stack((ind_st,ind_end), axis=1)\n",
    "\n",
    "    window_indexes = []\n",
    "    \n",
    "    for r in all_ind:\n",
    "        window_indexes.append(np.array(range(r[0],r[1]+1)))\n",
    "    \n",
    "    movement_indexes = np.asarray(window_indexes)\n",
    "\n",
    "    post_windows = pd.DataFrame()\n",
    "    \n",
    "    post_windows['indexes'] = movement_indexes\n",
    "    post_windows['Trial in session'] = thrss[1]\n",
    "    post_windows['Is slow'] = thrss[2]\n",
    "    \n",
    "    # movement signal\n",
    "    post_windows['preact_window'] = post_windows.apply(lambda x: np.array(data[mscl][range(x.indexes.min()-5000, x.indexes.min()+1)]), axis = 1)\n",
    "    post_windows['signal'] = post_windows.apply(lambda x: np.array(data[mscl][x.indexes]), axis=1)\n",
    "    post_windows['time'] = post_windows.apply(lambda x: np.array(data.time[x.indexes]), axis=1)\n",
    "    post_windows['preactivation_mean_uv'] = post_windows.apply(lambda row: np.mean(abs(row.preact_window)), axis=1)\n",
    "    post_windows['preactivation_max_uv'] = post_windows.apply(lambda row: np.max(abs(row.preact_window)), axis=1)\n",
    "    post_windows['preactivation_std_uv'] = post_windows.apply(lambda row: np.std(abs(row.preact_window)), axis=1)\n",
    "    post_windows['preactivation_auc_uv'] = post_windows.apply(lambda row: auc(range(len(row.preact_window)),abs(row.preact_window)), axis=1)\n",
    "        \n",
    "\n",
    "    post_windows['movement_start'] = post_windows.apply(lambda row: row['time'].min(), axis = 1)\n",
    "    post_windows['movement_end'] = post_windows.apply(lambda row: row['time'].max(), axis = 1)\n",
    "    post_windows['preac_thrs'] = thrss[0]\n",
    "    \n",
    "    \n",
    "    def find_start_pma(y, tr, pma_start_positive):\n",
    "        w = 50 #len of sliding window in ticks (10 ms X 5 hz)\n",
    "        w_tr = int(pma_start_positive*w) #number of ticks over tr to find pma\n",
    "        for i in range (len(y)-w):\n",
    "            y2 = [x for x in y[i:i+w] if abs(x)>tr]\n",
    "            #y[i:i+w][y[i:i+w]>tr]\n",
    "            if len(y2) >= w_tr:\n",
    "                #print(y2,i)\n",
    "                return i\n",
    "\n",
    "    def find_end_pma(y, tr, pma_start_positive):\n",
    "        last_index = find_start_pma(y[::-1], tr, pma_start_positive)\n",
    "        return len(y)-last_index\n",
    "        \n",
    "\n",
    "    # based on preactivation\n",
    "    post_windows['pma_start_index'] = post_windows.apply(lambda row: find_start_pma(row.signal, row.preac_thrs, pma_start_positive), axis=1)\n",
    "    post_windows['pma_end_index'] = post_windows.apply(lambda row: pd.DataFrame(row.signal)[abs(row.signal)>row.preac_thrs].index.max()\n",
    "                                                  , axis=1)\n",
    "#     post_windows['pma_end_index'] = post_windows.apply(lambda row: find_end_pma(row.signal, row.preac_thrs, pma_start_positive), axis=1)\n",
    "\n",
    "    post_windows['pma_end_index'] = np.where(post_windows['pma_start_index'].isna()==False, post_windows['pma_end_index'], np.NaN) \n",
    "    \n",
    "\n",
    "    def find_time(array_with_data, index):\n",
    "        try:\n",
    "            return int(array_with_data[int(index)])\n",
    "        except Exception as s:\n",
    "            pass\n",
    "\n",
    "\n",
    "    post_windows['pma_time_start'] = post_windows.apply(lambda row: find_time(row.time, row.pma_start_index)\n",
    "                                                  , axis=1)\n",
    "    post_windows['pma_time_end'] = post_windows.apply(lambda row: find_time(row.time, row.pma_end_index)\n",
    "                                                  , axis=1)\n",
    "    post_windows['pma_duration_ms'] = post_windows['pma_time_end'] - post_windows['pma_time_start']\n",
    "    \n",
    "    post_windows['muscle'] = mscl\n",
    "\n",
    "    \n",
    "    return post_windows\n",
    "\n",
    "\n",
    "def check_pma(pma_df, pma_duration):\n",
    "    \"\"\"\n",
    "    pma_df: df recieved from find_pma function\n",
    "    pma_duration: int, ms how long pma should be\n",
    "    \n",
    "    \"\"\"\n",
    "    check_pma_df = pma_df\n",
    "    check_pma_df['pma_check'] = check_pma_df.dropna().apply(lambda x: x.signal[int(x.pma_start_index):int(x.pma_end_index+1)], axis = 1)\n",
    "    check_pma_df['rms_pma'] = check_pma_df.dropna().apply(lambda x: ((abs(x.pma_check)**2).mean())**0.5, axis = 1)\n",
    "\n",
    "    def env_pma(line, sub_window_size):\n",
    "        array = line.signal\n",
    "        start_index = int(line.pma_start_index)\n",
    "        end_index = int(line.pma_end_index)   \n",
    "\n",
    "        sub_windows = (\n",
    "            start_index + \n",
    "            # *5 cos 5k HZ\n",
    "            np.expand_dims(np.arange(sub_window_size*5), 0) +\n",
    "            # +2 to not mess last 2 indexes; subtraction of sub_window_size to avoid extra indexes missed in data array\n",
    "            np.expand_dims(np.arange(end_index - start_index - sub_window_size*5 + 2), 0).T\n",
    "            )\n",
    "\n",
    "        envelop = pd.DataFrame(array[sub_windows]).apply(lambda x: (abs(x)).max(), axis = 1)\n",
    "\n",
    "        return np.array(envelop).mean()\n",
    "\n",
    "    check_pma_df['pma_envelop_mean'] =  check_pma_df.dropna().apply(lambda x: env_pma(x,pma_duration), axis=1 )\n",
    "\n",
    "    return check_pma_df\n",
    "\n",
    "\n",
    "def rms_pma(pma_df):\n",
    "    \"\"\"\n",
    "    pma_df: df recieved from find_pma function\n",
    "    \"\"\"\n",
    "    \n",
    "    pma_df2 = pma_df.reset_index(drop=True)\n",
    "    \n",
    "    # \"try\" for cases when no pma \n",
    "    try:\n",
    "        pma_df2['pma_wnd'] = pma_df2[['signal','pma_start_index','pma_end_index']].dropna().apply(lambda x: x.signal[int(x.pma_start_index):int(x.pma_end_index+1)], axis = 1)\n",
    "        pma_df2['pma_mean_uv'] = pma_df2[['pma_wnd']].dropna().apply(lambda row: np.mean(abs(row.pma_wnd)), axis=1)\n",
    "        pma_df2['pma_max_uv'] = pma_df2[['pma_wnd']].dropna().apply(lambda row: np.max(abs(row.pma_wnd)), axis=1)\n",
    "        pma_df2['pma_std_uv'] = pma_df2[['pma_wnd']].dropna().apply(lambda row: np.std(abs(row.pma_wnd)), axis=1)\n",
    "        pma_df2['pma_auc_uv'] = pma_df2[['pma_wnd']].dropna().apply(lambda row: auc(range(len(row.pma_wnd)),abs(row.pma_wnd)), axis=1)\n",
    "    except:\n",
    "        pass\n",
    "    \n",
    "    def rms(line, sub_window_size):\n",
    "        array = line\n",
    "        start_index = 0\n",
    "        end_index = len(array) - 1  \n",
    "\n",
    "        sub_windows = (\n",
    "            start_index + \n",
    "            # *5 cos 5k HZ\n",
    "            np.expand_dims(np.arange(sub_window_size*5), 0) +\n",
    "            # +2 to not mess last 2 indexes; subtraction of sub_window_size to avoid extra indexes missed in data array\n",
    "            np.expand_dims(np.arange(end_index - start_index - sub_window_size*5 + 2), 0).T\n",
    "            )\n",
    "\n",
    "        #rms_pma = pd.DataFrame(array[sub_windows]).apply(lambda x: ((abs(x)**2).mean())**0.5, axis = 1)\n",
    "        rms_pma = np.array([((abs(wnd)**2).mean())**0.5 for wnd in array[sub_windows]]).mean()\n",
    "\n",
    "        return rms_pma\n",
    "    \n",
    "    # \"try\" for cases when no pma \n",
    "    try:\n",
    "        pma_df2['pma_rms_mean'] =  pma_df2[['pma_wnd']].dropna().apply(lambda x: rms(x.pma_wnd, 30), axis=1 )\n",
    "    except:\n",
    "        pass\n",
    "    pma_df2['preactivation_window_rms_mean'] =  pma_df2[['preact_window']].apply(lambda x: rms(x.preact_window, 30), axis=1 )\n",
    "     \n",
    "    return pma_df2\n",
    "\n",
    "\n",
    "def active_hand(all_pma_data, data, rms_time, active_mscl):\n",
    "    \n",
    "    \"\"\"\n",
    "    \n",
    "    pma_data: df given from pma function columns indexes, movement_start/end are needed\n",
    "    data: df, emg data freq. filtered - to get pre/activation data in right hand\n",
    "    rms_time: ms, window size to calc rms\n",
    "    active_mscl: str, active muscle\n",
    "    \"\"\"\n",
    "    \n",
    "    all_pma_data = all_pma_data.reset_index(drop=True)\n",
    "    active_hand = pd.DataFrame()\n",
    "    \n",
    "    active_hand['indexes'] = all_pma_data.indexes\n",
    "    active_hand['Trial in session'] = all_pma_data['Trial in session']\n",
    "    active_hand['Is slow'] = all_pma_data['Is slow']\n",
    "    active_hand['movement_start'] = all_pma_data.movement_start\n",
    "    active_hand['movement_end'] = all_pma_data.movement_end\n",
    "    \n",
    "    def rms(line, sub_window_size):\n",
    "        array = line\n",
    "        start_index = 0\n",
    "        end_index = len(array) - 1  \n",
    "\n",
    "        sub_windows = (\n",
    "            start_index + \n",
    "            # *5 cos 5k HZ\n",
    "            np.expand_dims(np.arange(sub_window_size*5), 0) +\n",
    "            # +2 to not mess last 2 indexes; subtraction of sub_window_size to avoid extra indexes missed in data array\n",
    "            np.expand_dims(np.arange(end_index - start_index - sub_window_size*5 + 2), 0).T\n",
    "            )\n",
    "        #rms_pma = np.array([((abs(wnd)**2).mean())**0.5 for wnd in array[sub_windows]]).mean()\n",
    "        rms_pma = pd.DataFrame(array[sub_windows]).apply(lambda x: ((abs(x)**2).mean())**0.5, axis = 1).mean()\n",
    "        return rms_pma\n",
    "\n",
    "    active_hand_all = pd.DataFrame()\n",
    "    for m in tqdm(['rAPB','rADM','rECU']): \n",
    "        active_hand['preactivation_window'] = active_hand.apply(lambda x: np.array(data[m][range(x.indexes.min()-5000, x.indexes.min()+1)]), axis = 1)\n",
    "        active_hand['activation_window'] = active_hand.apply(lambda x: np.array(data[m][x.indexes]), axis=1)\n",
    "\n",
    "        active_hand['preactivation_mean_uv'] = active_hand.apply(lambda row: np.mean(abs(row.preactivation_window)), axis=1)\n",
    "        active_hand['preactivation_max_uv'] = active_hand.apply(lambda row: np.max(abs(row.preactivation_window)), axis=1)\n",
    "        active_hand['preactivation_std_uv'] = active_hand.apply(lambda row: np.std(abs(row.preactivation_window)), axis=1)\n",
    "        active_hand['preactivation_auc_uv'] = active_hand.apply(lambda row: auc(range(len(row.preactivation_window)),abs(row.preactivation_window)), axis=1)\n",
    "        #active_hand['preactivation_window_baseline_rms_mean'] = active_hand.apply(lambda row: rms(abs(row.preactivation_window),rms_time), axis=1)\n",
    "\n",
    "        active_hand['activation_mean_uv'] = active_hand.apply(lambda row: np.mean(abs(row.activation_window)), axis=1)\n",
    "        active_hand['activation_max_uv'] = active_hand.apply(lambda row: np.max(abs(row.activation_window)), axis=1)\n",
    "        active_hand['activation_std_uv'] = active_hand.apply(lambda row: np.std(abs(row.activation_window)), axis=1)\n",
    "        active_hand['activation_auc_uv'] = active_hand.apply(lambda row: auc(range(len(row.activation_window)),abs(row.activation_window)), axis=1)\n",
    "        #active_hand['activation_window_baseline_rms_mean'] = active_hand.apply(lambda row: rms(abs(row.activation_window),rms_time), axis=1)\n",
    "        active_hand['muscle'] = m\n",
    "        active_hand_all = active_hand_all.append(active_hand)\n",
    "        \n",
    "    active_hand_all['movement_start'] = np.where(active_hand_all['muscle'] == active_mscl, active_hand_all['movement_start'], np.NaN)\n",
    "    active_hand_all['movement_end'] = np.where(active_hand_all['muscle'] == active_mscl, active_hand_all['movement_end'], np.NaN)\n",
    "    active_hand_all['active_muscle'] = active_mscl\n",
    "    \n",
    "    \n",
    "    return active_hand_all\n"
   ]
  },
  {
   "cell_type": "markdown",
   "metadata": {},
   "source": [
    "# Part 1: find Movement onset"
   ]
  },
  {
   "cell_type": "markdown",
   "metadata": {
    "id": "Vy3mNbWZgEPZ"
   },
   "source": [
    "### Uppload data"
   ]
  },
  {
   "cell_type": "markdown",
   "metadata": {},
   "source": [
    "<p style=\"color:#FF0000\";><b>1. Insert subject .vhdr file PATH !_</p>"
   ]
  },
  {
   "cell_type": "code",
   "execution_count": 129,
   "metadata": {
    "colab": {
     "base_uri": "https://localhost:8080/"
    },
    "id": "np3pKtJHgEPZ",
    "outputId": "89ffa429-c946-497e-a31d-ec23e81d8d42"
   },
   "outputs": [],
   "source": [
    "path = '/Users/ksenia.kozlova/Documents/GitHub/pma_grant/EMG data/StSh_24/rAPB_70max_1.vhdr'\n",
    "\n",
    "\n",
    "\n",
    "\n",
    "### LOAD DATA\n",
    "emg = mne.io.read_raw_brainvision(path,verbose=False)\n",
    "\n",
    "# FILTERS\n",
    "# high pass and low pass filters\n",
    "filters_hp_lp = emg.load_data().filter(l_freq=20, h_freq=1000, verbose=False)\n",
    "# notch filters\n",
    "filters_notch = np.array([50, 100, 150, 200])\n",
    "\n",
    "raw = filters_hp_lp.notch_filter(freqs=filters_notch, verbose=False)\n",
    "data = raw.to_data_frame()"
   ]
  },
  {
   "cell_type": "markdown",
   "metadata": {
    "id": "vJnC0_DzgEPa"
   },
   "source": [
    "<p style=\"color:#FFA500\";><b>Information about the record</p>\n"
   ]
  },
  {
   "cell_type": "code",
   "execution_count": 128,
   "metadata": {
    "colab": {
     "base_uri": "https://localhost:8080/"
    },
    "id": "m63tzNozgEPa",
    "outputId": "0d56252c-cf42-494f-bb53-febfd9fe6346"
   },
   "outputs": [
    {
     "name": "stdout",
     "output_type": "stream",
     "text": [
      "<Info | 7 non-empty values\n",
      " bads: []\n",
      " ch_names: rAPB, rADM, rECU, lAPB, lADM, lECU\n",
      " chs: 6 EEG\n",
      " custom_ref_applied: False\n",
      " highpass: 20.0 Hz\n",
      " lowpass: 1000.0 Hz\n",
      " meas_date: 2021-07-15 12:42:40 UTC\n",
      " nchan: 6\n",
      " projs: []\n",
      " sfreq: 5000.0 Hz\n",
      ">\n"
     ]
    }
   ],
   "source": [
    "print(raw.info)"
   ]
  },
  {
   "cell_type": "markdown",
   "metadata": {
    "id": "NuZD2C-bgEPb"
   },
   "source": [
    "## Plot EMG"
   ]
  },
  {
   "cell_type": "markdown",
   "metadata": {},
   "source": [
    "<p style=\"color:#FFA500\";><b>Check whether record is ok</p>"
   ]
  },
  {
   "cell_type": "code",
   "execution_count": 107,
   "metadata": {
    "colab": {
     "base_uri": "https://localhost:8080/",
     "height": 153,
     "referenced_widgets": [
      "107fb4c9afbd45e1847375b66412e925"
     ]
    },
    "id": "0H-RRFXXgEPb",
    "outputId": "d48cb29e-735c-4479-ac5c-e207b06fe88f"
   },
   "outputs": [
    {
     "data": {
      "application/vnd.jupyter.widget-view+json": {
       "model_id": "2bc0ef3b670e48a38217c12c8c4ade10",
       "version_major": 2,
       "version_minor": 0
      },
      "text/plain": [
       "Canvas(toolbar=Toolbar(toolitems=[('Home', 'Reset original view', 'home', 'home'), ('Back', 'Back to previous …"
      ]
     },
     "metadata": {},
     "output_type": "display_data"
    }
   ],
   "source": [
    "try:\n",
    "    raw.plot(verbose=False)\n",
    "except:\n",
    "    print('Error')"
   ]
  },
  {
   "cell_type": "markdown",
   "metadata": {
    "id": "F4vMU-ZdgEPb"
   },
   "source": [
    "## Find movement ALGO"
   ]
  },
  {
   "cell_type": "markdown",
   "metadata": {
    "id": "pJGoLOVmgEPb"
   },
   "source": [
    "__1. Setup AlGO parameters__"
   ]
  },
  {
   "cell_type": "markdown",
   "metadata": {
    "id": "EuMDXQi5gEPc"
   },
   "source": [
    "1.1. Select trail part of data with 3-5 movements "
   ]
  },
  {
   "cell_type": "markdown",
   "metadata": {},
   "source": [
    "<p style=\"color:#FF0000\";><b>Adjast: muscle, start_trial, end_trial </p>"
   ]
  },
  {
   "cell_type": "code",
   "execution_count": 112,
   "metadata": {
    "id": "MlSFqH4ygEPc"
   },
   "outputs": [],
   "source": [
    "# active muscle channel\n",
    "muscle = 'rAPB'\n",
    "# time in ms\n",
    "start_trial = 0\n",
    "end_trial = 26000\n",
    "\n",
    "\n",
    "# no changes\n",
    "trial_data = data[(data.time>=start_trial)&(data.time<=end_trial)]"
   ]
  },
  {
   "cell_type": "markdown",
   "metadata": {
    "id": "4PTsg6xEgEPd"
   },
   "source": [
    "Plot Trial signal\n",
    "<p style=\"color:#FFA500\";><b>check trial data</p>"
   ]
  },
  {
   "cell_type": "code",
   "execution_count": 113,
   "metadata": {
    "id": "n-P4HC5igEPd"
   },
   "outputs": [
    {
     "data": {
      "application/vnd.jupyter.widget-view+json": {
       "model_id": "8752d2c8c198497aaec8f47898191c61",
       "version_major": 2,
       "version_minor": 0
      },
      "text/plain": [
       "Canvas(toolbar=Toolbar(toolitems=[('Home', 'Reset original view', 'home', 'home'), ('Back', 'Back to previous …"
      ]
     },
     "metadata": {},
     "output_type": "display_data"
    },
    {
     "data": {
      "text/plain": [
       "[<matplotlib.lines.Line2D at 0x7fecebb4c0d0>]"
      ]
     },
     "execution_count": 113,
     "metadata": {},
     "output_type": "execute_result"
    }
   ],
   "source": [
    "# no change\n",
    "fig, (ax0) = plt.subplots(nrows=1)\n",
    "ax0.plot(trial_data.time, trial_data[str(muscle)])"
   ]
  },
  {
   "cell_type": "markdown",
   "metadata": {
    "id": "u1xdp1sYgEPd"
   },
   "source": [
    "<p style=\"color:#FF0000\";><b>2. Adjast. parameters (thrs, thrs2) !_ </p> "
   ]
  },
  {
   "cell_type": "code",
   "execution_count": 114,
   "metadata": {
    "id": "vjfquWGYgEPd"
   },
   "outputs": [],
   "source": [
    "# ADJUST\n",
    "\n",
    "# 1. Thresholds, (absolut value) uV activity threshold which concidered as a movement \n",
    "# thrs - general, thrs2 is more accurate in subwindow \n",
    "thrs = 150\n",
    "thrs2 = 90\n",
    "\n",
    "# 2. time window to analyse (ms)\n",
    "# 650 is optimal \n",
    "window = 550\n",
    "\n",
    "# 3. percentage of picks which should be higher than thrs in the window \n",
    "# 0.05 is optimal\n",
    "positive = 0.05"
   ]
  },
  {
   "cell_type": "markdown",
   "metadata": {
    "id": "FWbVrmvNgEPe"
   },
   "source": [
    "3. Try algo settings on trial data at first."
   ]
  },
  {
   "cell_type": "code",
   "execution_count": 115,
   "metadata": {
    "id": "av5lG5iygEPe"
   },
   "outputs": [
    {
     "data": {
      "application/vnd.jupyter.widget-view+json": {
       "model_id": "ebdf989fa3fe47c99b957a2cb7db5012",
       "version_major": 2,
       "version_minor": 0
      },
      "text/plain": [
       "HBox(children=(HTML(value=''), FloatProgress(value=0.0, max=127253.0), HTML(value='')))"
      ]
     },
     "metadata": {},
     "output_type": "display_data"
    },
    {
     "name": "stdout",
     "output_type": "stream",
     "text": [
      "\n"
     ]
    },
    {
     "data": {
      "text/html": [
       "<div>\n",
       "<style scoped>\n",
       "    .dataframe tbody tr th:only-of-type {\n",
       "        vertical-align: middle;\n",
       "    }\n",
       "\n",
       "    .dataframe tbody tr th {\n",
       "        vertical-align: top;\n",
       "    }\n",
       "\n",
       "    .dataframe thead th {\n",
       "        text-align: right;\n",
       "    }\n",
       "</style>\n",
       "<table border=\"1\" class=\"dataframe\">\n",
       "  <thead>\n",
       "    <tr style=\"text-align: right;\">\n",
       "      <th></th>\n",
       "      <th>time</th>\n",
       "      <th>name</th>\n",
       "    </tr>\n",
       "  </thead>\n",
       "  <tbody>\n",
       "    <tr>\n",
       "      <th>0</th>\n",
       "      <td>11843.0</td>\n",
       "      <td>start</td>\n",
       "    </tr>\n",
       "    <tr>\n",
       "      <th>1</th>\n",
       "      <td>14752.0</td>\n",
       "      <td>end</td>\n",
       "    </tr>\n",
       "    <tr>\n",
       "      <th>2</th>\n",
       "      <td>16329.0</td>\n",
       "      <td>start</td>\n",
       "    </tr>\n",
       "    <tr>\n",
       "      <th>3</th>\n",
       "      <td>19184.0</td>\n",
       "      <td>end</td>\n",
       "    </tr>\n",
       "    <tr>\n",
       "      <th>4</th>\n",
       "      <td>21086.0</td>\n",
       "      <td>start</td>\n",
       "    </tr>\n",
       "    <tr>\n",
       "      <th>5</th>\n",
       "      <td>25556.0</td>\n",
       "      <td>end</td>\n",
       "    </tr>\n",
       "  </tbody>\n",
       "</table>\n",
       "</div>"
      ],
      "text/plain": [
       "      time   name\n",
       "0  11843.0  start\n",
       "1  14752.0    end\n",
       "2  16329.0  start\n",
       "3  19184.0    end\n",
       "4  21086.0  start\n",
       "5  25556.0    end"
      ]
     },
     "execution_count": 115,
     "metadata": {},
     "output_type": "execute_result"
    }
   ],
   "source": [
    "# no changes\n",
    "# start and end in ms\n",
    "trial_time = [start_trial, end_trial]\n",
    "# Run algo on trial data\n",
    "trial_movement_time, trial_data = find_movement(data, trial_time, muscle, window, thrs, thrs2, positive)\n",
    "\n",
    "trial_movement_time"
   ]
  },
  {
   "cell_type": "markdown",
   "metadata": {},
   "source": [
    "<p style=\"color:#FFA500\";><b>check how algo works</p>"
   ]
  },
  {
   "cell_type": "code",
   "execution_count": 116,
   "metadata": {
    "id": "tkM1BJ00gEPe"
   },
   "outputs": [
    {
     "data": {
      "application/vnd.jupyter.widget-view+json": {
       "model_id": "2a5cbf80b5d6436fa14ed52a5dbbf517",
       "version_major": 2,
       "version_minor": 0
      },
      "text/plain": [
       "Canvas(toolbar=Toolbar(toolitems=[('Home', 'Reset original view', 'home', 'home'), ('Back', 'Back to previous …"
      ]
     },
     "metadata": {},
     "output_type": "display_data"
    }
   ],
   "source": [
    "# plot trial\n",
    "plot_signal(trial_data, trial_movement_time.time, muscle)\n",
    "#plt.hlines(50, xmin=5000, xmax=22500,color='r')"
   ]
  },
  {
   "cell_type": "markdown",
   "metadata": {
    "id": "MoxoWGjpgEPf"
   },
   "source": [
    "__If the Movement start is not acurate enough, Adjast thrs,thrs2 and try again #2__"
   ]
  },
  {
   "cell_type": "markdown",
   "metadata": {
    "id": "ipR36nY0gEPf"
   },
   "source": [
    "4. Apply to the whole recording (here time = [0] which means \"start from 0 second\""
   ]
  },
  {
   "cell_type": "code",
   "execution_count": 117,
   "metadata": {},
   "outputs": [],
   "source": [
    "last = data.time.max()"
   ]
  },
  {
   "cell_type": "code",
   "execution_count": 118,
   "metadata": {
    "id": "oSatFPK9gEPf"
   },
   "outputs": [
    {
     "data": {
      "application/vnd.jupyter.widget-view+json": {
       "model_id": "030c9e75d97946bea0cbfc4d10ec413d",
       "version_major": 2,
       "version_minor": 0
      },
      "text/plain": [
       "HBox(children=(HTML(value=''), FloatProgress(value=0.0, max=1213950.0), HTML(value='')))"
      ]
     },
     "metadata": {},
     "output_type": "display_data"
    },
    {
     "name": "stdout",
     "output_type": "stream",
     "text": [
      "\n"
     ]
    }
   ],
   "source": [
    "movement_time, movement_data = find_movement(data, [0], muscle, window, thrs, thrs2, positive)"
   ]
  },
  {
   "cell_type": "markdown",
   "metadata": {},
   "source": [
    "<p style=\"color:#FFA500\";><b>check how algo works for whole file</p>"
   ]
  },
  {
   "cell_type": "code",
   "execution_count": 119,
   "metadata": {
    "id": "HdcVOOfHgEPf",
    "scrolled": true
   },
   "outputs": [
    {
     "data": {
      "application/vnd.jupyter.widget-view+json": {
       "model_id": "7be525b459b64da7812dd8a49724ba83",
       "version_major": 2,
       "version_minor": 0
      },
      "text/plain": [
       "Canvas(toolbar=Toolbar(toolitems=[('Home', 'Reset original view', 'home', 'home'), ('Back', 'Back to previous …"
      ]
     },
     "metadata": {},
     "output_type": "display_data"
    }
   ],
   "source": [
    "# plot Algo Markup way1\n",
    "plot_signal(movement_data, movement_time.time, muscle)"
   ]
  },
  {
   "cell_type": "markdown",
   "metadata": {
    "id": "MOL2y1ZfgEPf"
   },
   "source": [
    "## Manual adjastment of Algo Movement Markup"
   ]
  },
  {
   "cell_type": "markdown",
   "metadata": {},
   "source": [
    "<p style=\"color:#FFA500\";><b>check how algo works for whole file</p>"
   ]
  },
  {
   "cell_type": "code",
   "execution_count": 120,
   "metadata": {
    "id": "hEnBgjQZgEPf",
    "scrolled": false
   },
   "outputs": [
    {
     "name": "stdout",
     "output_type": "stream",
     "text": [
      "Setting up band-pass filter from 20 - 1e+03 Hz\n",
      "\n",
      "IIR filter parameters\n",
      "---------------------\n",
      "Butterworth bandpass zero-phase (two-pass forward and reverse) non-causal filter:\n",
      "- Filter order 16 (effective, after forward-backward)\n",
      "- Cutoffs at 20.00, 1000.00 Hz: -6.02, -6.02 dB\n",
      "\n"
     ]
    },
    {
     "data": {
      "application/vnd.jupyter.widget-view+json": {
       "model_id": "b3e5a6501a204bf0be18176d2b7280be",
       "version_major": 2,
       "version_minor": 0
      },
      "text/plain": [
       "Canvas(toolbar=Toolbar(toolitems=[('Home', 'Reset original view', 'home', 'home'), ('Back', 'Back to previous …"
      ]
     },
     "metadata": {},
     "output_type": "display_data"
    }
   ],
   "source": [
    "# plot Algo Markup way2\n",
    "plot_emg_events(raw, movement_time.time)"
   ]
  },
  {
   "cell_type": "markdown",
   "metadata": {
    "id": "flKbMcA8gEPg"
   },
   "source": [
    "<p style=\"color:#FF0000\";><b>1. Fill events start numbers to redo/slow/bad !_</p>"
   ]
  },
  {
   "cell_type": "raw",
   "metadata": {},
   "source": [
    "start_bad_number = 15\n",
    "start_good_number = 105\n",
    "print(list(range(start_bad_number,start_good_number,2)))"
   ]
  },
  {
   "cell_type": "code",
   "execution_count": 121,
   "metadata": {
    "id": "nYEUXHFwgEPg"
   },
   "outputs": [],
   "source": [
    "## change\n",
    "\n",
    "#list to manually redo\n",
    "redo = [22,24,79]\n",
    "#list with slow (second spike is later than 200 ms)\n",
    "slow = [25,31,67]\n",
    "\n",
    "#list with Bad - to delete\n",
    "bad = [47,49,63,73,75,77]\n"
   ]
  },
  {
   "cell_type": "code",
   "execution_count": 122,
   "metadata": {
    "id": "o_FbZNvlgEPg"
   },
   "outputs": [],
   "source": [
    "# no change\n",
    "events = create_events(movement_time.time)"
   ]
  },
  {
   "cell_type": "code",
   "execution_count": 123,
   "metadata": {
    "id": "szveN2uDgEPg"
   },
   "outputs": [
    {
     "data": {
      "text/plain": [
       "0     72645.0\n",
       "1     79190.0\n",
       "2    234890.0\n",
       "Name: time, dtype: float64"
      ]
     },
     "execution_count": 123,
     "metadata": {},
     "output_type": "execute_result"
    }
   ],
   "source": [
    "events[events.event_name.isin(redo)].reset_index().time"
   ]
  },
  {
   "cell_type": "markdown",
   "metadata": {
    "id": "cjszKegPgEPg"
   },
   "source": [
    "__2. Manually adjast movement markup__"
   ]
  },
  {
   "cell_type": "code",
   "execution_count": 124,
   "metadata": {
    "id": "yiuIYHi2gEPh",
    "scrolled": false
   },
   "outputs": [
    {
     "data": {
      "application/vnd.jupyter.widget-view+json": {
       "model_id": "264961a0e0d04459aa67c02a1666e0c5",
       "version_major": 2,
       "version_minor": 0
      },
      "text/plain": [
       "Button(description='Next event', icon='Saved', style=ButtonStyle(), tooltip='Description')"
      ]
     },
     "metadata": {},
     "output_type": "display_data"
    },
    {
     "data": {
      "application/vnd.jupyter.widget-view+json": {
       "model_id": "ed8e37bcac63473c87fff15f78d71ead",
       "version_major": 2,
       "version_minor": 0
      },
      "text/plain": [
       "Button(description='Save timestamp', icon='Saved', style=ButtonStyle(), tooltip='Description')"
      ]
     },
     "metadata": {},
     "output_type": "display_data"
    },
    {
     "data": {
      "application/vnd.jupyter.widget-view+json": {
       "model_id": "3096dc610c0e4bf2bad6be858c152f62",
       "version_major": 2,
       "version_minor": 0
      },
      "text/plain": [
       "interactive(children=(FloatText(value=72645.0, description='New Value uV:', step=5.0), Output()), _dom_classes…"
      ]
     },
     "metadata": {},
     "output_type": "display_data"
    },
    {
     "data": {
      "application/vnd.jupyter.widget-view+json": {
       "model_id": "7ded00d00a8743aba5186ac121f9a965",
       "version_major": 2,
       "version_minor": 0
      },
      "text/plain": [
       "Button(description='Save timestamp', icon='Saved', style=ButtonStyle(), tooltip='Description')"
      ]
     },
     "metadata": {},
     "output_type": "display_data"
    },
    {
     "data": {
      "application/vnd.jupyter.widget-view+json": {
       "model_id": "64ff1b9736254de58f3649cfcb939313",
       "version_major": 2,
       "version_minor": 0
      },
      "text/plain": [
       "interactive(children=(FloatText(value=79190.0, description='New Value uV:', step=5.0), Output()), _dom_classes…"
      ]
     },
     "metadata": {},
     "output_type": "display_data"
    },
    {
     "data": {
      "application/vnd.jupyter.widget-view+json": {
       "model_id": "b093c7ec1dea4bba8fd2182a1aee8270",
       "version_major": 2,
       "version_minor": 0
      },
      "text/plain": [
       "Button(description='Save timestamp', icon='Saved', style=ButtonStyle(), tooltip='Description')"
      ]
     },
     "metadata": {},
     "output_type": "display_data"
    },
    {
     "data": {
      "application/vnd.jupyter.widget-view+json": {
       "model_id": "62b3979ddf094f61b61e7aa172002255",
       "version_major": 2,
       "version_minor": 0
      },
      "text/plain": [
       "interactive(children=(FloatText(value=234890.0, description='New Value uV:', step=5.0), Output()), _dom_classe…"
      ]
     },
     "metadata": {},
     "output_type": "display_data"
    },
    {
     "name": "stdout",
     "output_type": "stream",
     "text": [
      "You finished\n"
     ]
    }
   ],
   "source": [
    "mscl = muscle\n",
    "new_timings = adjust_movements(events[events.event_name.isin(redo)].reset_index().time)"
   ]
  },
  {
   "cell_type": "markdown",
   "metadata": {
    "id": "PplSHKQGgEPi"
   },
   "source": [
    "__Plot signal with final movement start Markups__"
   ]
  },
  {
   "cell_type": "markdown",
   "metadata": {},
   "source": [
    "<p style=\"color:#FF0000\";><b>Rename sheet name (=file name + subject) !_</p>"
   ]
  },
  {
   "cell_type": "markdown",
   "metadata": {
    "id": "nZhb49cJgEPh"
   },
   "source": [
    "__3. Save Movement times to Google sheet/ Excel together with adjasted__"
   ]
  },
  {
   "cell_type": "code",
   "execution_count": 125,
   "metadata": {
    "id": "D2PZOin6gEPh"
   },
   "outputs": [
    {
     "name": "stdout",
     "output_type": "stream",
     "text": [
      "Current emg file:  /Users/ksenia.kozlova/Downloads/Early subjects 5-13/MedVer_11/pma_APB_3.vhdr\n",
      "Movement file name (subject + emg file name): MedVer_11_pma_APB_3\n",
      "Movement data saved to file  MedVer_11_pma_APB_3.xls\n"
     ]
    }
   ],
   "source": [
    "print('Current emg file: ', path)\n",
    "file_name = input('Movement file name (subject + emg file name): ')\n",
    "\n",
    "corrected_time = gsheet(file_name , new_timings, bad, slow)"
   ]
  },
  {
   "cell_type": "markdown",
   "metadata": {},
   "source": [
    "<p style=\"color:#FFA500\";><b>check final table</p>"
   ]
  },
  {
   "cell_type": "code",
   "execution_count": null,
   "metadata": {
    "id": "oYpCR-fXgEPi",
    "scrolled": true
   },
   "outputs": [],
   "source": [
    "corrected_time"
   ]
  },
  {
   "cell_type": "markdown",
   "metadata": {},
   "source": [
    "<p style=\"color:#FFA500\";><b>final check how movement was marked up</p>"
   ]
  },
  {
   "cell_type": "code",
   "execution_count": null,
   "metadata": {
    "id": "IiU2ZJd7gEPi",
    "scrolled": true
   },
   "outputs": [],
   "source": [
    "plot_emg_events(raw, corrected_time[corrected_time.bad!=True].final_corrected_movement_time)"
   ]
  },
  {
   "cell_type": "markdown",
   "metadata": {},
   "source": [
    " # <br><br><br><br>  Part 2. pMA analysis (one session only)"
   ]
  },
  {
   "cell_type": "markdown",
   "metadata": {},
   "source": [
    "### 0. Get data"
   ]
  },
  {
   "cell_type": "markdown",
   "metadata": {},
   "source": [
    "<p style=\"color:#FF0000\";><b>Run the cell and fill all forms !_</p>"
   ]
  },
  {
   "cell_type": "code",
   "execution_count": null,
   "metadata": {},
   "outputs": [],
   "source": [
    "# MAC OS = '/' WINDOWS = '\\\\'\n",
    "SIGN_PATH = '/'"
   ]
  },
  {
   "cell_type": "code",
   "execution_count": 126,
   "metadata": {},
   "outputs": [
    {
     "name": "stdout",
     "output_type": "stream",
     "text": [
      "1. Get EMG data (.vhdr) \n",
      "\n",
      " Continue with file /Users/ksenia.kozlova/Downloads/Early subjects 5-13/MedVer_11/pma_APB_3.vhdr ? \n",
      " Y/N: Y\n",
      "2. Gett movement data from Excel \n",
      " Insert .xls file path with movement info: MedVer_11_pma_APB_3.xls\n"
     ]
    },
    {
     "ename": "FileNotFoundError",
     "evalue": "[Errno 2] No such file or directory: 'MedVer_11_pma_APB_3.xls'",
     "output_type": "error",
     "traceback": [
      "\u001b[0;31m---------------------------------------------------------------------------\u001b[0m",
      "\u001b[0;31mFileNotFoundError\u001b[0m                         Traceback (most recent call last)",
      "\u001b[0;32m<ipython-input-126-8c65d7c9f232>\u001b[0m in \u001b[0;36m<module>\u001b[0;34m\u001b[0m\n\u001b[1;32m     25\u001b[0m \u001b[0;34m\u001b[0m\u001b[0m\n\u001b[1;32m     26\u001b[0m \u001b[0mmovement_path\u001b[0m \u001b[0;34m=\u001b[0m \u001b[0minput\u001b[0m\u001b[0;34m(\u001b[0m\u001b[0;34m'2. Gett movement data from Excel \\n Insert .xls file path with movement info: '\u001b[0m\u001b[0;34m)\u001b[0m\u001b[0;34m\u001b[0m\u001b[0;34m\u001b[0m\u001b[0m\n\u001b[0;32m---> 27\u001b[0;31m \u001b[0msheet\u001b[0m \u001b[0;34m=\u001b[0m \u001b[0mpd\u001b[0m\u001b[0;34m.\u001b[0m\u001b[0mread_excel\u001b[0m\u001b[0;34m(\u001b[0m\u001b[0mmovement_path\u001b[0m\u001b[0;34m)\u001b[0m\u001b[0;34m\u001b[0m\u001b[0;34m\u001b[0m\u001b[0m\n\u001b[0m\u001b[1;32m     28\u001b[0m \u001b[0msheet\u001b[0m\u001b[0;34m[\u001b[0m\u001b[0;34m'slow'\u001b[0m\u001b[0;34m]\u001b[0m \u001b[0;34m=\u001b[0m \u001b[0mnp\u001b[0m\u001b[0;34m.\u001b[0m\u001b[0mwhere\u001b[0m\u001b[0;34m(\u001b[0m\u001b[0;34m(\u001b[0m\u001b[0msheet\u001b[0m\u001b[0;34m[\u001b[0m\u001b[0;34m'slow'\u001b[0m\u001b[0;34m]\u001b[0m \u001b[0;34m==\u001b[0m \u001b[0;34m''\u001b[0m\u001b[0;34m)\u001b[0m\u001b[0;34m|\u001b[0m\u001b[0;34m(\u001b[0m\u001b[0msheet\u001b[0m\u001b[0;34m.\u001b[0m\u001b[0mslow\u001b[0m\u001b[0;34m.\u001b[0m\u001b[0misna\u001b[0m\u001b[0;34m(\u001b[0m\u001b[0;34m)\u001b[0m\u001b[0;34m==\u001b[0m\u001b[0;32mTrue\u001b[0m\u001b[0;34m)\u001b[0m\u001b[0;34m,\u001b[0m \u001b[0msheet\u001b[0m\u001b[0;34m[\u001b[0m\u001b[0;34m'slow'\u001b[0m\u001b[0;34m]\u001b[0m\u001b[0;34m.\u001b[0m\u001b[0mshift\u001b[0m\u001b[0;34m(\u001b[0m\u001b[0;36m1\u001b[0m\u001b[0;34m)\u001b[0m\u001b[0;34m,\u001b[0m \u001b[0msheet\u001b[0m\u001b[0;34m[\u001b[0m\u001b[0;34m'slow'\u001b[0m\u001b[0;34m]\u001b[0m\u001b[0;34m)\u001b[0m\u001b[0;34m\u001b[0m\u001b[0;34m\u001b[0m\u001b[0m\n\u001b[1;32m     29\u001b[0m \u001b[0msheet\u001b[0m\u001b[0;34m[\u001b[0m\u001b[0;34m'bad'\u001b[0m\u001b[0;34m]\u001b[0m \u001b[0;34m=\u001b[0m \u001b[0mnp\u001b[0m\u001b[0;34m.\u001b[0m\u001b[0mwhere\u001b[0m\u001b[0;34m(\u001b[0m\u001b[0;34m(\u001b[0m\u001b[0msheet\u001b[0m\u001b[0;34m[\u001b[0m\u001b[0;34m'bad'\u001b[0m\u001b[0;34m]\u001b[0m \u001b[0;34m==\u001b[0m \u001b[0;34m''\u001b[0m\u001b[0;34m)\u001b[0m\u001b[0;34m|\u001b[0m\u001b[0;34m(\u001b[0m\u001b[0msheet\u001b[0m\u001b[0;34m.\u001b[0m\u001b[0mbad\u001b[0m\u001b[0;34m.\u001b[0m\u001b[0misna\u001b[0m\u001b[0;34m(\u001b[0m\u001b[0;34m)\u001b[0m\u001b[0;34m==\u001b[0m\u001b[0;32mTrue\u001b[0m\u001b[0;34m)\u001b[0m\u001b[0;34m,\u001b[0m \u001b[0msheet\u001b[0m\u001b[0;34m[\u001b[0m\u001b[0;34m'bad'\u001b[0m\u001b[0;34m]\u001b[0m\u001b[0;34m.\u001b[0m\u001b[0mshift\u001b[0m\u001b[0;34m(\u001b[0m\u001b[0;36m1\u001b[0m\u001b[0;34m)\u001b[0m\u001b[0;34m,\u001b[0m \u001b[0msheet\u001b[0m\u001b[0;34m[\u001b[0m\u001b[0;34m'bad'\u001b[0m\u001b[0;34m]\u001b[0m\u001b[0;34m)\u001b[0m\u001b[0;34m\u001b[0m\u001b[0;34m\u001b[0m\u001b[0m\n",
      "\u001b[0;32m/opt/anaconda3/lib/python3.8/site-packages/pandas/util/_decorators.py\u001b[0m in \u001b[0;36mwrapper\u001b[0;34m(*args, **kwargs)\u001b[0m\n\u001b[1;32m    294\u001b[0m                 )\n\u001b[1;32m    295\u001b[0m                 \u001b[0mwarnings\u001b[0m\u001b[0;34m.\u001b[0m\u001b[0mwarn\u001b[0m\u001b[0;34m(\u001b[0m\u001b[0mmsg\u001b[0m\u001b[0;34m,\u001b[0m \u001b[0mFutureWarning\u001b[0m\u001b[0;34m,\u001b[0m \u001b[0mstacklevel\u001b[0m\u001b[0;34m=\u001b[0m\u001b[0mstacklevel\u001b[0m\u001b[0;34m)\u001b[0m\u001b[0;34m\u001b[0m\u001b[0;34m\u001b[0m\u001b[0m\n\u001b[0;32m--> 296\u001b[0;31m             \u001b[0;32mreturn\u001b[0m \u001b[0mfunc\u001b[0m\u001b[0;34m(\u001b[0m\u001b[0;34m*\u001b[0m\u001b[0margs\u001b[0m\u001b[0;34m,\u001b[0m \u001b[0;34m**\u001b[0m\u001b[0mkwargs\u001b[0m\u001b[0;34m)\u001b[0m\u001b[0;34m\u001b[0m\u001b[0;34m\u001b[0m\u001b[0m\n\u001b[0m\u001b[1;32m    297\u001b[0m \u001b[0;34m\u001b[0m\u001b[0m\n\u001b[1;32m    298\u001b[0m         \u001b[0;32mreturn\u001b[0m \u001b[0mwrapper\u001b[0m\u001b[0;34m\u001b[0m\u001b[0;34m\u001b[0m\u001b[0m\n",
      "\u001b[0;32m/opt/anaconda3/lib/python3.8/site-packages/pandas/io/excel/_base.py\u001b[0m in \u001b[0;36mread_excel\u001b[0;34m(io, sheet_name, header, names, index_col, usecols, squeeze, dtype, engine, converters, true_values, false_values, skiprows, nrows, na_values, keep_default_na, na_filter, verbose, parse_dates, date_parser, thousands, comment, skipfooter, convert_float, mangle_dupe_cols)\u001b[0m\n\u001b[1;32m    302\u001b[0m \u001b[0;34m\u001b[0m\u001b[0m\n\u001b[1;32m    303\u001b[0m     \u001b[0;32mif\u001b[0m \u001b[0;32mnot\u001b[0m \u001b[0misinstance\u001b[0m\u001b[0;34m(\u001b[0m\u001b[0mio\u001b[0m\u001b[0;34m,\u001b[0m \u001b[0mExcelFile\u001b[0m\u001b[0;34m)\u001b[0m\u001b[0;34m:\u001b[0m\u001b[0;34m\u001b[0m\u001b[0;34m\u001b[0m\u001b[0m\n\u001b[0;32m--> 304\u001b[0;31m         \u001b[0mio\u001b[0m \u001b[0;34m=\u001b[0m \u001b[0mExcelFile\u001b[0m\u001b[0;34m(\u001b[0m\u001b[0mio\u001b[0m\u001b[0;34m,\u001b[0m \u001b[0mengine\u001b[0m\u001b[0;34m=\u001b[0m\u001b[0mengine\u001b[0m\u001b[0;34m)\u001b[0m\u001b[0;34m\u001b[0m\u001b[0;34m\u001b[0m\u001b[0m\n\u001b[0m\u001b[1;32m    305\u001b[0m     \u001b[0;32melif\u001b[0m \u001b[0mengine\u001b[0m \u001b[0;32mand\u001b[0m \u001b[0mengine\u001b[0m \u001b[0;34m!=\u001b[0m \u001b[0mio\u001b[0m\u001b[0;34m.\u001b[0m\u001b[0mengine\u001b[0m\u001b[0;34m:\u001b[0m\u001b[0;34m\u001b[0m\u001b[0;34m\u001b[0m\u001b[0m\n\u001b[1;32m    306\u001b[0m         raise ValueError(\n",
      "\u001b[0;32m/opt/anaconda3/lib/python3.8/site-packages/pandas/io/excel/_base.py\u001b[0m in \u001b[0;36m__init__\u001b[0;34m(self, path_or_buffer, engine)\u001b[0m\n\u001b[1;32m    865\u001b[0m         \u001b[0mself\u001b[0m\u001b[0;34m.\u001b[0m\u001b[0m_io\u001b[0m \u001b[0;34m=\u001b[0m \u001b[0mstringify_path\u001b[0m\u001b[0;34m(\u001b[0m\u001b[0mpath_or_buffer\u001b[0m\u001b[0;34m)\u001b[0m\u001b[0;34m\u001b[0m\u001b[0;34m\u001b[0m\u001b[0m\n\u001b[1;32m    866\u001b[0m \u001b[0;34m\u001b[0m\u001b[0m\n\u001b[0;32m--> 867\u001b[0;31m         \u001b[0mself\u001b[0m\u001b[0;34m.\u001b[0m\u001b[0m_reader\u001b[0m \u001b[0;34m=\u001b[0m \u001b[0mself\u001b[0m\u001b[0;34m.\u001b[0m\u001b[0m_engines\u001b[0m\u001b[0;34m[\u001b[0m\u001b[0mengine\u001b[0m\u001b[0;34m]\u001b[0m\u001b[0;34m(\u001b[0m\u001b[0mself\u001b[0m\u001b[0;34m.\u001b[0m\u001b[0m_io\u001b[0m\u001b[0;34m)\u001b[0m\u001b[0;34m\u001b[0m\u001b[0;34m\u001b[0m\u001b[0m\n\u001b[0m\u001b[1;32m    868\u001b[0m \u001b[0;34m\u001b[0m\u001b[0m\n\u001b[1;32m    869\u001b[0m     \u001b[0;32mdef\u001b[0m \u001b[0m__fspath__\u001b[0m\u001b[0;34m(\u001b[0m\u001b[0mself\u001b[0m\u001b[0;34m)\u001b[0m\u001b[0;34m:\u001b[0m\u001b[0;34m\u001b[0m\u001b[0;34m\u001b[0m\u001b[0m\n",
      "\u001b[0;32m/opt/anaconda3/lib/python3.8/site-packages/pandas/io/excel/_xlrd.py\u001b[0m in \u001b[0;36m__init__\u001b[0;34m(self, filepath_or_buffer)\u001b[0m\n\u001b[1;32m     20\u001b[0m         \u001b[0merr_msg\u001b[0m \u001b[0;34m=\u001b[0m \u001b[0;34m\"Install xlrd >= 1.0.0 for Excel support\"\u001b[0m\u001b[0;34m\u001b[0m\u001b[0;34m\u001b[0m\u001b[0m\n\u001b[1;32m     21\u001b[0m         \u001b[0mimport_optional_dependency\u001b[0m\u001b[0;34m(\u001b[0m\u001b[0;34m\"xlrd\"\u001b[0m\u001b[0;34m,\u001b[0m \u001b[0mextra\u001b[0m\u001b[0;34m=\u001b[0m\u001b[0merr_msg\u001b[0m\u001b[0;34m)\u001b[0m\u001b[0;34m\u001b[0m\u001b[0;34m\u001b[0m\u001b[0m\n\u001b[0;32m---> 22\u001b[0;31m         \u001b[0msuper\u001b[0m\u001b[0;34m(\u001b[0m\u001b[0;34m)\u001b[0m\u001b[0;34m.\u001b[0m\u001b[0m__init__\u001b[0m\u001b[0;34m(\u001b[0m\u001b[0mfilepath_or_buffer\u001b[0m\u001b[0;34m)\u001b[0m\u001b[0;34m\u001b[0m\u001b[0;34m\u001b[0m\u001b[0m\n\u001b[0m\u001b[1;32m     23\u001b[0m \u001b[0;34m\u001b[0m\u001b[0m\n\u001b[1;32m     24\u001b[0m     \u001b[0;34m@\u001b[0m\u001b[0mproperty\u001b[0m\u001b[0;34m\u001b[0m\u001b[0;34m\u001b[0m\u001b[0m\n",
      "\u001b[0;32m/opt/anaconda3/lib/python3.8/site-packages/pandas/io/excel/_base.py\u001b[0m in \u001b[0;36m__init__\u001b[0;34m(self, filepath_or_buffer)\u001b[0m\n\u001b[1;32m    351\u001b[0m             \u001b[0mself\u001b[0m\u001b[0;34m.\u001b[0m\u001b[0mbook\u001b[0m \u001b[0;34m=\u001b[0m \u001b[0mself\u001b[0m\u001b[0;34m.\u001b[0m\u001b[0mload_workbook\u001b[0m\u001b[0;34m(\u001b[0m\u001b[0mfilepath_or_buffer\u001b[0m\u001b[0;34m)\u001b[0m\u001b[0;34m\u001b[0m\u001b[0;34m\u001b[0m\u001b[0m\n\u001b[1;32m    352\u001b[0m         \u001b[0;32melif\u001b[0m \u001b[0misinstance\u001b[0m\u001b[0;34m(\u001b[0m\u001b[0mfilepath_or_buffer\u001b[0m\u001b[0;34m,\u001b[0m \u001b[0mstr\u001b[0m\u001b[0;34m)\u001b[0m\u001b[0;34m:\u001b[0m\u001b[0;34m\u001b[0m\u001b[0;34m\u001b[0m\u001b[0m\n\u001b[0;32m--> 353\u001b[0;31m             \u001b[0mself\u001b[0m\u001b[0;34m.\u001b[0m\u001b[0mbook\u001b[0m \u001b[0;34m=\u001b[0m \u001b[0mself\u001b[0m\u001b[0;34m.\u001b[0m\u001b[0mload_workbook\u001b[0m\u001b[0;34m(\u001b[0m\u001b[0mfilepath_or_buffer\u001b[0m\u001b[0;34m)\u001b[0m\u001b[0;34m\u001b[0m\u001b[0;34m\u001b[0m\u001b[0m\n\u001b[0m\u001b[1;32m    354\u001b[0m         \u001b[0;32melif\u001b[0m \u001b[0misinstance\u001b[0m\u001b[0;34m(\u001b[0m\u001b[0mfilepath_or_buffer\u001b[0m\u001b[0;34m,\u001b[0m \u001b[0mbytes\u001b[0m\u001b[0;34m)\u001b[0m\u001b[0;34m:\u001b[0m\u001b[0;34m\u001b[0m\u001b[0;34m\u001b[0m\u001b[0m\n\u001b[1;32m    355\u001b[0m             \u001b[0mself\u001b[0m\u001b[0;34m.\u001b[0m\u001b[0mbook\u001b[0m \u001b[0;34m=\u001b[0m \u001b[0mself\u001b[0m\u001b[0;34m.\u001b[0m\u001b[0mload_workbook\u001b[0m\u001b[0;34m(\u001b[0m\u001b[0mBytesIO\u001b[0m\u001b[0;34m(\u001b[0m\u001b[0mfilepath_or_buffer\u001b[0m\u001b[0;34m)\u001b[0m\u001b[0;34m)\u001b[0m\u001b[0;34m\u001b[0m\u001b[0;34m\u001b[0m\u001b[0m\n",
      "\u001b[0;32m/opt/anaconda3/lib/python3.8/site-packages/pandas/io/excel/_xlrd.py\u001b[0m in \u001b[0;36mload_workbook\u001b[0;34m(self, filepath_or_buffer)\u001b[0m\n\u001b[1;32m     35\u001b[0m             \u001b[0;32mreturn\u001b[0m \u001b[0mopen_workbook\u001b[0m\u001b[0;34m(\u001b[0m\u001b[0mfile_contents\u001b[0m\u001b[0;34m=\u001b[0m\u001b[0mdata\u001b[0m\u001b[0;34m)\u001b[0m\u001b[0;34m\u001b[0m\u001b[0;34m\u001b[0m\u001b[0m\n\u001b[1;32m     36\u001b[0m         \u001b[0;32melse\u001b[0m\u001b[0;34m:\u001b[0m\u001b[0;34m\u001b[0m\u001b[0;34m\u001b[0m\u001b[0m\n\u001b[0;32m---> 37\u001b[0;31m             \u001b[0;32mreturn\u001b[0m \u001b[0mopen_workbook\u001b[0m\u001b[0;34m(\u001b[0m\u001b[0mfilepath_or_buffer\u001b[0m\u001b[0;34m)\u001b[0m\u001b[0;34m\u001b[0m\u001b[0;34m\u001b[0m\u001b[0m\n\u001b[0m\u001b[1;32m     38\u001b[0m \u001b[0;34m\u001b[0m\u001b[0m\n\u001b[1;32m     39\u001b[0m     \u001b[0;34m@\u001b[0m\u001b[0mproperty\u001b[0m\u001b[0;34m\u001b[0m\u001b[0;34m\u001b[0m\u001b[0m\n",
      "\u001b[0;32m/opt/anaconda3/lib/python3.8/site-packages/xlrd/__init__.py\u001b[0m in \u001b[0;36mopen_workbook\u001b[0;34m(filename, logfile, verbosity, use_mmap, file_contents, encoding_override, formatting_info, on_demand, ragged_rows)\u001b[0m\n\u001b[1;32m    109\u001b[0m     \u001b[0;32melse\u001b[0m\u001b[0;34m:\u001b[0m\u001b[0;34m\u001b[0m\u001b[0;34m\u001b[0m\u001b[0m\n\u001b[1;32m    110\u001b[0m         \u001b[0mfilename\u001b[0m \u001b[0;34m=\u001b[0m \u001b[0mos\u001b[0m\u001b[0;34m.\u001b[0m\u001b[0mpath\u001b[0m\u001b[0;34m.\u001b[0m\u001b[0mexpanduser\u001b[0m\u001b[0;34m(\u001b[0m\u001b[0mfilename\u001b[0m\u001b[0;34m)\u001b[0m\u001b[0;34m\u001b[0m\u001b[0;34m\u001b[0m\u001b[0m\n\u001b[0;32m--> 111\u001b[0;31m         \u001b[0;32mwith\u001b[0m \u001b[0mopen\u001b[0m\u001b[0;34m(\u001b[0m\u001b[0mfilename\u001b[0m\u001b[0;34m,\u001b[0m \u001b[0;34m\"rb\"\u001b[0m\u001b[0;34m)\u001b[0m \u001b[0;32mas\u001b[0m \u001b[0mf\u001b[0m\u001b[0;34m:\u001b[0m\u001b[0;34m\u001b[0m\u001b[0;34m\u001b[0m\u001b[0m\n\u001b[0m\u001b[1;32m    112\u001b[0m             \u001b[0mpeek\u001b[0m \u001b[0;34m=\u001b[0m \u001b[0mf\u001b[0m\u001b[0;34m.\u001b[0m\u001b[0mread\u001b[0m\u001b[0;34m(\u001b[0m\u001b[0mpeeksz\u001b[0m\u001b[0;34m)\u001b[0m\u001b[0;34m\u001b[0m\u001b[0;34m\u001b[0m\u001b[0m\n\u001b[1;32m    113\u001b[0m     \u001b[0;32mif\u001b[0m \u001b[0mpeek\u001b[0m \u001b[0;34m==\u001b[0m \u001b[0;34mb\"PK\\x03\\x04\"\u001b[0m\u001b[0;34m:\u001b[0m \u001b[0;31m# a ZIP file\u001b[0m\u001b[0;34m\u001b[0m\u001b[0;34m\u001b[0m\u001b[0m\n",
      "\u001b[0;31mFileNotFoundError\u001b[0m: [Errno 2] No such file or directory: 'MedVer_11_pma_APB_3.xls'"
     ]
    }
   ],
   "source": [
    "try:\n",
    "    subj = input(f'1. Get EMG data (.vhdr) \\n\\n Continue with file {path} ? \\n Y/N: ')\n",
    "except:\n",
    "    subj = 'N'\n",
    "\n",
    "\n",
    "if subj == 'Y':\n",
    "    try:\n",
    "        subject_path = path\n",
    "    except:\n",
    "        pass     \n",
    "else:\n",
    "    subject_path = input('Insert subject .vhdr path: ')\n",
    "\n",
    "### LOAD DATA\n",
    "# FILTERS\n",
    "raw = mne.io.read_raw_brainvision(subject_path, verbose=False)\n",
    "# high pass and low pass filters\n",
    "filters_hp_lp = raw.load_data().filter(l_freq=20, h_freq=1000, verbose=False)\n",
    "# notch filters\n",
    "filters_notch = np.array([50, 100, 150, 200])\n",
    "raw_filtered = filters_hp_lp.notch_filter(freqs=filters_notch, verbose=False)\n",
    "pma_data = raw_filtered.to_data_frame()\n",
    " \n",
    "\n",
    "movement_path = input('2. Gett movement data from Excel \\n Insert .xls file path with movement info: ')\n",
    "sheet = pd.read_excel(movement_path)\n",
    "sheet['slow'] = np.where((sheet['slow'] == '')|(sheet.slow.isna()==True), sheet['slow'].shift(1), sheet['slow'])\n",
    "sheet['bad'] = np.where((sheet['bad'] == '')|(sheet.bad.isna()==True), sheet['bad'].shift(1), sheet['bad'])\n",
    "sheet['trial_number'] = (2+ np.array(range(sheet.shape[0])))//2\n",
    "sheet = sheet[(sheet.bad!='TRUE')&(sheet.bad!=1)]\n",
    "print('Your file: ')\n",
    "    \n",
    "sheet.head(3)"
   ]
  },
  {
   "cell_type": "markdown",
   "metadata": {},
   "source": [
    "<p style=\"color:#FFA500\";><b>Check that record and movemet start comply</p>"
   ]
  },
  {
   "cell_type": "markdown",
   "metadata": {},
   "source": [
    "__Plot EMG and movement start__"
   ]
  },
  {
   "cell_type": "code",
   "execution_count": null,
   "metadata": {},
   "outputs": [],
   "source": [
    "mscl = sheet.muscle[0]\n",
    "movement_time = sheet.final_corrected_movement_time\n",
    "try:\n",
    "    plot_emg_events(raw_filtered, movement_time)\n",
    "except:\n",
    "    plot_signal(pma_data, movement_time, mscl)"
   ]
  },
  {
   "cell_type": "markdown",
   "metadata": {},
   "source": [
    "## PMA processing"
   ]
  },
  {
   "cell_type": "markdown",
   "metadata": {},
   "source": [
    "### 1. Analyse left hand"
   ]
  },
  {
   "cell_type": "markdown",
   "metadata": {},
   "source": [
    "<p style=\"color:#FF0000\";><b>can adjast % of picks in pma find algo. Look \"#change\" row</p>"
   ]
  },
  {
   "cell_type": "code",
   "execution_count": null,
   "metadata": {
    "scrolled": true
   },
   "outputs": [],
   "source": [
    "pma_all = pd.DataFrame()\n",
    "\n",
    "PMA_START_POSITIVE = 0.25 \n",
    "\n",
    "\n",
    "for muscle in tqdm(['lAPB','lADM','lECU']):\n",
    "    # culculate preactivation thrs in preactivatuon window based on envelop\n",
    "    thrss = pma_find_preact_thrs(sheet, pma_data, 1000, muscle)\n",
    "    # find pma times \n",
    "    pma = find_pma(pma_data, muscle, thrss, PMA_START_POSITIVE) \n",
    "    # calculate rms or each pma\n",
    "    rms = rms_pma(pma)\n",
    "    # save all muscles to one df\n",
    "    pma_all=pma_all.append(rms)\n",
    "    print(muscle, 'is done')\n",
    "    \n",
    "    \n",
    "pma_all['pma_latency_ms'] = pma_all.pma_time_start - pma_all.movement_start"
   ]
  },
  {
   "cell_type": "code",
   "execution_count": null,
   "metadata": {},
   "outputs": [],
   "source": [
    "pma_all['session'] = subject_path[-6]\n",
    "loc = len(subject_path)-subject_path[::-1].find(SIGN_PATH)\n",
    "pma_all['file'] = subject_path[loc:]\n",
    "pma_all.head(2)"
   ]
  },
  {
   "cell_type": "markdown",
   "metadata": {},
   "source": [
    "<p style=\"color:#FFA500\";><b>To check pma start by plot</p>"
   ]
  },
  {
   "cell_type": "markdown",
   "metadata": {},
   "source": [
    "<p style=\"color:#FF0000\";><b>change mscl - muscle for visualization</p>"
   ]
  },
  {
   "cell_type": "code",
   "execution_count": null,
   "metadata": {},
   "outputs": [],
   "source": [
    "mscl = 'lAPB'\n",
    "markups = ((pma_all[pma_all.muscle==mscl].pma_time_start).append(pma_all[pma_all.muscle==mscl].pma_time_end.append(pma_all[pma_all.muscle==mscl].movement_start.append(pma_all[pma_all.muscle==mscl].movement_end)))).sort_values()\n",
    "\n",
    "try:\n",
    "    plot_emg_events(raw_filtered, markups)\n",
    "except:\n",
    "    plot_signal(pma_data, markups, mscl)\n",
    "    "
   ]
  },
  {
   "cell_type": "markdown",
   "metadata": {},
   "source": [
    "<p style=\"color:#FFA500\";><b>Check pma average numbers</p>"
   ]
  },
  {
   "cell_type": "code",
   "execution_count": null,
   "metadata": {},
   "outputs": [],
   "source": [
    "round(pma_all.groupby(['muscle']).agg({'pma_duration_ms':'mean',\n",
    "                                 'pma_latency_ms':'mean',\n",
    "                                 'pma_rms_mean':'mean',\n",
    "                                 'pma_mean_uv':'mean',\n",
    "                                 'pma_wnd':'count', # = how many pma found\n",
    "                                 'movement_start':'count' # = how many movemnts\n",
    "                                }),1)"
   ]
  },
  {
   "cell_type": "code",
   "execution_count": null,
   "metadata": {},
   "outputs": [],
   "source": [
    "pma_format = round(pma_all[[\n",
    "       'preactivation_mean_uv',\n",
    "       'preactivation_max_uv',\n",
    "       'preactivation_std_uv',\n",
    "       'preactivation_auc_uv',\n",
    "       'preactivation_window_rms_mean',\n",
    "        'preac_thrs','pma_duration_ms', 'pma_latency_ms',\n",
    "       'pma_mean_uv', 'pma_max_uv', 'pma_std_uv','pma_auc_uv',\n",
    "       'pma_rms_mean',\n",
    "        'muscle','Trial in session', 'session', 'file']].set_index(['Trial in session','muscle','session', 'file']).unstack(1),2)\n",
    "\n",
    "pma_format.head(4)"
   ]
  },
  {
   "cell_type": "markdown",
   "metadata": {},
   "source": [
    "### 2. Data of right hand"
   ]
  },
  {
   "cell_type": "code",
   "execution_count": null,
   "metadata": {},
   "outputs": [],
   "source": [
    "active_muscle = sheet.muscle[0]\n",
    "r_hand = active_hand(pma_all[pma_all.muscle=='lAPB'][['movement_start', 'movement_end','indexes','Trial in session','Is slow']], pma_data, 10, active_muscle)\n",
    "\n",
    "r_hand['session'] = subject_path[-6]\n",
    "loc = len(subject_path)-subject_path[::-1].find(SIGN_PATH)\n",
    "r_hand['file'] = subject_path[loc:]\n",
    "\n",
    "r_hand.head(3)"
   ]
  },
  {
   "cell_type": "markdown",
   "metadata": {},
   "source": [
    "<p style=\"color:#FFA500\";><b>Check active hand average numbers</p>"
   ]
  },
  {
   "cell_type": "code",
   "execution_count": null,
   "metadata": {},
   "outputs": [],
   "source": [
    "round(r_hand.groupby(['muscle']).agg({'preactivation_mean_uv':'mean',\n",
    "                                 'activation_mean_uv':'mean',\n",
    "                                 'activation_auc_uv':'mean',\n",
    "                                 'movement_start':'count' # = how many movements done\n",
    "                                }),1)"
   ]
  },
  {
   "cell_type": "code",
   "execution_count": null,
   "metadata": {},
   "outputs": [],
   "source": [
    "r_hand_format = round(r_hand[['movement_start','movement_end',\n",
    "       'preactivation_mean_uv',\n",
    "       'preactivation_max_uv',\n",
    "       'preactivation_std_uv',\n",
    "       'preactivation_auc_uv',\n",
    "       'activation_mean_uv',\n",
    "       'activation_max_uv',\n",
    "        'activation_auc_uv',\n",
    "       'activation_std_uv',\n",
    "       'muscle','Trial in session','session', 'Is slow','file']].set_index(['Trial in session','muscle','session', 'file']).unstack(1),2)\n",
    "\n",
    "r_hand_format.head(3)"
   ]
  },
  {
   "cell_type": "markdown",
   "metadata": {},
   "source": [
    "### 3. Merge Data right and left hand"
   ]
  },
  {
   "cell_type": "code",
   "execution_count": null,
   "metadata": {},
   "outputs": [],
   "source": [
    "pma_format.head(2)"
   ]
  },
  {
   "cell_type": "code",
   "execution_count": null,
   "metadata": {},
   "outputs": [],
   "source": [
    "r_hand_format.head(2)"
   ]
  },
  {
   "cell_type": "markdown",
   "metadata": {},
   "source": [
    "<p style=\"color:#FFA500\";><b>Check final output Right and Left hands </p>"
   ]
  },
  {
   "cell_type": "code",
   "execution_count": null,
   "metadata": {},
   "outputs": [],
   "source": [
    "output = r_hand_format.merge(pma_format, how='left', on = ['Trial in session','file','session'], suffixes = ['_active','_pma'])\n",
    "output['active_muscle']  = str(r_hand.active_muscle.unique()[0])\n",
    "output = output.set_index('active_muscle', append=True)\n",
    "output"
   ]
  },
  {
   "cell_type": "markdown",
   "metadata": {},
   "source": [
    "__Save output__"
   ]
  },
  {
   "cell_type": "code",
   "execution_count": null,
   "metadata": {},
   "outputs": [],
   "source": [
    "print('Current EMG file for subject:',subject_path)\n",
    "subject_name = input('Sibject code: ')\n",
    "file_name = subject_name + '_' + output.reset_index().file[0] +'_s' + output.reset_index().session[0] + '.xls'\n",
    "output.to_excel(file_name)\n",
    "print('pma data saved to: ', file_name)"
   ]
  },
  {
   "cell_type": "markdown",
   "metadata": {},
   "source": [
    "Mudrich: Latency of pMA was subsequently defined automatically during the delay between burst-onset of FDIVol and the time point, at which muscular activity in the contralateral (resting) FDIpMA exceeded a threshold of its own mean baseline activity (1000 ms pre-FDIVol burst onset) + 2 SD for a time window of at least 10 ms"
   ]
  }
 ],
 "metadata": {
  "colab": {
   "collapsed_sections": [],
   "include_colab_link": true,
   "name": "pMA_v2.ipynb",
   "provenance": []
  },
  "kernelspec": {
   "display_name": "Python 3",
   "language": "python",
   "name": "python3"
  },
  "language_info": {
   "codemirror_mode": {
    "name": "ipython",
    "version": 3
   },
   "file_extension": ".py",
   "mimetype": "text/x-python",
   "name": "python",
   "nbconvert_exporter": "python",
   "pygments_lexer": "ipython3",
   "version": "3.8.5"
  },
  "widgets": {
   "application/vnd.jupyter.widget-state+json": {
    "107fb4c9afbd45e1847375b66412e925": {
     "model_module": "jupyter-matplotlib",
     "model_module_version": "^0.10.0",
     "model_name": "MPLCanvasModel",
     "state": {
      "_cursor": "default",
      "_dom_classes": [],
      "_figure_label": "/content/PoAn/PoAn_APB_3.eeg",
      "_height": 0,
      "_image_mode": "full",
      "_message": "",
      "_model_module": "jupyter-matplotlib",
      "_model_module_version": "^0.10.0",
      "_model_name": "MPLCanvasModel",
      "_rubberband_height": 0,
      "_rubberband_width": 0,
      "_rubberband_x": 0,
      "_rubberband_y": 0,
      "_view_count": null,
      "_view_module": "jupyter-matplotlib",
      "_view_module_version": "^0.10.0",
      "_view_name": "MPLCanvasView",
      "_width": 0,
      "capture_scroll": true,
      "footer_visible": true,
      "header_visible": true,
      "layout": "IPY_MODEL_cf52a158956f4f548d532f7f0262840b",
      "resizable": true,
      "toolbar": "IPY_MODEL_d97ea6be36604199812f4d2dc6bb27f6",
      "toolbar_position": "left",
      "toolbar_visible": true
     }
    }
   }
  }
 },
 "nbformat": 4,
 "nbformat_minor": 1
}
