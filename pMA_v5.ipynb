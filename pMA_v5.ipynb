{
 "cells": [
  {
   "cell_type": "markdown",
   "metadata": {
    "colab_type": "text",
    "id": "view-in-github"
   },
   "source": [
    "<a href=\"https://colab.research.google.com/github/kozltv/pMA_stabilnost/blob/main/pMA_v2.ipynb\" target=\"_parent\"><img src=\"https://colab.research.google.com/assets/colab-badge.svg\" alt=\"Open In Colab\"/></a>"
   ]
  },
  {
   "cell_type": "markdown",
   "metadata": {},
   "source": [
    "# Part 0: Installation | Import"
   ]
  },
  {
   "cell_type": "markdown",
   "metadata": {},
   "source": [
    "## 0. Install libraries (once)"
   ]
  },
  {
   "cell_type": "raw",
   "metadata": {},
   "source": [
    "!pip3 install numpy\n",
    "!pip3 install mne\n",
    "!pip3 install tqdm\n",
    "!pip3 install pandas\n",
    "!pip3 install matplotlib\n",
    "!pip3 install sklearn\n",
    "!pip3 install oauth2client\n",
    "!pip3 install gspread_dataframe\n",
    "!pip3 install ipywidgets \n",
    "\n",
    "# for widgets\n",
    "!ipython notebook --pylab=inline\n",
    "!conda install -c conda-forge/label/cf202003 nodejs\n",
    "!conda install -y nodejs\n",
    "!pip3 install ipympl\n",
    "!pip3 install --upgrade jupyterlab\n",
    "!jupyter labextension install @jupyter-widgets/jupyterlab-manager\n",
    "!jupyter labextension install jupyter-matplotlib\n",
    "!jupyter nbextension enable --py widgetsnbextension"
   ]
  },
  {
   "cell_type": "markdown",
   "metadata": {},
   "source": [
    "## 1. Import libraries"
   ]
  },
  {
   "cell_type": "code",
   "execution_count": 1,
   "metadata": {
    "id": "0eYwgaKTgEPQ"
   },
   "outputs": [],
   "source": [
    "import numpy as np\n",
    "import os\n",
    "import mne\n",
    "from tqdm.notebook import tqdm\n",
    "import pandas as pd\n",
    "import matplotlib.pyplot as plt\n",
    "from sklearn.metrics import auc\n",
    "import warnings\n",
    "warnings.filterwarnings('ignore')\n",
    "from oauth2client.service_account import ServiceAccountCredentials\n",
    "import gspread_dataframe as gsp\n",
    "import gspread\n",
    "from ipywidgets import widgets  \n",
    "from ipywidgets import interact, interactive, fixed, interact_manual \n",
    "\n",
    "%matplotlib widget \n",
    "#%matplotlib notebook\n",
    "#%matplotlib osx"
   ]
  },
  {
   "cell_type": "markdown",
   "metadata": {
    "id": "Y4ZE3YixgEPR"
   },
   "source": [
    "## 2. Run functions"
   ]
  },
  {
   "cell_type": "code",
   "execution_count": 2,
   "metadata": {
    "id": "rQolN0BWh-jS"
   },
   "outputs": [],
   "source": [
    "# To work with google sheets\n",
    "#key_path = '/Users/ksenia.kozlova/Documents/GitHub/pma_grant'\n",
    "\n",
    "def find_movement(data, time, mscl, window, thrs, thrs2, positive):\n",
    "    '''Find movement\n",
    "\n",
    "    arguments: \n",
    "      raw: DataFrame, filtered emg\n",
    "      time: list with [start, end], contains start and end of raw data to analise\n",
    "      mscl: str, name of EMG chanel\n",
    "      window: int, window size in ms \n",
    "      thrs: int, threshold in uV to find movement start in the whole signal\n",
    "      thrs2:  int, threshold in uV to find more accurate movement start/end moment in the window \n",
    "          where movement started/ended based in thrs\n",
    "      positive: float, percentage of ticks in the window which should be more or eaqual\n",
    "          to thrs/thrs2\n",
    "    '''\n",
    "    \n",
    "    # 0. Select data\n",
    "    # ms to select time window to find movement start (ms)\n",
    "    try:\n",
    "        start = time[0]\n",
    "        end=time[1]\n",
    "    except:\n",
    "        start = time[0]\n",
    "        end = raw.to_data_frame().time.max()\n",
    "        \n",
    "    dat = data[(data.time>=start)&(data.time<=end)]\n",
    "            \n",
    "    # NEW 1. Sliding window to check condition \n",
    "    y = abs(dat[mscl]).reset_index(drop=True)\n",
    "    w_ms = window\n",
    "    w_ticks = w_ms * 5\n",
    "\n",
    "    a = y >= thrs\n",
    "\n",
    "    s = np.zeros(len(a)-w_ticks+1, dtype=int)\n",
    "\n",
    "    s[0] = np.sum(a[:w_ticks])\n",
    "\n",
    "    for i in tqdm(range(1, len(s), 1)):\n",
    "        s[i] = s[i-1] - a[i-1] + a[i+w_ticks-1]\n",
    "\n",
    "    cond_result = s >= (w_ticks * positive)\n",
    "    time = dat.time[:len(dat)-w_ticks+1]\n",
    "    \n",
    "      \n",
    "\n",
    "    # 2. Find \"start\" and \"end\" of movement\n",
    "    result3 = pd.DataFrame({'times':time, 'result':cond_result})\n",
    "    result3['previous'] = result3.result.shift(1)\n",
    "    result3['change'] = result3.result - result3.previous\n",
    "\n",
    "    trig = result3[result3.change.isin([1,-1])].reset_index(drop=True)\n",
    "    trig['movement'] = np.where(trig.change==1, 'start', 'end')\n",
    "\n",
    "\n",
    "\n",
    "    # 3. select times in the suitable windows preciselly \n",
    "    res = []\n",
    "    for tr in trig.times:\n",
    "        wnd = np.abs(dat[(dat.time>=tr)&(dat.time<=tr+window)])\n",
    "\n",
    "        if trig[trig.times==tr].movement.values[0] == 'start':\n",
    "            # select time when uV achived thrs first\n",
    "            first = wnd[wnd[mscl]>=thrs2].time.min()\n",
    "            res.append([first,trig[trig.times==tr].movement.values[0]])\n",
    "        else: \n",
    "            last = wnd[wnd[mscl]>=thrs2].time.max()\n",
    "            res.append([last,trig[trig.times==tr].movement.values[0]])\n",
    "        \n",
    "    markup = pd.DataFrame(res)\n",
    "    if markup.shape[1]>1:\n",
    "        markup.columns = ['time','name']\n",
    "    else:\n",
    "        pass\n",
    "        \n",
    "    return markup, dat\n",
    "\n",
    "def plot_signal(data, movement_time, mscl):\n",
    "    \"\"\"\n",
    "    Interactive plot to see movement start closer\n",
    "\n",
    "    Arguments:\n",
    "      data: DataFrame with EMG by channels\n",
    "      movement_time: array with times of movement start/end\n",
    "    \"\"\"\n",
    "\n",
    "    fig, (ax0) = plt.subplots(nrows=1)\n",
    "    for r in movement_time:\n",
    "        ax0.axvline(x=r, color='r')\n",
    "\n",
    "    ax0.plot(data.time, data[mscl], label='signal')\n",
    "    ax0.legend()\n",
    "    \n",
    "    \n",
    "def plot_emg_events(raw, movement_time, n_channels=1):\n",
    "    \"\"\"\n",
    "    MNE Interactive plot to see whole EMG with movement time markups\n",
    "\n",
    "    Arguments:\n",
    "      raw: emg file\n",
    "      movement_time: array with times of movement start/end\n",
    "    \"\"\"\n",
    "    # create event list from movemet_times and name each event with order number\n",
    "    events = pd.DataFrame({'time':np.array(movement_time)*5, 'event_value':1, 'event_name':list(range(1,len(np.array(movement_time))+1))})\n",
    "    filt = np.array([50, 100, 150, 200])\n",
    "    notch = raw.notch_filter(freqs=filt, verbose=False) #filter\n",
    "    notch.plot(n_channels=n_channels, event_color='red', \n",
    "             events=np.array(events), \n",
    "             scalings=1e-3, \n",
    "             highpass=20, lowpass=1000)\n",
    "    \n",
    "def create_events(movement_time):\n",
    "    \"\"\"\n",
    "    Creates event list from movemet_times and name each event with order number\n",
    "\n",
    "    Arguments:\n",
    "      movement_time: array with times of movement start/end\n",
    "    \"\"\"\n",
    "    events = pd.DataFrame({'time':np.array(movement_time), 'event_value':1, 'event_name':list(range(1,len(np.array(movement_time))+1))})\n",
    "    return events\n",
    "\n",
    "    \n",
    "\n",
    "\n",
    "\n",
    "def adjust_movements(ev):\n",
    "    \"\"\"\n",
    "    Interactive program based on widgets to Manually adjast Algo movement markups\n",
    "\n",
    "    Arguments:\n",
    "      ev: array with time of movement markups which are need to be adjasted\n",
    "    \"\"\"\n",
    "    \n",
    "    #raw file to dataframe\n",
    "    data = raw.filter(l_freq=20, h_freq=1000, verbose=False).to_data_frame()\n",
    "    \n",
    "    # create widget to list events with button 'next event'\n",
    "    button=widgets.Button(\n",
    "        value=False,\n",
    "        description='Next event',\n",
    "        disabled=False,\n",
    "        button_style='', # 'success', 'info', 'warning', 'danger' or ''\n",
    "        tooltip='Description',\n",
    "        icon='Saved' # (FontAwesome names without the `fa-` prefix)\n",
    "                        )\n",
    "\n",
    "    \n",
    "    l = [] # for loop - indexes list of redo events \n",
    "    new_ts = [] # list to save new times stamp\n",
    "\n",
    "    def plus(sender):\n",
    "        l.append(1)\n",
    "        index = np.array(l).sum()\n",
    "        try:\n",
    "            \n",
    "            # create windget to Change event position\n",
    "            w = widgets.FloatText(\n",
    "            value=ev[index-1],\n",
    "            min=ev[index-1]-800,\n",
    "            max=ev[index-1]+3000,\n",
    "            step=5,\n",
    "            description='New Value uV:',\n",
    "            disabled=False,\n",
    "            continuous_update=False,\n",
    "            orientation='horizontal',\n",
    "            )\n",
    "            \n",
    "            # function for visualisation of new timestamp based on windget to Change event position\n",
    "            def f(x):\n",
    "                fig, (ax0) = plt.subplots(nrows=1)\n",
    "                ax0.axvline(x=x, color='r')\n",
    "                ax0.plot(data[(data.time>=ev[index-1]-800)&(data.time<=ev[index-1]+3000)].time, \n",
    "                         data[(data.time>=ev[index-1]-800)&(data.time<=ev[index-1]+3000)][mscl], label='signal') \n",
    "\n",
    "            \n",
    "            # create Button to save new position\n",
    "            b=widgets.Button(\n",
    "                value=False,\n",
    "                description='Save timestamp',\n",
    "                disabled=False,\n",
    "                button_style='', # 'success', 'info', 'warning', 'danger' or ''\n",
    "                tooltip='Description',\n",
    "                icon='Saved' # (FontAwesome names without the `fa-` prefix)\n",
    "                )\n",
    "            \n",
    "            \n",
    "            saved_ts=[] # new timestamp list\n",
    "            \n",
    "            # function of button 'save timestemp' - it saves new value to the list\n",
    "            def but(sender):\n",
    "                saved_ts.append(w.value)\n",
    "\n",
    "            b.on_click(but)\n",
    "            display(b,interactive(f, x=w))\n",
    "            new_ts.append(saved_ts)\n",
    "            \n",
    "        except Exception as e:\n",
    "            print(\"You finished\")\n",
    "\n",
    "\n",
    "    button.on_click(plus)\n",
    "   \n",
    "\n",
    "    \n",
    "    return display(button),new_ts\n",
    "\n",
    "\n",
    "# 1. SET UP GOOGLE SHEET API\n",
    "# ----------- CHANGE CREADENTIALS LOCATION ------------------------\n",
    "\n",
    "# #current_dir = '/content'\n",
    "# current_dir = key_path\n",
    "# GSPREAD_KEYS_PATH = current_dir + '/esoteric-pad-326113-4ab241befdd8.json' # this is the directory where your file with key located\n",
    " \n",
    "\n",
    "# # Some functions for authorizing (no need to change something here)\n",
    "# def authorize_at_gspread(gspread_key_path=GSPREAD_KEYS_PATH):\n",
    "#     \"\"\"\n",
    "#     Return authorized gspread object\n",
    "#     :param gspread_key_path: path to credentials key\n",
    "#     :return: gc object\n",
    "#     \"\"\"\n",
    "#     scope = ['https://spreadsheets.google.com/feeds']\n",
    "#     credentials = ServiceAccountCredentials.from_json_keyfile_name(GSPREAD_KEYS_PATH, scope)\n",
    "#     gc = gspread.authorize(credentials)\n",
    "#     return gc\n",
    "# # authorization\n",
    "# authorize_at_gspread()\n",
    "\n",
    "\n",
    "# 2. Function for particular sheet connection\n",
    "# def get_workbook(workbook_url, gspread_key_path=GSPREAD_KEYS_PATH):\n",
    "#     \"\"\" Returns GSPREAD object with opened workbook.\n",
    "#     Just open worksheet by referring to .worksheet(name) or use gspread_dataframe to load dataframe.\n",
    "#     \"\"\"\n",
    "#     gc = authorize_at_gspread(gspread_key_path=gspread_key_path)\n",
    "#     return gc.open_by_url(workbook_url)\n",
    "\n",
    "\n",
    "# Damir - to write to a sheet fucntion\n",
    "# def tospreadsheet (df, workbook_link, header = 'Title', key = 'new'):\n",
    "#     \"\"\"Import dataframe to google spreadsheet by link\n",
    "#     Args: \n",
    "#         df: imported dataframe\n",
    "#         workbook: link to dataframe\n",
    "#         header: header of worksheet \n",
    "#         key: default 'new'\n",
    "#         if you want to use existing worksheet pass 'to existing sheet'\n",
    "\n",
    "#     \"\"\"\n",
    "#     if key == 'new':\n",
    "#         workbook = get_workbook(workbook_link)\n",
    "#         wks = workbook.add_worksheet(header, len(df.index),len(df.columns))\n",
    "#         gsp.set_with_dataframe(wks, df, row = 1, col =1, include_column_header=True)\n",
    "\n",
    "#     elif key == 'existing':\n",
    "#         workbook = get_workbook(workbook)\n",
    "#         wks = workbook.worksheet(header)\n",
    "#         gsp.set_with_dataframe(wks, df, row = 1, col =1, include_column_header=True)\n",
    "        \n",
    "\n",
    "def gsheet(header,new_t,bad,slow, sheet=False):\n",
    "    \n",
    "    new = pd.DataFrame({'events_to_correct':redo})\n",
    "    new2=pd.concat([new, pd.DataFrame(new_t[1])], axis=1).set_index('events_to_correct')\n",
    "\n",
    "    result = movement_time[['name','time']]\n",
    "    result['event_name'] = result.reset_index()['index']+1\n",
    "    result = result.set_index('event_name')\n",
    "\n",
    "    final = pd.concat([result,new2],axis=1)\n",
    "    final['muscle'] = mscl\n",
    "    final['file'] = path[-20:path.find('.vhdr')][path[-20:path.find('.vhdr')].find('/')+1:]\n",
    "    #final_corrected_movement_time = last filled column before \"muscle\" column\n",
    "    final['final_corrected_movement_time'] = final.apply(lambda x: x.iloc[(x.dropna().to_frame().transpose().columns.get_loc('muscle'))-1],axis=1)\n",
    "\n",
    "    #add Bad and Slow lables\n",
    "    final['slow'] = pd.DataFrame({'index':slow, 'Slow':True}).set_index('index')\n",
    "    final['bad'] = pd.DataFrame({'index':bad, 'Bad':True}).set_index('index')\n",
    "    \n",
    "    link = 'https://docs.google.com/spreadsheets/d/1g0wJeyONCuivtppNc352MBkBIyOgY7FxkQq5XgaBjsg/edit?usp=sharing'\n",
    "\n",
    "    if sheet == True:\n",
    "        pass\n",
    "        #tospreadsheet(final, link, header)\n",
    "    elif sheet == False:\n",
    "        file = header + '.xls'\n",
    "        final.to_excel(file)\n",
    "        print('Movement data saved to file ', file)\n",
    "\n",
    "    return final\n",
    "\n",
    "\n",
    "#PMA functions\n",
    "\n",
    "def envelop(time, mscl, data, sub_window_size):\n",
    "    \"\"\"\n",
    "    time: list, time where calculate envelop\n",
    "    mscl: str\n",
    "    data: df\n",
    "    subwindow_size: int, ms for envelop\n",
    "    \"\"\"\n",
    "    \n",
    "    start = time[0]\n",
    "    end = time[1]    \n",
    "    array = np.array(data[mscl])\n",
    "    \n",
    "    start_index = data[data.time>=start].index.min()\n",
    "    end_index = data[data.time<=end].index.max()    \n",
    "        \n",
    "        \n",
    "    sub_windows = (\n",
    "        start_index + \n",
    "        # *5 cos 5k HZ\n",
    "        np.expand_dims(np.arange(sub_window_size*5), 0) +\n",
    "        # +2 to not mess last 2 indexes; subtraction of sub_window_size to avoid extra indexes missed in data array\n",
    "        np.expand_dims(np.arange(end_index - start_index - sub_window_size*5 + 2), 0).T\n",
    "        )\n",
    "    \n",
    "    envelop = pd.DataFrame(array[sub_windows]).apply(lambda x: (abs(x)).max(), axis = 1)\n",
    "    \n",
    "    return envelop\n",
    "\n",
    "def pma_find_preact_thrs(sheet, data, preactivation_time, mscl):\n",
    "    \"\"\"\n",
    "    sheet: df, data about movement from sheet with correected time\n",
    "    data: df, raw emg data\n",
    "    preactivation_time: int, is ms for preactivation window analisys\n",
    "    mscl: str, name of channel\n",
    "    \"\"\"\n",
    "    # extract movement start corrected\n",
    "    movement_time_cor = sheet[sheet.name=='start'].final_corrected_movement_time\n",
    "    windows = data[data.time.isin(movement_time_cor)].index\n",
    "    each_five = list(range(0,len(windows),5)) #select each 1st index among 5 indexes with te same time (5000 hz) \n",
    "    # find inndex for movement\n",
    "    movemenet_start_index = windows[each_five]\n",
    "    #get trial and its slow lable\n",
    "    slow_trial_list = sheet[['trial_number','slow']].drop_duplicates().slow\n",
    "    #save all inffor to df\n",
    "    preactivation_boards_list = pd.DataFrame({'start_time':np.array(data.time)[movemenet_start_index-preactivation_time*5],\n",
    "                         'end_time':np.array(data.time)[movemenet_start_index],\n",
    "                        'Trial number':sheet.trial_number.unique(),\n",
    "                        'Is slow':slow_trial_list})\n",
    "    \n",
    "    thrss = []\n",
    "    # go through [start, end] times in preactivation\n",
    "    for preact_time in np.array(preactivation_boards_list):\n",
    "        env = envelop(preact_time, mscl, data, 50)\n",
    "        thrs = env.mean() + env.std()*2\n",
    "        \n",
    "        # saves thr, original trial number and slow lable\n",
    "        thrss.append([thrs, preact_time[2], preact_time[3] ])\n",
    "    \n",
    "    thrss = pd.DataFrame(thrss)\n",
    "    thrss[0] = thrss.fillna(np.mean(thrss))\n",
    "    return thrss\n",
    "        \n",
    "def get_movement_indexes(sheet, name, df):\n",
    "    \"\"\"\n",
    "    sheet: df from sheet with 'final_corrected_movement_time' column\n",
    "    name: str, time name from sheet start/end of movement\n",
    "    df: raw.to_data_frame()\n",
    "    \"\"\"\n",
    "    movement_time_cor = sheet[sheet.name==name].final_corrected_movement_time\n",
    "    windows = df[df.time.isin(movement_time_cor)].index\n",
    "    each_five = list(range(0,len(windows),5)) #select each 1st index among 5 indexes with te same time (5000 hz) \n",
    "    movemenet_index = windows[each_five]\n",
    "    return movemenet_index\n",
    "\n",
    "def find_pma(data, mscl, thrss, pma_start_positive):\n",
    "    \n",
    "    \"\"\"\n",
    "    data: df of emg \n",
    "    mscl: str, name of channel like 'lADM' \n",
    "    thrss: list, preactivation thresholds list for the mscl\n",
    "    pma_start_positive: float, share of picks whihch should be >= preact. thrs\n",
    "    \"\"\"\n",
    "\n",
    "    ind_end = get_movement_indexes(sheet, 'end', data)\n",
    "    ind_st = get_movement_indexes(sheet, 'start', data)\n",
    "\n",
    "    all_ind = np.stack((ind_st,ind_end), axis=1)\n",
    "\n",
    "    window_indexes = []\n",
    "    \n",
    "    for r in all_ind:\n",
    "        window_indexes.append(np.array(range(r[0],r[1]+1)))\n",
    "    \n",
    "    movement_indexes = np.asarray(window_indexes)\n",
    "\n",
    "    post_windows = pd.DataFrame()\n",
    "    \n",
    "    post_windows['indexes'] = movement_indexes\n",
    "    post_windows['Trial in session'] = thrss[1]\n",
    "    post_windows['Is slow'] = thrss[2]\n",
    "    \n",
    "    post_windows['preact_window'] = post_windows.apply(lambda x: np.array(data[mscl][np.array(range(x.indexes.min()-5000, x.indexes.min()+1))[np.array(range(x.indexes.min()-5000, x.indexes.min()+1))>=0]]), axis = 1)\n",
    "    post_windows['signal'] = post_windows.apply(lambda x: np.array(data[mscl][x.indexes]), axis=1)\n",
    "    post_windows['time'] = post_windows.apply(lambda x: np.array(data.time[x.indexes]), axis=1)\n",
    "    post_windows['preactivation_mean_uv'] = post_windows.apply(lambda row: np.mean(abs(row.preact_window)), axis=1)\n",
    "    post_windows['preactivation_max_uv'] = post_windows.apply(lambda row: np.max(abs(row.preact_window)), axis=1)\n",
    "    post_windows['preactivation_std_uv'] = post_windows.apply(lambda row: np.std(abs(row.preact_window)), axis=1)\n",
    "    post_windows['preactivation_auc_uv'] = post_windows.apply(lambda row: auc(range(len(row.preact_window)),abs(row.preact_window)), axis=1)\n",
    "        \n",
    "\n",
    "    post_windows['movement_start'] = post_windows.apply(lambda row: row['time'].min(), axis = 1)\n",
    "    post_windows['movement_end'] = post_windows.apply(lambda row: row['time'].max(), axis = 1)\n",
    "    post_windows['preac_thrs'] = thrss[0]\n",
    "    \n",
    "    \n",
    "    def find_start_pma(y, tr, pma_start_positive):\n",
    "        w = 50 #len of sliding window in ticks (10 ms X 5 hz)\n",
    "        w_tr = int(pma_start_positive*w) #number of ticks over tr to find pma\n",
    "        for i in range (len(y)-w):\n",
    "            y2 = [x for x in y[i:i+w] if abs(x)>tr]\n",
    "            #y[i:i+w][y[i:i+w]>tr]\n",
    "            if len(y2) >= w_tr:\n",
    "                #print(y2,i)\n",
    "                return i\n",
    "\n",
    "    def find_end_pma(y, tr, pma_start_positive):\n",
    "        last_index = find_start_pma(y[::-1], tr, pma_start_positive)\n",
    "        return len(y)-last_index\n",
    "        \n",
    "\n",
    "    # based on preactivation\n",
    "    post_windows['pma_start_index'] = post_windows.apply(lambda row: find_start_pma(row.signal, row.preac_thrs, pma_start_positive), axis=1)\n",
    "    post_windows['pma_end_index'] = post_windows.apply(lambda row: pd.DataFrame(row.signal)[abs(row.signal)>row.preac_thrs].index.max()\n",
    "                                                  , axis=1)\n",
    "#     post_windows['pma_end_index'] = post_windows.apply(lambda row: find_end_pma(row.signal, row.preac_thrs, pma_start_positive), axis=1)\n",
    "\n",
    "    post_windows['pma_end_index'] = np.where(post_windows['pma_start_index'].isna()==False, post_windows['pma_end_index'], np.NaN) \n",
    "    \n",
    "\n",
    "    def find_time(array_with_data, index):\n",
    "        try:\n",
    "            return int(array_with_data[int(index)])\n",
    "        except Exception as s:\n",
    "            pass\n",
    "\n",
    "\n",
    "    post_windows['pma_time_start'] = post_windows.apply(lambda row: find_time(row.time, row.pma_start_index)\n",
    "                                                  , axis=1)\n",
    "    post_windows['pma_time_end'] = post_windows.apply(lambda row: find_time(row.time, row.pma_end_index)\n",
    "                                                  , axis=1)\n",
    "    post_windows['pma_duration_ms'] = post_windows['pma_time_end'] - post_windows['pma_time_start']\n",
    "    \n",
    "    post_windows['muscle'] = mscl\n",
    "\n",
    "    \n",
    "    return post_windows\n",
    "\n",
    "\n",
    "def check_pma(pma_df, pma_duration):\n",
    "    \"\"\"\n",
    "    pma_df: df recieved from find_pma function\n",
    "    pma_duration: int, ms how long pma should be\n",
    "    \n",
    "    \"\"\"\n",
    "    check_pma_df = pma_df\n",
    "    check_pma_df['pma_check'] = check_pma_df.dropna().apply(lambda x: x.signal[int(x.pma_start_index):int(x.pma_end_index+1)], axis = 1)\n",
    "    check_pma_df['rms_pma'] = check_pma_df.dropna().apply(lambda x: ((abs(x.pma_check)**2).mean())**0.5, axis = 1)\n",
    "\n",
    "    def env_pma(line, sub_window_size):\n",
    "        array = line.signal\n",
    "        start_index = int(line.pma_start_index)\n",
    "        end_index = int(line.pma_end_index)   \n",
    "\n",
    "        sub_windows = (\n",
    "            start_index + \n",
    "            # *5 cos 5k HZ\n",
    "            np.expand_dims(np.arange(sub_window_size*5), 0) +\n",
    "            # +2 to not mess last 2 indexes; subtraction of sub_window_size to avoid extra indexes missed in data array\n",
    "            np.expand_dims(np.arange(end_index - start_index - sub_window_size*5 + 2), 0).T\n",
    "            )\n",
    "\n",
    "        envelop = pd.DataFrame(array[sub_windows]).apply(lambda x: (abs(x)).max(), axis = 1)\n",
    "\n",
    "        return np.array(envelop).mean()\n",
    "\n",
    "    check_pma_df['pma_envelop_mean'] =  check_pma_df.dropna().apply(lambda x: env_pma(x,pma_duration), axis=1 )\n",
    "\n",
    "    return check_pma_df\n",
    "\n",
    "\n",
    "def rms_pma(pma_df):\n",
    "    \"\"\"\n",
    "    pma_df: df recieved from find_pma function\n",
    "    \"\"\"\n",
    "    \n",
    "    pma_df2 = pma_df.reset_index(drop=True)\n",
    "    \n",
    "    # \"try\" for cases when no pma \n",
    "    try:\n",
    "        pma_df2['pma_wnd'] = pma_df2[['signal','pma_start_index','pma_end_index']].dropna().apply(lambda x: x.signal[int(x.pma_start_index):int(x.pma_end_index+1)], axis = 1)\n",
    "        pma_df2['pma_mean_uv'] = pma_df2[['pma_wnd']].dropna().apply(lambda row: np.mean(abs(row.pma_wnd)), axis=1)\n",
    "        pma_df2['pma_max_uv'] = pma_df2[['pma_wnd']].dropna().apply(lambda row: np.max(abs(row.pma_wnd)), axis=1)\n",
    "        pma_df2['pma_std_uv'] = pma_df2[['pma_wnd']].dropna().apply(lambda row: np.std(abs(row.pma_wnd)), axis=1)\n",
    "        pma_df2['pma_auc_uv'] = pma_df2[['pma_wnd']].dropna().apply(lambda row: auc(range(len(row.pma_wnd)),abs(row.pma_wnd)), axis=1)\n",
    "    except:\n",
    "        pass\n",
    "    \n",
    "    def rms(line, sub_window_size):\n",
    "        array = line\n",
    "        start_index = 0\n",
    "        end_index = len(array) - 1  \n",
    "\n",
    "        sub_windows = (\n",
    "            start_index + \n",
    "            # *5 cos 5k HZ\n",
    "            np.expand_dims(np.arange(sub_window_size*5), 0) +\n",
    "            # +2 to not mess last 2 indexes; subtraction of sub_window_size to avoid extra indexes missed in data array\n",
    "            np.expand_dims(np.arange(end_index - start_index - sub_window_size*5 + 2), 0).T\n",
    "            )\n",
    "\n",
    "        #rms_pma = pd.DataFrame(array[sub_windows]).apply(lambda x: ((abs(x)**2).mean())**0.5, axis = 1)\n",
    "        rms_pma = np.array([((abs(wnd)**2).mean())**0.5 for wnd in array[sub_windows]]).mean()\n",
    "\n",
    "        return rms_pma\n",
    "    \n",
    "    # \"try\" for cases when no pma \n",
    "    try:\n",
    "        pma_df2['pma_rms_mean'] =  pma_df2[['pma_wnd']].dropna().apply(lambda x: rms(x.pma_wnd, 30), axis=1 )\n",
    "    except:\n",
    "        pass\n",
    "    pma_df2['preactivation_window_rms_mean'] =  pma_df2[['preact_window']].apply(lambda x: rms(x.preact_window, 30), axis=1 )\n",
    "     \n",
    "    return pma_df2\n",
    "\n",
    "\n",
    "def active_hand(all_pma_data, data, rms_time, active_mscl):\n",
    "    \n",
    "    \"\"\"\n",
    "    \n",
    "    pma_data: df given from pma function columns indexes, movement_start/end are needed\n",
    "    data: df, emg data freq. filtered - to get pre/activation data in right hand\n",
    "    rms_time: ms, window size to calc rms\n",
    "    active_mscl: str, active muscle\n",
    "    \"\"\"\n",
    "    \n",
    "    all_pma_data = all_pma_data.reset_index(drop=True)\n",
    "    active_hand = pd.DataFrame()\n",
    "    \n",
    "    active_hand['indexes'] = all_pma_data.indexes\n",
    "    active_hand['Trial in session'] = all_pma_data['Trial in session']\n",
    "    active_hand['Is slow'] = all_pma_data['Is slow']\n",
    "    active_hand['movement_start'] = all_pma_data.movement_start\n",
    "    active_hand['movement_end'] = all_pma_data.movement_end\n",
    "    \n",
    "    def rms(line, sub_window_size):\n",
    "        array = line\n",
    "        start_index = 0\n",
    "        end_index = len(array) - 1  \n",
    "\n",
    "        sub_windows = (\n",
    "            start_index + \n",
    "            # *5 cos 5k HZ\n",
    "            np.expand_dims(np.arange(sub_window_size*5), 0) +\n",
    "            # +2 to not mess last 2 indexes; subtraction of sub_window_size to avoid extra indexes missed in data array\n",
    "            np.expand_dims(np.arange(end_index - start_index - sub_window_size*5 + 2), 0).T\n",
    "            )\n",
    "        #rms_pma = np.array([((abs(wnd)**2).mean())**0.5 for wnd in array[sub_windows]]).mean()\n",
    "        rms_pma = pd.DataFrame(array[sub_windows]).apply(lambda x: ((abs(x)**2).mean())**0.5, axis = 1).mean()\n",
    "        return rms_pma\n",
    "\n",
    "    active_hand_all = pd.DataFrame()\n",
    "    for m in tqdm(['rAPB','rADM','rECU']): \n",
    "        active_hand['preactivation_window'] = active_hand.apply(lambda x: np.array(data[m][np.array(range(x.indexes.min()-5000, x.indexes.min()+1))[np.array(range(x.indexes.min()-5000, x.indexes.min()+1))>=0]]), axis = 1)\n",
    "        active_hand['activation_window'] = active_hand.apply(lambda x: np.array(data[m][x.indexes]), axis=1)\n",
    "\n",
    "        active_hand['preactivation_mean_uv'] = active_hand.apply(lambda row: np.mean(abs(row.preactivation_window)), axis=1)\n",
    "        active_hand['preactivation_max_uv'] = active_hand.apply(lambda row: np.max(abs(row.preactivation_window)), axis=1)\n",
    "        active_hand['preactivation_std_uv'] = active_hand.apply(lambda row: np.std(abs(row.preactivation_window)), axis=1)\n",
    "        active_hand['preactivation_auc_uv'] = active_hand.apply(lambda row: auc(range(len(row.preactivation_window)),abs(row.preactivation_window)), axis=1)\n",
    "        #active_hand['preactivation_window_baseline_rms_mean'] = active_hand.apply(lambda row: rms(abs(row.preactivation_window),rms_time), axis=1)\n",
    "\n",
    "        active_hand['activation_mean_uv'] = active_hand.apply(lambda row: np.mean(abs(row.activation_window)), axis=1)\n",
    "        active_hand['activation_max_uv'] = active_hand.apply(lambda row: np.max(abs(row.activation_window)), axis=1)\n",
    "        active_hand['activation_std_uv'] = active_hand.apply(lambda row: np.std(abs(row.activation_window)), axis=1)\n",
    "        active_hand['activation_auc_uv'] = active_hand.apply(lambda row: auc(range(len(row.activation_window)),abs(row.activation_window)), axis=1)\n",
    "        #active_hand['activation_window_baseline_rms_mean'] = active_hand.apply(lambda row: rms(abs(row.activation_window),rms_time), axis=1)\n",
    "        active_hand['muscle'] = m\n",
    "        active_hand_all = active_hand_all.append(active_hand)\n",
    "        \n",
    "    active_hand_all['movement_start'] = np.where(active_hand_all['muscle'] == active_mscl, active_hand_all['movement_start'], np.NaN)\n",
    "    active_hand_all['movement_end'] = np.where(active_hand_all['muscle'] == active_mscl, active_hand_all['movement_end'], np.NaN)\n",
    "    active_hand_all['active_muscle'] = active_mscl\n",
    "    \n",
    "    \n",
    "    return active_hand_all\n"
   ]
  },
  {
   "cell_type": "markdown",
   "metadata": {},
   "source": [
    "# <br><br> Part 1: find Movement onset"
   ]
  },
  {
   "cell_type": "markdown",
   "metadata": {
    "id": "Vy3mNbWZgEPZ"
   },
   "source": [
    "## 0. Uppload data + data filtering"
   ]
  },
  {
   "cell_type": "markdown",
   "metadata": {},
   "source": [
    "### Adjast: Insert subject .vhdr file PATH"
   ]
  },
  {
   "cell_type": "code",
   "execution_count": 155,
   "metadata": {
    "colab": {
     "base_uri": "https://localhost:8080/"
    },
    "id": "np3pKtJHgEPZ",
    "outputId": "89ffa429-c946-497e-a31d-ec23e81d8d42"
   },
   "outputs": [],
   "source": [
    "path = '/Users/ksenia.kozlova/Documents/GitHub/pma_grant/EMG data/KoYa_30/KoYa_30_70max_rADM_1.vhdr'\n",
    "\n",
    "\n",
    "\n",
    "\n",
    "### LOAD DATA\n",
    "emg = mne.io.read_raw_brainvision(path,verbose=False)\n",
    "\n",
    "# FILTERS\n",
    "# high pass and low pass filters\n",
    "filters_hp_lp = emg.load_data().filter(l_freq=20, h_freq=1000, verbose=False)\n",
    "# notch filters\n",
    "filters_notch = np.array([50, 100, 150, 200])\n",
    "\n",
    "raw = filters_hp_lp.notch_filter(freqs=filters_notch, verbose=False)\n",
    "data = raw.to_data_frame()"
   ]
  },
  {
   "cell_type": "markdown",
   "metadata": {
    "id": "vJnC0_DzgEPa"
   },
   "source": [
    "<p style=\"color:#FFA500\";><b>Information about the record</p>\n"
   ]
  },
  {
   "cell_type": "code",
   "execution_count": 156,
   "metadata": {
    "colab": {
     "base_uri": "https://localhost:8080/"
    },
    "id": "m63tzNozgEPa",
    "outputId": "0d56252c-cf42-494f-bb53-febfd9fe6346"
   },
   "outputs": [
    {
     "name": "stdout",
     "output_type": "stream",
     "text": [
      "<Info | 7 non-empty values\n",
      " bads: []\n",
      " ch_names: rAPB, rADM, rECU, lAPB, lADM, lECU\n",
      " chs: 6 EEG\n",
      " custom_ref_applied: False\n",
      " highpass: 20.0 Hz\n",
      " lowpass: 1000.0 Hz\n",
      " meas_date: 2021-07-28 22:31:19 UTC\n",
      " nchan: 6\n",
      " projs: []\n",
      " sfreq: 5000.0 Hz\n",
      ">\n"
     ]
    }
   ],
   "source": [
    "print(raw.info)"
   ]
  },
  {
   "cell_type": "markdown",
   "metadata": {
    "id": "NuZD2C-bgEPb"
   },
   "source": [
    "### Plot EMG"
   ]
  },
  {
   "cell_type": "markdown",
   "metadata": {},
   "source": [
    "<p style=\"color:#FFA500\";><b>Check whether record is ok</p>"
   ]
  },
  {
   "cell_type": "code",
   "execution_count": 158,
   "metadata": {
    "colab": {
     "base_uri": "https://localhost:8080/",
     "height": 153,
     "referenced_widgets": [
      "107fb4c9afbd45e1847375b66412e925"
     ]
    },
    "id": "0H-RRFXXgEPb",
    "outputId": "d48cb29e-735c-4479-ac5c-e207b06fe88f"
   },
   "outputs": [
    {
     "data": {
      "application/vnd.jupyter.widget-view+json": {
       "model_id": "cdd2ecffaaae4246965e4df4b375f3d5",
       "version_major": 2,
       "version_minor": 0
      },
      "text/plain": [
       "Canvas(toolbar=Toolbar(toolitems=[('Home', 'Reset original view', 'home', 'home'), ('Back', 'Back to previous …"
      ]
     },
     "metadata": {},
     "output_type": "display_data"
    }
   ],
   "source": [
    "try:\n",
    "    raw.plot(verbose=False, n_channels = 1)\n",
    "except:\n",
    "    print('Error')"
   ]
  },
  {
   "cell_type": "code",
   "execution_count": 154,
   "metadata": {},
   "outputs": [
    {
     "data": {
      "text/plain": [
       "<Info | 7 non-empty values\n",
       " bads: []\n",
       " ch_names: rAPB, rADM, rECU, lAPB, lADM, lECU\n",
       " chs: 6 EEG\n",
       " custom_ref_applied: False\n",
       " highpass: 20.0 Hz\n",
       " lowpass: 1000.0 Hz\n",
       " meas_date: 2021-07-29 13:03:09 UTC\n",
       " nchan: 6\n",
       " projs: []\n",
       " sfreq: 5000.0 Hz\n",
       ">"
      ]
     },
     "execution_count": 154,
     "metadata": {},
     "output_type": "execute_result"
    }
   ],
   "source": [
    "raw.info"
   ]
  },
  {
   "cell_type": "markdown",
   "metadata": {
    "id": "F4vMU-ZdgEPb"
   },
   "source": [
    "## 1. Find movement with ALGO"
   ]
  },
  {
   "cell_type": "markdown",
   "metadata": {
    "id": "pJGoLOVmgEPb"
   },
   "source": [
    "### 1. Setup AlGO parameters"
   ]
  },
  {
   "cell_type": "markdown",
   "metadata": {
    "id": "EuMDXQi5gEPc"
   },
   "source": [
    "### Select trail part of data with 3-5 movements "
   ]
  },
  {
   "cell_type": "markdown",
   "metadata": {},
   "source": [
    "#### Adjast: muscle, start_trial, end_trial"
   ]
  },
  {
   "cell_type": "code",
   "execution_count": 165,
   "metadata": {
    "id": "MlSFqH4ygEPc"
   },
   "outputs": [],
   "source": [
    "# active muscle channel\n",
    "muscle = 'lADM'\n",
    "# time in ms\n",
    "start_trial = 86000\n",
    "end_trial = 96000\n",
    "\n",
    "\n",
    "# no changes\n",
    "trial_data = data[(data.time>=start_trial)&(data.time<=end_trial)]"
   ]
  },
  {
   "cell_type": "markdown",
   "metadata": {
    "id": "4PTsg6xEgEPd"
   },
   "source": [
    "Plot Trial signal\n",
    "<p style=\"color:#FFA500\";><b>check trial data</p>"
   ]
  },
  {
   "cell_type": "code",
   "execution_count": 166,
   "metadata": {
    "id": "n-P4HC5igEPd"
   },
   "outputs": [
    {
     "data": {
      "application/vnd.jupyter.widget-view+json": {
       "model_id": "1e8df5c28b5847fc80f0fd0961741d84",
       "version_major": 2,
       "version_minor": 0
      },
      "text/plain": [
       "Canvas(toolbar=Toolbar(toolitems=[('Home', 'Reset original view', 'home', 'home'), ('Back', 'Back to previous …"
      ]
     },
     "metadata": {},
     "output_type": "display_data"
    },
    {
     "data": {
      "text/plain": [
       "[<matplotlib.lines.Line2D at 0x7fe0c633aa00>]"
      ]
     },
     "execution_count": 166,
     "metadata": {},
     "output_type": "execute_result"
    }
   ],
   "source": [
    "# no change\n",
    "fig, (ax0) = plt.subplots(nrows=1)\n",
    "ax0.plot(trial_data.time, abs(trial_data[str(muscle)]))"
   ]
  },
  {
   "cell_type": "markdown",
   "metadata": {
    "id": "u1xdp1sYgEPd"
   },
   "source": [
    "#### Adjast. parameters (thrs, thrs2) !_"
   ]
  },
  {
   "cell_type": "code",
   "execution_count": 122,
   "metadata": {
    "id": "vjfquWGYgEPd"
   },
   "outputs": [],
   "source": [
    "# ADJUST\n",
    "\n",
    "# 1. Thresholds, (absolut value) uV activity threshold which concidered as a movement \n",
    "# thrs - general, thrs2 is more accurate in subwindow \n",
    "thrs = 200\n",
    "thrs2 = 60\n",
    "\n",
    "# 2. time window to analyse (ms)\n",
    "# 650 is optimal \n",
    "window = 655\n",
    "\n",
    "# 3. percentage of picks which should be higher than thrs in the window \n",
    "# 0.05 is optimal\n",
    "positive = 0.05"
   ]
  },
  {
   "cell_type": "markdown",
   "metadata": {
    "id": "FWbVrmvNgEPe"
   },
   "source": [
    "### Try algo settings on trial data at first."
   ]
  },
  {
   "cell_type": "code",
   "execution_count": 123,
   "metadata": {
    "id": "av5lG5iygEPe"
   },
   "outputs": [
    {
     "data": {
      "application/vnd.jupyter.widget-view+json": {
       "model_id": "e672cd6fb0664719931d1220c052ec93",
       "version_major": 2,
       "version_minor": 0
      },
      "text/plain": [
       "HBox(children=(HTML(value=''), FloatProgress(value=0.0, max=96730.0), HTML(value='')))"
      ]
     },
     "metadata": {},
     "output_type": "display_data"
    },
    {
     "name": "stdout",
     "output_type": "stream",
     "text": [
      "\n"
     ]
    },
    {
     "data": {
      "text/html": [
       "<div>\n",
       "<style scoped>\n",
       "    .dataframe tbody tr th:only-of-type {\n",
       "        vertical-align: middle;\n",
       "    }\n",
       "\n",
       "    .dataframe tbody tr th {\n",
       "        vertical-align: top;\n",
       "    }\n",
       "\n",
       "    .dataframe thead th {\n",
       "        text-align: right;\n",
       "    }\n",
       "</style>\n",
       "<table border=\"1\" class=\"dataframe\">\n",
       "  <thead>\n",
       "    <tr style=\"text-align: right;\">\n",
       "      <th></th>\n",
       "      <th>time</th>\n",
       "      <th>name</th>\n",
       "    </tr>\n",
       "  </thead>\n",
       "  <tbody>\n",
       "    <tr>\n",
       "      <th>0</th>\n",
       "      <td>6938.0</td>\n",
       "      <td>start</td>\n",
       "    </tr>\n",
       "    <tr>\n",
       "      <th>1</th>\n",
       "      <td>10499.0</td>\n",
       "      <td>end</td>\n",
       "    </tr>\n",
       "    <tr>\n",
       "      <th>2</th>\n",
       "      <td>12600.0</td>\n",
       "      <td>start</td>\n",
       "    </tr>\n",
       "    <tr>\n",
       "      <th>3</th>\n",
       "      <td>16806.0</td>\n",
       "      <td>end</td>\n",
       "    </tr>\n",
       "    <tr>\n",
       "      <th>4</th>\n",
       "      <td>19558.0</td>\n",
       "      <td>start</td>\n",
       "    </tr>\n",
       "    <tr>\n",
       "      <th>5</th>\n",
       "      <td>23481.0</td>\n",
       "      <td>end</td>\n",
       "    </tr>\n",
       "  </tbody>\n",
       "</table>\n",
       "</div>"
      ],
      "text/plain": [
       "      time   name\n",
       "0   6938.0  start\n",
       "1  10499.0    end\n",
       "2  12600.0  start\n",
       "3  16806.0    end\n",
       "4  19558.0  start\n",
       "5  23481.0    end"
      ]
     },
     "execution_count": 123,
     "metadata": {},
     "output_type": "execute_result"
    }
   ],
   "source": [
    "# no changes\n",
    "# start and end in ms\n",
    "trial_time = [start_trial, end_trial]\n",
    "# Run algo on trial data\n",
    "trial_movement_time, trial_data = find_movement(data, trial_time, muscle, window, thrs, thrs2, positive)\n",
    "\n",
    "trial_movement_time"
   ]
  },
  {
   "cell_type": "markdown",
   "metadata": {},
   "source": [
    "<p style=\"color:#FFA500\";><b>check how algo works</p>"
   ]
  },
  {
   "cell_type": "code",
   "execution_count": 124,
   "metadata": {
    "id": "tkM1BJ00gEPe"
   },
   "outputs": [
    {
     "data": {
      "application/vnd.jupyter.widget-view+json": {
       "model_id": "1b8e1c4531784aeaac8966f3de32cb0a",
       "version_major": 2,
       "version_minor": 0
      },
      "text/plain": [
       "Canvas(toolbar=Toolbar(toolitems=[('Home', 'Reset original view', 'home', 'home'), ('Back', 'Back to previous …"
      ]
     },
     "metadata": {},
     "output_type": "display_data"
    }
   ],
   "source": [
    "# plot trial\n",
    "plot_signal(trial_data, trial_movement_time.time, muscle)\n",
    "#plt.hlines(50, xmin=5000, xmax=22500,color='r')"
   ]
  },
  {
   "cell_type": "markdown",
   "metadata": {
    "id": "MoxoWGjpgEPf"
   },
   "source": [
    "__If the Movement start is not acurate enough, Adjast thrs,thrs2 and try again #2__"
   ]
  },
  {
   "cell_type": "markdown",
   "metadata": {
    "id": "ipR36nY0gEPf"
   },
   "source": [
    "### 2. Apply to the whole recording"
   ]
  },
  {
   "cell_type": "code",
   "execution_count": 125,
   "metadata": {},
   "outputs": [],
   "source": [
    "last = data.time.max()"
   ]
  },
  {
   "cell_type": "markdown",
   "metadata": {},
   "source": [
    "__here time = [0] which means \"start from 0 second\"__"
   ]
  },
  {
   "cell_type": "code",
   "execution_count": 130,
   "metadata": {
    "id": "oSatFPK9gEPf"
   },
   "outputs": [
    {
     "data": {
      "application/vnd.jupyter.widget-view+json": {
       "model_id": "a7305662a41541bfbb899ccc4c497333",
       "version_major": 2,
       "version_minor": 0
      },
      "text/plain": [
       "HBox(children=(HTML(value=''), FloatProgress(value=0.0, max=1020725.0), HTML(value='')))"
      ]
     },
     "metadata": {},
     "output_type": "display_data"
    },
    {
     "name": "stdout",
     "output_type": "stream",
     "text": [
      "\n"
     ]
    }
   ],
   "source": [
    "movement_time, movement_data = find_movement(data, [0], muscle, window, thrs, thrs2, positive)"
   ]
  },
  {
   "cell_type": "markdown",
   "metadata": {},
   "source": [
    "#### check how algo works for whole file"
   ]
  },
  {
   "cell_type": "code",
   "execution_count": 131,
   "metadata": {
    "id": "HdcVOOfHgEPf"
   },
   "outputs": [
    {
     "data": {
      "application/vnd.jupyter.widget-view+json": {
       "model_id": "b13b6f3e65ce472c99a746d7d972d9a3",
       "version_major": 2,
       "version_minor": 0
      },
      "text/plain": [
       "Canvas(toolbar=Toolbar(toolitems=[('Home', 'Reset original view', 'home', 'home'), ('Back', 'Back to previous …"
      ]
     },
     "metadata": {},
     "output_type": "display_data"
    }
   ],
   "source": [
    "# plot Algo Markup way1\n",
    "plot_signal(movement_data, movement_time.time, muscle)"
   ]
  },
  {
   "cell_type": "markdown",
   "metadata": {
    "id": "MOL2y1ZfgEPf",
    "tags": []
   },
   "source": [
    "## 2. Manual adjastment of Algo Movement Markup"
   ]
  },
  {
   "cell_type": "markdown",
   "metadata": {},
   "source": [
    "<p style=\"color:#FFA500\";><b>check how algo works for whole file</p>"
   ]
  },
  {
   "cell_type": "code",
   "execution_count": 140,
   "metadata": {
    "id": "hEnBgjQZgEPf"
   },
   "outputs": [
    {
     "name": "stdout",
     "output_type": "stream",
     "text": [
      "Setting up band-pass filter from 20 - 1e+03 Hz\n",
      "\n",
      "IIR filter parameters\n",
      "---------------------\n",
      "Butterworth bandpass zero-phase (two-pass forward and reverse) non-causal filter:\n",
      "- Filter order 16 (effective, after forward-backward)\n",
      "- Cutoffs at 20.00, 1000.00 Hz: -6.02, -6.02 dB\n",
      "\n"
     ]
    },
    {
     "data": {
      "application/vnd.jupyter.widget-view+json": {
       "model_id": "c34c7b300e3a4363bca46efe9ddee1d1",
       "version_major": 2,
       "version_minor": 0
      },
      "text/plain": [
       "Canvas(toolbar=Toolbar(toolitems=[('Home', 'Reset original view', 'home', 'home'), ('Back', 'Back to previous …"
      ]
     },
     "metadata": {},
     "output_type": "display_data"
    }
   ],
   "source": [
    "# plot Algo Markup way2\n",
    "plot_emg_events(raw, movement_time.time,6)"
   ]
  },
  {
   "cell_type": "markdown",
   "metadata": {
    "id": "flKbMcA8gEPg"
   },
   "source": [
    "### 1. Adjast: Fill events start numbers to redo/slow/bad !"
   ]
  },
  {
   "cell_type": "code",
   "execution_count": null,
   "metadata": {},
   "outputs": [],
   "source": [
    "start_bad_number = 47\n",
    "start_good_number = 55\n",
    "print(list(range(start_bad_number,start_good_number,2)))"
   ]
  },
  {
   "cell_type": "code",
   "execution_count": 136,
   "metadata": {
    "id": "nYEUXHFwgEPg"
   },
   "outputs": [],
   "source": [
    "## change\n",
    "\n",
    "#list to manually redo\n",
    "redo = [1]\n",
    "#list with slow (second spike is later than 200 ms)\n",
    "slow = [1,11,13,15,17,19,21]\n",
    "\n",
    "#list with Bad - to delete\n",
    "bad = [25,33,45,49]\n"
   ]
  },
  {
   "cell_type": "code",
   "execution_count": 137,
   "metadata": {
    "id": "o_FbZNvlgEPg"
   },
   "outputs": [],
   "source": [
    "# no change\n",
    "events = create_events(movement_time.time)"
   ]
  },
  {
   "cell_type": "code",
   "execution_count": 138,
   "metadata": {
    "id": "szveN2uDgEPg"
   },
   "outputs": [
    {
     "data": {
      "text/plain": [
       "0    471.0\n",
       "Name: time, dtype: float64"
      ]
     },
     "execution_count": 138,
     "metadata": {},
     "output_type": "execute_result"
    }
   ],
   "source": [
    "events[events.event_name.isin(redo)].reset_index().time"
   ]
  },
  {
   "cell_type": "markdown",
   "metadata": {
    "id": "cjszKegPgEPg"
   },
   "source": [
    "### 2. Manually adjast \"Redo\" movements"
   ]
  },
  {
   "cell_type": "code",
   "execution_count": 139,
   "metadata": {
    "id": "yiuIYHi2gEPh",
    "scrolled": false
   },
   "outputs": [
    {
     "data": {
      "application/vnd.jupyter.widget-view+json": {
       "model_id": "a21c7b6b49e54c41b01ce9661d9c867a",
       "version_major": 2,
       "version_minor": 0
      },
      "text/plain": [
       "Button(description='Next event', icon='Saved', style=ButtonStyle(), tooltip='Description')"
      ]
     },
     "metadata": {},
     "output_type": "display_data"
    },
    {
     "data": {
      "application/vnd.jupyter.widget-view+json": {
       "model_id": "a536039d47b644d6843767c01a30eec1",
       "version_major": 2,
       "version_minor": 0
      },
      "text/plain": [
       "Button(description='Save timestamp', icon='Saved', style=ButtonStyle(), tooltip='Description')"
      ]
     },
     "metadata": {},
     "output_type": "display_data"
    },
    {
     "data": {
      "application/vnd.jupyter.widget-view+json": {
       "model_id": "5dff1f62d32a486bbe0c61ced8b149f1",
       "version_major": 2,
       "version_minor": 0
      },
      "text/plain": [
       "interactive(children=(FloatText(value=471.0, description='New Value uV:', step=5.0), Output()), _dom_classes=(…"
      ]
     },
     "metadata": {},
     "output_type": "display_data"
    }
   ],
   "source": [
    "mscl = muscle\n",
    "new_timings = adjust_movements(events[events.event_name.isin(redo)].reset_index().time)"
   ]
  },
  {
   "cell_type": "markdown",
   "metadata": {
    "id": "PplSHKQGgEPi"
   },
   "source": [
    "__Plot signal with final movement start Markups__"
   ]
  },
  {
   "cell_type": "markdown",
   "metadata": {
    "id": "nZhb49cJgEPh"
   },
   "source": [
    "## 3. Save adjasted Movement times to Excel"
   ]
  },
  {
   "cell_type": "markdown",
   "metadata": {},
   "source": [
    "##### Adjast: run cell and fill \"Movement file name\""
   ]
  },
  {
   "cell_type": "code",
   "execution_count": null,
   "metadata": {
    "id": "D2PZOin6gEPh"
   },
   "outputs": [],
   "source": [
    "print('Current emg file: ', path)\n",
    "file_name = input('Movement file name (subject + emg file name): ')\n",
    "\n",
    "corrected_time = gsheet(file_name , new_timings, bad, slow)"
   ]
  },
  {
   "cell_type": "markdown",
   "metadata": {},
   "source": [
    "<p style=\"color:#FFA500\";><b>check final table</p>"
   ]
  },
  {
   "cell_type": "code",
   "execution_count": null,
   "metadata": {
    "id": "oYpCR-fXgEPi",
    "scrolled": true
   },
   "outputs": [],
   "source": [
    "corrected_time"
   ]
  },
  {
   "cell_type": "markdown",
   "metadata": {},
   "source": [
    "<p style=\"color:#FFA500\";><b>final check how movement was marked up</p>"
   ]
  },
  {
   "cell_type": "code",
   "execution_count": null,
   "metadata": {
    "id": "IiU2ZJd7gEPi"
   },
   "outputs": [],
   "source": [
    "plot_emg_events(raw, corrected_time.final_corrected_movement_time)"
   ]
  },
  {
   "cell_type": "markdown",
   "metadata": {},
   "source": [
    " # <br><br><br><br>  Part 2A. pMA analysis (Session level)"
   ]
  },
  {
   "cell_type": "markdown",
   "metadata": {},
   "source": [
    "## 0. Get data + data filtering"
   ]
  },
  {
   "cell_type": "markdown",
   "metadata": {},
   "source": [
    "#### Adjast: Set up your sign_path"
   ]
  },
  {
   "cell_type": "code",
   "execution_count": 3,
   "metadata": {},
   "outputs": [],
   "source": [
    "# MAC OS = '/' WINDOWS = '\\\\'\n",
    "SIGN_PATH = '/'"
   ]
  },
  {
   "cell_type": "markdown",
   "metadata": {},
   "source": [
    "#### Adjast: run cell and insert .vhrd path and .xlx path"
   ]
  },
  {
   "cell_type": "code",
   "execution_count": 4,
   "metadata": {},
   "outputs": [
    {
     "name": "stdout",
     "output_type": "stream",
     "text": [
      "Insert subject .vhdr path: /Users/ksenia.kozlova/Documents/GitHub/pma_grant/EMG data/DaSa_27/DaSa_27_70max_rADM_1.vhdr\n",
      "2. Gett movement data from Excel \n",
      " Insert .xls file path with movement info: /Users/ksenia.kozlova/Documents/GitHub/pma_grant/Movement data/DaSa_27/DaSa_27_70max_rADM_1.xls\n",
      "Your file: \n"
     ]
    },
    {
     "data": {
      "text/html": [
       "<div>\n",
       "<style scoped>\n",
       "    .dataframe tbody tr th:only-of-type {\n",
       "        vertical-align: middle;\n",
       "    }\n",
       "\n",
       "    .dataframe tbody tr th {\n",
       "        vertical-align: top;\n",
       "    }\n",
       "\n",
       "    .dataframe thead th {\n",
       "        text-align: right;\n",
       "    }\n",
       "</style>\n",
       "<table border=\"1\" class=\"dataframe\">\n",
       "  <thead>\n",
       "    <tr style=\"text-align: right;\">\n",
       "      <th></th>\n",
       "      <th>Unnamed: 0</th>\n",
       "      <th>name</th>\n",
       "      <th>time</th>\n",
       "      <th>0</th>\n",
       "      <th>muscle</th>\n",
       "      <th>file</th>\n",
       "      <th>final_corrected_movement_time</th>\n",
       "      <th>slow</th>\n",
       "      <th>bad</th>\n",
       "      <th>trial_number</th>\n",
       "    </tr>\n",
       "  </thead>\n",
       "  <tbody>\n",
       "    <tr>\n",
       "      <th>0</th>\n",
       "      <td>1</td>\n",
       "      <td>start</td>\n",
       "      <td>8241</td>\n",
       "      <td>NaN</td>\n",
       "      <td>rADM</td>\n",
       "      <td>27_70max_rADM_1</td>\n",
       "      <td>8241</td>\n",
       "      <td>NaN</td>\n",
       "      <td>NaN</td>\n",
       "      <td>1</td>\n",
       "    </tr>\n",
       "    <tr>\n",
       "      <th>1</th>\n",
       "      <td>2</td>\n",
       "      <td>end</td>\n",
       "      <td>16800</td>\n",
       "      <td>NaN</td>\n",
       "      <td>rADM</td>\n",
       "      <td>27_70max_rADM_1</td>\n",
       "      <td>16800</td>\n",
       "      <td>NaN</td>\n",
       "      <td>NaN</td>\n",
       "      <td>1</td>\n",
       "    </tr>\n",
       "    <tr>\n",
       "      <th>2</th>\n",
       "      <td>3</td>\n",
       "      <td>start</td>\n",
       "      <td>22638</td>\n",
       "      <td>NaN</td>\n",
       "      <td>rADM</td>\n",
       "      <td>27_70max_rADM_1</td>\n",
       "      <td>22638</td>\n",
       "      <td>NaN</td>\n",
       "      <td>NaN</td>\n",
       "      <td>2</td>\n",
       "    </tr>\n",
       "  </tbody>\n",
       "</table>\n",
       "</div>"
      ],
      "text/plain": [
       "   Unnamed: 0   name   time   0 muscle             file  \\\n",
       "0           1  start   8241 NaN   rADM  27_70max_rADM_1   \n",
       "1           2    end  16800 NaN   rADM  27_70max_rADM_1   \n",
       "2           3  start  22638 NaN   rADM  27_70max_rADM_1   \n",
       "\n",
       "   final_corrected_movement_time  slow  bad  trial_number  \n",
       "0                           8241   NaN  NaN             1  \n",
       "1                          16800   NaN  NaN             1  \n",
       "2                          22638   NaN  NaN             2  "
      ]
     },
     "execution_count": 4,
     "metadata": {},
     "output_type": "execute_result"
    }
   ],
   "source": [
    "try:\n",
    "    subj = input(f'1. Get EMG data (.vhdr) \\n\\n Continue with file {path} ? \\n Y/N: ')\n",
    "except:\n",
    "    subj = 'N'\n",
    "\n",
    "\n",
    "if subj == 'Y':\n",
    "    try:\n",
    "        subject_path = path\n",
    "    except:\n",
    "        pass     \n",
    "else:\n",
    "    subject_path = input('Insert subject .vhdr path: ')\n",
    "\n",
    "### LOAD DATA\n",
    "# FILTERS\n",
    "raw = mne.io.read_raw_brainvision(subject_path, verbose=False)\n",
    "# high pass and low pass filters\n",
    "filters_hp_lp = raw.load_data().filter(l_freq=20, h_freq=1000, verbose=False)\n",
    "# notch filters\n",
    "filters_notch = np.array([50, 100, 150, 200])\n",
    "raw_filtered = filters_hp_lp.notch_filter(freqs=filters_notch, verbose=False)\n",
    "pma_data = raw_filtered.to_data_frame()\n",
    " \n",
    "\n",
    "movement_path = input('2. Gett movement data from Excel \\n Insert .xls file path with movement info: ')\n",
    "sheet = pd.read_excel(movement_path)\n",
    "sheet['slow'] = np.where((sheet['slow'] == '')|(sheet.slow.isna()==True), sheet['slow'].shift(1), sheet['slow'])\n",
    "sheet['bad'] = np.where((sheet['bad'] == '')|(sheet.bad.isna()==True), sheet['bad'].shift(1), sheet['bad'])\n",
    "sheet['trial_number'] = (2+ np.array(range(sheet.shape[0])))//2\n",
    "sheet = sheet[(sheet.bad!='TRUE')&(sheet.bad!=1)]\n",
    "print('Your file: ')\n",
    "    \n",
    "sheet.head(3)"
   ]
  },
  {
   "cell_type": "code",
   "execution_count": null,
   "metadata": {},
   "outputs": [],
   "source": [
    "/Users/ksenia.kozlova/Documents/GitHub/pma_grant/EMG data/ArtDz_9/pma_ADM_1.vhdr\n",
    "/Users/ksenia.kozlova/Documents/GitHub/pma_grant/Movement data/ArtDz_9/ArtDZ_9_pma_APB_3.xls"
   ]
  },
  {
   "cell_type": "markdown",
   "metadata": {},
   "source": [
    "<p style=\"color:#FFA500\";><b>Check that record and movemet start comply</p>"
   ]
  },
  {
   "cell_type": "markdown",
   "metadata": {},
   "source": [
    "__Plot EMG and movement start__"
   ]
  },
  {
   "cell_type": "code",
   "execution_count": 6,
   "metadata": {},
   "outputs": [
    {
     "name": "stdout",
     "output_type": "stream",
     "text": [
      "Setting up band-pass filter from 20 - 1e+03 Hz\n",
      "\n",
      "IIR filter parameters\n",
      "---------------------\n",
      "Butterworth bandpass zero-phase (two-pass forward and reverse) non-causal filter:\n",
      "- Filter order 16 (effective, after forward-backward)\n",
      "- Cutoffs at 20.00, 1000.00 Hz: -6.02, -6.02 dB\n",
      "\n"
     ]
    },
    {
     "data": {
      "application/vnd.jupyter.widget-view+json": {
       "model_id": "06eeaf0747704e9c8522b26b81926d64",
       "version_major": 2,
       "version_minor": 0
      },
      "text/plain": [
       "Canvas(toolbar=Toolbar(toolitems=[('Home', 'Reset original view', 'home', 'home'), ('Back', 'Back to previous …"
      ]
     },
     "metadata": {},
     "output_type": "display_data"
    }
   ],
   "source": [
    "mscl = sheet.muscle.unique()\n",
    "movement_time = sheet.final_corrected_movement_time\n",
    "try:\n",
    "    plot_emg_events(raw_filtered, movement_time,3)\n",
    "except:\n",
    "    plot_signal(pma_data, movement_time, mscl)"
   ]
  },
  {
   "cell_type": "markdown",
   "metadata": {},
   "source": [
    "__PMA processing__"
   ]
  },
  {
   "cell_type": "markdown",
   "metadata": {},
   "source": [
    "## 1. Analyse left hand"
   ]
  },
  {
   "cell_type": "code",
   "execution_count": 7,
   "metadata": {
    "scrolled": true
   },
   "outputs": [
    {
     "data": {
      "application/vnd.jupyter.widget-view+json": {
       "model_id": "d4dc6324a82e4512ad4b5457a1c122fa",
       "version_major": 2,
       "version_minor": 0
      },
      "text/plain": [
       "HBox(children=(HTML(value=''), FloatProgress(value=0.0, max=3.0), HTML(value='')))"
      ]
     },
     "metadata": {},
     "output_type": "display_data"
    },
    {
     "name": "stdout",
     "output_type": "stream",
     "text": [
      "lAPB is done\n",
      "lADM is done\n",
      "lECU is done\n",
      "\n"
     ]
    }
   ],
   "source": [
    "pma_all = pd.DataFrame()\n",
    "\n",
    "PMA_START_POSITIVE = 0.25\n",
    "\n",
    "\n",
    "for muscle in tqdm(['lAPB','lADM','lECU']):\n",
    "    # culculate preactivation thrs in preactivatuon window based on envelop\n",
    "    thrss = pma_find_preact_thrs(sheet, pma_data, 1000, muscle)\n",
    "    # find pma times \n",
    "    pma = find_pma(pma_data, muscle, thrss, PMA_START_POSITIVE) \n",
    "    # calculate rms or each pma\n",
    "    rms = rms_pma(pma)\n",
    "    # save all muscles to one df\n",
    "    pma_all=pma_all.append(rms)\n",
    "    print(muscle, 'is done')\n",
    "    \n",
    "    \n",
    "pma_all['pma_latency_ms'] = pma_all.pma_time_start - pma_all.movement_start"
   ]
  },
  {
   "cell_type": "code",
   "execution_count": 8,
   "metadata": {},
   "outputs": [
    {
     "data": {
      "text/html": [
       "<div>\n",
       "<style scoped>\n",
       "    .dataframe tbody tr th:only-of-type {\n",
       "        vertical-align: middle;\n",
       "    }\n",
       "\n",
       "    .dataframe tbody tr th {\n",
       "        vertical-align: top;\n",
       "    }\n",
       "\n",
       "    .dataframe thead th {\n",
       "        text-align: right;\n",
       "    }\n",
       "</style>\n",
       "<table border=\"1\" class=\"dataframe\">\n",
       "  <thead>\n",
       "    <tr style=\"text-align: right;\">\n",
       "      <th></th>\n",
       "      <th>indexes</th>\n",
       "      <th>Trial in session</th>\n",
       "      <th>Is slow</th>\n",
       "      <th>preact_window</th>\n",
       "      <th>signal</th>\n",
       "      <th>time</th>\n",
       "      <th>preactivation_mean_uv</th>\n",
       "      <th>preactivation_max_uv</th>\n",
       "      <th>preactivation_std_uv</th>\n",
       "      <th>preactivation_auc_uv</th>\n",
       "      <th>...</th>\n",
       "      <th>pma_wnd</th>\n",
       "      <th>pma_mean_uv</th>\n",
       "      <th>pma_max_uv</th>\n",
       "      <th>pma_std_uv</th>\n",
       "      <th>pma_auc_uv</th>\n",
       "      <th>pma_rms_mean</th>\n",
       "      <th>preactivation_window_rms_mean</th>\n",
       "      <th>pma_latency_ms</th>\n",
       "      <th>session</th>\n",
       "      <th>file</th>\n",
       "    </tr>\n",
       "  </thead>\n",
       "  <tbody>\n",
       "    <tr>\n",
       "      <th>0</th>\n",
       "      <td>[41203, 41204, 41205, 41206, 41207, 41208, 412...</td>\n",
       "      <td>1.0</td>\n",
       "      <td>NaN</td>\n",
       "      <td>[0.5118861788031731, 1.2408663637754176, 1.900...</td>\n",
       "      <td>[0.6826842675688011, 1.762350982809292, 1.4260...</td>\n",
       "      <td>[8241, 8241, 8241, 8241, 8241, 8242, 8242, 824...</td>\n",
       "      <td>0.817781</td>\n",
       "      <td>3.758751</td>\n",
       "      <td>0.619651</td>\n",
       "      <td>4089.126723</td>\n",
       "      <td>...</td>\n",
       "      <td>[-1.9975959728444588, -0.45943563507699686, -0...</td>\n",
       "      <td>1.169822</td>\n",
       "      <td>25.167845</td>\n",
       "      <td>1.413801</td>\n",
       "      <td>48306.992154</td>\n",
       "      <td>1.420504</td>\n",
       "      <td>1.020346</td>\n",
       "      <td>231.0</td>\n",
       "      <td>1</td>\n",
       "      <td>DaSa_27_70max_rADM_1.vhdr</td>\n",
       "    </tr>\n",
       "    <tr>\n",
       "      <th>1</th>\n",
       "      <td>[113188, 113189, 113190, 113191, 113192, 11319...</td>\n",
       "      <td>2.0</td>\n",
       "      <td>NaN</td>\n",
       "      <td>[-1.411050786895527, -0.07712989763244252, 1.1...</td>\n",
       "      <td>[-1.7408111764057033, -0.49101261328120505, 1....</td>\n",
       "      <td>[22638, 22638, 22638, 22638, 22638, 22639, 226...</td>\n",
       "      <td>0.869022</td>\n",
       "      <td>4.605709</td>\n",
       "      <td>0.651511</td>\n",
       "      <td>4344.402782</td>\n",
       "      <td>...</td>\n",
       "      <td>[-2.37207594845316, -2.7504752042890983, -2.20...</td>\n",
       "      <td>1.164720</td>\n",
       "      <td>33.884582</td>\n",
       "      <td>1.531771</td>\n",
       "      <td>46402.395844</td>\n",
       "      <td>1.443970</td>\n",
       "      <td>1.077328</td>\n",
       "      <td>144.0</td>\n",
       "      <td>1</td>\n",
       "      <td>DaSa_27_70max_rADM_1.vhdr</td>\n",
       "    </tr>\n",
       "  </tbody>\n",
       "</table>\n",
       "<p>2 rows × 29 columns</p>\n",
       "</div>"
      ],
      "text/plain": [
       "                                             indexes  Trial in session  \\\n",
       "0  [41203, 41204, 41205, 41206, 41207, 41208, 412...               1.0   \n",
       "1  [113188, 113189, 113190, 113191, 113192, 11319...               2.0   \n",
       "\n",
       "   Is slow                                      preact_window  \\\n",
       "0      NaN  [0.5118861788031731, 1.2408663637754176, 1.900...   \n",
       "1      NaN  [-1.411050786895527, -0.07712989763244252, 1.1...   \n",
       "\n",
       "                                              signal  \\\n",
       "0  [0.6826842675688011, 1.762350982809292, 1.4260...   \n",
       "1  [-1.7408111764057033, -0.49101261328120505, 1....   \n",
       "\n",
       "                                                time  preactivation_mean_uv  \\\n",
       "0  [8241, 8241, 8241, 8241, 8241, 8242, 8242, 824...               0.817781   \n",
       "1  [22638, 22638, 22638, 22638, 22638, 22639, 226...               0.869022   \n",
       "\n",
       "   preactivation_max_uv  preactivation_std_uv  preactivation_auc_uv  ...  \\\n",
       "0              3.758751              0.619651           4089.126723  ...   \n",
       "1              4.605709              0.651511           4344.402782  ...   \n",
       "\n",
       "                                             pma_wnd  pma_mean_uv  pma_max_uv  \\\n",
       "0  [-1.9975959728444588, -0.45943563507699686, -0...     1.169822   25.167845   \n",
       "1  [-2.37207594845316, -2.7504752042890983, -2.20...     1.164720   33.884582   \n",
       "\n",
       "   pma_std_uv    pma_auc_uv  pma_rms_mean  preactivation_window_rms_mean  \\\n",
       "0    1.413801  48306.992154      1.420504                       1.020346   \n",
       "1    1.531771  46402.395844      1.443970                       1.077328   \n",
       "\n",
       "   pma_latency_ms session                       file  \n",
       "0           231.0       1  DaSa_27_70max_rADM_1.vhdr  \n",
       "1           144.0       1  DaSa_27_70max_rADM_1.vhdr  \n",
       "\n",
       "[2 rows x 29 columns]"
      ]
     },
     "execution_count": 8,
     "metadata": {},
     "output_type": "execute_result"
    }
   ],
   "source": [
    "pma_all['session'] = subject_path[-6]\n",
    "loc = len(subject_path)-subject_path[::-1].find(SIGN_PATH)\n",
    "pma_all['file'] = subject_path[loc:]\n",
    "pma_all.head(2)"
   ]
  },
  {
   "cell_type": "markdown",
   "metadata": {},
   "source": [
    "### Check pma start by plot"
   ]
  },
  {
   "cell_type": "markdown",
   "metadata": {},
   "source": [
    "#### Adjast: change mscl - muscle for visualization"
   ]
  },
  {
   "cell_type": "code",
   "execution_count": 9,
   "metadata": {},
   "outputs": [
    {
     "name": "stdout",
     "output_type": "stream",
     "text": [
      "Setting up band-pass filter from 20 - 1e+03 Hz\n",
      "\n",
      "IIR filter parameters\n",
      "---------------------\n",
      "Butterworth bandpass zero-phase (two-pass forward and reverse) non-causal filter:\n",
      "- Filter order 16 (effective, after forward-backward)\n",
      "- Cutoffs at 20.00, 1000.00 Hz: -6.02, -6.02 dB\n",
      "\n"
     ]
    },
    {
     "data": {
      "application/vnd.jupyter.widget-view+json": {
       "model_id": "a162ac3aa0ff4952accf0fce416c099d",
       "version_major": 2,
       "version_minor": 0
      },
      "text/plain": [
       "Canvas(toolbar=Toolbar(toolitems=[('Home', 'Reset original view', 'home', 'home'), ('Back', 'Back to previous …"
      ]
     },
     "metadata": {},
     "output_type": "display_data"
    }
   ],
   "source": [
    "mscl = 'lADM'\n",
    "markups = ((pma_all[pma_all.muscle==mscl].pma_time_start).append(pma_all[pma_all.muscle==mscl].pma_time_end.append(pma_all[pma_all.muscle==mscl].movement_start.append(pma_all[pma_all.muscle==mscl].movement_end)))).sort_values().dropna()\n",
    "\n",
    "try:\n",
    "    plot_emg_events(raw_filtered, markups,1)\n",
    "except:\n",
    "    plot_signal(pma_data, markups, mscl)\n",
    "    "
   ]
  },
  {
   "cell_type": "markdown",
   "metadata": {},
   "source": [
    "### Check pma average numbers"
   ]
  },
  {
   "cell_type": "code",
   "execution_count": 11,
   "metadata": {},
   "outputs": [
    {
     "data": {
      "text/plain": [
       "Index(['indexes', 'Trial in session', 'Is slow', 'preact_window', 'signal',\n",
       "       'time', 'preactivation_mean_uv', 'preactivation_max_uv',\n",
       "       'preactivation_std_uv', 'preactivation_auc_uv', 'movement_start',\n",
       "       'movement_end', 'preac_thrs', 'pma_start_index', 'pma_end_index',\n",
       "       'pma_time_start', 'pma_time_end', 'pma_duration_ms', 'muscle',\n",
       "       'pma_wnd', 'pma_mean_uv', 'pma_max_uv', 'pma_std_uv', 'pma_auc_uv',\n",
       "       'pma_rms_mean', 'preactivation_window_rms_mean', 'pma_latency_ms',\n",
       "       'session', 'file'],\n",
       "      dtype='object')"
      ]
     },
     "execution_count": 11,
     "metadata": {},
     "output_type": "execute_result"
    }
   ],
   "source": [
    "pma_all.columns"
   ]
  },
  {
   "cell_type": "code",
   "execution_count": 16,
   "metadata": {
    "scrolled": true
   },
   "outputs": [
    {
     "data": {
      "application/vnd.jupyter.widget-view+json": {
       "model_id": "fb9c2ad0791c4cd89e7b398aefe3d2b0",
       "version_major": 2,
       "version_minor": 0
      },
      "text/plain": [
       "Canvas(toolbar=Toolbar(toolitems=[('Home', 'Reset original view', 'home', 'home'), ('Back', 'Back to previous …"
      ]
     },
     "metadata": {},
     "output_type": "display_data"
    },
    {
     "name": "stdout",
     "output_type": "stream",
     "text": [
      "movement start: 8241 \n",
      " preact thr: 3.8058239054274567 \n",
      " mean uV lAPB: 0.82 \n",
      " mean uV lADM: 0.94\n"
     ]
    },
    {
     "data": {
      "application/vnd.jupyter.widget-view+json": {
       "model_id": "d3732e6ce392456295e081f5befd4d0f",
       "version_major": 2,
       "version_minor": 0
      },
      "text/plain": [
       "Canvas(toolbar=Toolbar(toolitems=[('Home', 'Reset original view', 'home', 'home'), ('Back', 'Back to previous …"
      ]
     },
     "metadata": {},
     "output_type": "display_data"
    },
    {
     "name": "stdout",
     "output_type": "stream",
     "text": [
      "movement start: 22638 \n",
      " preact thr: 4.195421884291594 \n",
      " mean uV lAPB: 0.87 \n",
      " mean uV lADM: 0.9\n"
     ]
    },
    {
     "data": {
      "application/vnd.jupyter.widget-view+json": {
       "model_id": "2e3f044b819041b784076c942858691b",
       "version_major": 2,
       "version_minor": 0
      },
      "text/plain": [
       "Canvas(toolbar=Toolbar(toolitems=[('Home', 'Reset original view', 'home', 'home'), ('Back', 'Back to previous …"
      ]
     },
     "metadata": {},
     "output_type": "display_data"
    },
    {
     "name": "stdout",
     "output_type": "stream",
     "text": [
      "movement start: 36622 \n",
      " preact thr: 6.6722226354455625 \n",
      " mean uV lAPB: 1.55 \n",
      " mean uV lADM: 0.94\n"
     ]
    },
    {
     "data": {
      "application/vnd.jupyter.widget-view+json": {
       "model_id": "4dd4b87d99b44b5b9a73be2c977d8677",
       "version_major": 2,
       "version_minor": 0
      },
      "text/plain": [
       "Canvas(toolbar=Toolbar(toolitems=[('Home', 'Reset original view', 'home', 'home'), ('Back', 'Back to previous …"
      ]
     },
     "metadata": {},
     "output_type": "display_data"
    },
    {
     "name": "stdout",
     "output_type": "stream",
     "text": [
      "movement start: 44669 \n",
      " preact thr: 4.234780783576365 \n",
      " mean uV lAPB: 0.92 \n",
      " mean uV lADM: 1.05\n"
     ]
    },
    {
     "data": {
      "application/vnd.jupyter.widget-view+json": {
       "model_id": "aba57cdabff24f13a66adb47a228dae5",
       "version_major": 2,
       "version_minor": 0
      },
      "text/plain": [
       "Canvas(toolbar=Toolbar(toolitems=[('Home', 'Reset original view', 'home', 'home'), ('Back', 'Back to previous …"
      ]
     },
     "metadata": {},
     "output_type": "display_data"
    },
    {
     "name": "stdout",
     "output_type": "stream",
     "text": [
      "movement start: 58125 \n",
      " preact thr: 57.26735606423168 \n",
      " mean uV lAPB: 2.16 \n",
      " mean uV lADM: 1.27\n"
     ]
    },
    {
     "data": {
      "application/vnd.jupyter.widget-view+json": {
       "model_id": "f43c736fcaf04ded982512c53de8a64e",
       "version_major": 2,
       "version_minor": 0
      },
      "text/plain": [
       "Canvas(toolbar=Toolbar(toolitems=[('Home', 'Reset original view', 'home', 'home'), ('Back', 'Back to previous …"
      ]
     },
     "metadata": {},
     "output_type": "display_data"
    },
    {
     "name": "stdout",
     "output_type": "stream",
     "text": [
      "movement start: 65057 \n",
      " preact thr: 4.642130798889826 \n",
      " mean uV lAPB: 0.94 \n",
      " mean uV lADM: 1.17\n"
     ]
    },
    {
     "data": {
      "application/vnd.jupyter.widget-view+json": {
       "model_id": "f7f5348882804371bdad5f21a461611a",
       "version_major": 2,
       "version_minor": 0
      },
      "text/plain": [
       "Canvas(toolbar=Toolbar(toolitems=[('Home', 'Reset original view', 'home', 'home'), ('Back', 'Back to previous …"
      ]
     },
     "metadata": {},
     "output_type": "display_data"
    },
    {
     "name": "stdout",
     "output_type": "stream",
     "text": [
      "movement start: 71842 \n",
      " preact thr: 4.314436731287556 \n",
      " mean uV lAPB: 0.89 \n",
      " mean uV lADM: 1.49\n"
     ]
    },
    {
     "data": {
      "application/vnd.jupyter.widget-view+json": {
       "model_id": "746b397b0cde41e59c81a64605078774",
       "version_major": 2,
       "version_minor": 0
      },
      "text/plain": [
       "Canvas(toolbar=Toolbar(toolitems=[('Home', 'Reset original view', 'home', 'home'), ('Back', 'Back to previous …"
      ]
     },
     "metadata": {},
     "output_type": "display_data"
    },
    {
     "name": "stdout",
     "output_type": "stream",
     "text": [
      "movement start: 84300 \n",
      " preact thr: 4.04749795932873 \n",
      " mean uV lAPB: 0.9 \n",
      " mean uV lADM: 0.99\n"
     ]
    },
    {
     "data": {
      "application/vnd.jupyter.widget-view+json": {
       "model_id": "044c91a858fc4de4b92f56b48530aa17",
       "version_major": 2,
       "version_minor": 0
      },
      "text/plain": [
       "Canvas(toolbar=Toolbar(toolitems=[('Home', 'Reset original view', 'home', 'home'), ('Back', 'Back to previous …"
      ]
     },
     "metadata": {},
     "output_type": "display_data"
    },
    {
     "name": "stdout",
     "output_type": "stream",
     "text": [
      "movement start: 98298 \n",
      " preact thr: 4.058112389321687 \n",
      " mean uV lAPB: 0.88 \n",
      " mean uV lADM: 1.11\n"
     ]
    },
    {
     "data": {
      "application/vnd.jupyter.widget-view+json": {
       "model_id": "616a7cb86fed4f06a372b4da90bdb0c8",
       "version_major": 2,
       "version_minor": 0
      },
      "text/plain": [
       "Canvas(toolbar=Toolbar(toolitems=[('Home', 'Reset original view', 'home', 'home'), ('Back', 'Back to previous …"
      ]
     },
     "metadata": {},
     "output_type": "display_data"
    },
    {
     "name": "stdout",
     "output_type": "stream",
     "text": [
      "movement start: 105514 \n",
      " preact thr: 4.141194789555408 \n",
      " mean uV lAPB: 0.99 \n",
      " mean uV lADM: 1.11\n"
     ]
    },
    {
     "data": {
      "application/vnd.jupyter.widget-view+json": {
       "model_id": "329971ffaae341f4b9b3101709055193",
       "version_major": 2,
       "version_minor": 0
      },
      "text/plain": [
       "Canvas(toolbar=Toolbar(toolitems=[('Home', 'Reset original view', 'home', 'home'), ('Back', 'Back to previous …"
      ]
     },
     "metadata": {},
     "output_type": "display_data"
    },
    {
     "name": "stdout",
     "output_type": "stream",
     "text": [
      "movement start: 113933 \n",
      " preact thr: 20.18106248567638 \n",
      " mean uV lAPB: 1.3 \n",
      " mean uV lADM: 1.66\n"
     ]
    },
    {
     "data": {
      "application/vnd.jupyter.widget-view+json": {
       "model_id": "81cd9538b33945dc91757cc103d95dd4",
       "version_major": 2,
       "version_minor": 0
      },
      "text/plain": [
       "Canvas(toolbar=Toolbar(toolitems=[('Home', 'Reset original view', 'home', 'home'), ('Back', 'Back to previous …"
      ]
     },
     "metadata": {},
     "output_type": "display_data"
    },
    {
     "name": "stdout",
     "output_type": "stream",
     "text": [
      "movement start: 122342 \n",
      " preact thr: 4.240938961274442 \n",
      " mean uV lAPB: 0.86 \n",
      " mean uV lADM: 1.08\n"
     ]
    },
    {
     "data": {
      "application/vnd.jupyter.widget-view+json": {
       "model_id": "d8ddc17ddf134cb5a72f6f1da766163b",
       "version_major": 2,
       "version_minor": 0
      },
      "text/plain": [
       "Canvas(toolbar=Toolbar(toolitems=[('Home', 'Reset original view', 'home', 'home'), ('Back', 'Back to previous …"
      ]
     },
     "metadata": {},
     "output_type": "display_data"
    },
    {
     "name": "stdout",
     "output_type": "stream",
     "text": [
      "movement start: 130259 \n",
      " preact thr: 4.85979231657581 \n",
      " mean uV lAPB: 1.01 \n",
      " mean uV lADM: 2.63\n"
     ]
    },
    {
     "data": {
      "application/vnd.jupyter.widget-view+json": {
       "model_id": "a6eade53489d4691af8b6a98b5fef8f5",
       "version_major": 2,
       "version_minor": 0
      },
      "text/plain": [
       "Canvas(toolbar=Toolbar(toolitems=[('Home', 'Reset original view', 'home', 'home'), ('Back', 'Back to previous …"
      ]
     },
     "metadata": {},
     "output_type": "display_data"
    },
    {
     "name": "stdout",
     "output_type": "stream",
     "text": [
      "movement start: 139448 \n",
      " preact thr: 4.2419149971403804 \n",
      " mean uV lAPB: 0.94 \n",
      " mean uV lADM: 1.63\n"
     ]
    },
    {
     "data": {
      "application/vnd.jupyter.widget-view+json": {
       "model_id": "c1b7470bd85e4055823d280b09e1524b",
       "version_major": 2,
       "version_minor": 0
      },
      "text/plain": [
       "Canvas(toolbar=Toolbar(toolitems=[('Home', 'Reset original view', 'home', 'home'), ('Back', 'Back to previous …"
      ]
     },
     "metadata": {},
     "output_type": "display_data"
    },
    {
     "name": "stdout",
     "output_type": "stream",
     "text": [
      "movement start: 155606 \n",
      " preact thr: 26.580424302169018 \n",
      " mean uV lAPB: 1.38 \n",
      " mean uV lADM: 1.08\n"
     ]
    },
    {
     "data": {
      "application/vnd.jupyter.widget-view+json": {
       "model_id": "6f68f3d0e1014b22a18400d7e713fcf1",
       "version_major": 2,
       "version_minor": 0
      },
      "text/plain": [
       "Canvas(toolbar=Toolbar(toolitems=[('Home', 'Reset original view', 'home', 'home'), ('Back', 'Back to previous …"
      ]
     },
     "metadata": {},
     "output_type": "display_data"
    },
    {
     "name": "stdout",
     "output_type": "stream",
     "text": [
      "movement start: 163131 \n",
      " preact thr: 4.090555230142878 \n",
      " mean uV lAPB: 0.92 \n",
      " mean uV lADM: 0.96\n"
     ]
    },
    {
     "data": {
      "application/vnd.jupyter.widget-view+json": {
       "model_id": "3faa66339c1b4e3b9d15cadaeeb1051c",
       "version_major": 2,
       "version_minor": 0
      },
      "text/plain": [
       "Canvas(toolbar=Toolbar(toolitems=[('Home', 'Reset original view', 'home', 'home'), ('Back', 'Back to previous …"
      ]
     },
     "metadata": {},
     "output_type": "display_data"
    },
    {
     "name": "stdout",
     "output_type": "stream",
     "text": [
      "movement start: 170525 \n",
      " preact thr: 6.3962567021393 \n",
      " mean uV lAPB: 0.93 \n",
      " mean uV lADM: 0.96\n"
     ]
    },
    {
     "data": {
      "application/vnd.jupyter.widget-view+json": {
       "model_id": "426bbbfb90734a97a298c06f814a6762",
       "version_major": 2,
       "version_minor": 0
      },
      "text/plain": [
       "Canvas(toolbar=Toolbar(toolitems=[('Home', 'Reset original view', 'home', 'home'), ('Back', 'Back to previous …"
      ]
     },
     "metadata": {},
     "output_type": "display_data"
    },
    {
     "name": "stdout",
     "output_type": "stream",
     "text": [
      "movement start: 178665 \n",
      " preact thr: 4.27484500492402 \n",
      " mean uV lAPB: 0.87 \n",
      " mean uV lADM: 0.99\n"
     ]
    },
    {
     "data": {
      "application/vnd.jupyter.widget-view+json": {
       "model_id": "57c6bea06e904def8b64469c671f6415",
       "version_major": 2,
       "version_minor": 0
      },
      "text/plain": [
       "Canvas(toolbar=Toolbar(toolitems=[('Home', 'Reset original view', 'home', 'home'), ('Back', 'Back to previous …"
      ]
     },
     "metadata": {},
     "output_type": "display_data"
    },
    {
     "name": "stdout",
     "output_type": "stream",
     "text": [
      "movement start: 186123 \n",
      " preact thr: 4.757319209611868 \n",
      " mean uV lAPB: 1.01 \n",
      " mean uV lADM: 1.26\n"
     ]
    },
    {
     "data": {
      "application/vnd.jupyter.widget-view+json": {
       "model_id": "252bec47f95c4bf4948e1098c1e248c1",
       "version_major": 2,
       "version_minor": 0
      },
      "text/plain": [
       "Canvas(toolbar=Toolbar(toolitems=[('Home', 'Reset original view', 'home', 'home'), ('Back', 'Back to previous …"
      ]
     },
     "metadata": {},
     "output_type": "display_data"
    },
    {
     "name": "stdout",
     "output_type": "stream",
     "text": [
      "movement start: 195250 \n",
      " preact thr: 4.202626165921512 \n",
      " mean uV lAPB: 0.86 \n",
      " mean uV lADM: 2.13\n"
     ]
    },
    {
     "data": {
      "application/vnd.jupyter.widget-view+json": {
       "model_id": "2e2f2f62fdec4f4c9adb63f3b30c120e",
       "version_major": 2,
       "version_minor": 0
      },
      "text/plain": [
       "Canvas(toolbar=Toolbar(toolitems=[('Home', 'Reset original view', 'home', 'home'), ('Back', 'Back to previous …"
      ]
     },
     "metadata": {},
     "output_type": "display_data"
    },
    {
     "name": "stdout",
     "output_type": "stream",
     "text": [
      "movement start: 202711 \n",
      " preact thr: 4.736770529118516 \n",
      " mean uV lAPB: 0.94 \n",
      " mean uV lADM: 1.21\n"
     ]
    },
    {
     "data": {
      "application/vnd.jupyter.widget-view+json": {
       "model_id": "9c54c3999de641d4aba7cd3a46776ee9",
       "version_major": 2,
       "version_minor": 0
      },
      "text/plain": [
       "Canvas(toolbar=Toolbar(toolitems=[('Home', 'Reset original view', 'home', 'home'), ('Back', 'Back to previous …"
      ]
     },
     "metadata": {},
     "output_type": "display_data"
    },
    {
     "name": "stdout",
     "output_type": "stream",
     "text": [
      "movement start: 209768 \n",
      " preact thr: 4.449088194943995 \n",
      " mean uV lAPB: 0.93 \n",
      " mean uV lADM: 1.32\n"
     ]
    }
   ],
   "source": [
    "for m in range(pma_all[pma_all.muscle.isin(['lAPB'])].shape[0]):\n",
    "    i = m\n",
    "\n",
    "    ax, pl = plt.subplots()\n",
    "    # lAPB blue\n",
    "    ax = plt.plot(abs(pma_all[pma_all.muscle.isin(['lAPB','lADM'])].preact_window[i].reset_index(drop=True)[0]))\n",
    "    # lADM orange\n",
    "    ax = plt.plot(abs(pma_all[pma_all.muscle.isin(['lAPB','lADM'])].preact_window[i].reset_index(drop=True)[1]))\n",
    "    print('movement start:', pma_all[pma_all.muscle.isin(['lAPB','lADM'])].movement_start[i].reset_index(drop=True)[0],'\\n',\n",
    "          'preact thr:', pma_all[pma_all.muscle.isin(['lAPB','lADM'])].preac_thrs[i].reset_index(drop=True)[0],'\\n',\n",
    "        'mean uV lAPB:', round(pma_all[pma_all.muscle.isin(['lAPB','lADM'])].preactivation_mean_uv[i].reset_index(drop=True)[0],2),'\\n',\n",
    "             'mean uV lADM:', round(pma_all[pma_all.muscle.isin(['lAPB','lADM'])].preactivation_mean_uv[i].reset_index(drop=True)[1],2))\n"
   ]
  },
  {
   "cell_type": "code",
   "execution_count": null,
   "metadata": {},
   "outputs": [],
   "source": [
    "round(pma_all.groupby(['muscle']).agg({'pma_duration_ms':'mean',\n",
    "                                 'pma_latency_ms':'mean',\n",
    "                                 'pma_rms_mean':'mean',\n",
    "                                    'preactivation_max_uv':'mean',\n",
    "       'preactivation_mean_uv':'mean', 'preactivation_auc_uv':'mean',   \n",
    "                                       'preac_thrs':'mean',\n",
    "                                'pma_max_uv':'mean',\n",
    "                                 'pma_mean_uv':'mean',\n",
    "                                 'pma_wnd':'count', # = how many pma found\n",
    "                                 'movement_start':'count' # = how many movemnts\n",
    "                                }),1)"
   ]
  },
  {
   "cell_type": "code",
   "execution_count": null,
   "metadata": {},
   "outputs": [],
   "source": [
    "pma_format = round(pma_all[[\n",
    "       'preactivation_mean_uv',\n",
    "       'preactivation_max_uv',\n",
    "       'preactivation_std_uv',\n",
    "       'preactivation_auc_uv',\n",
    "       'preactivation_window_rms_mean',\n",
    "        'preac_thrs','pma_duration_ms', 'pma_latency_ms',\n",
    "       'pma_mean_uv', 'pma_max_uv', 'pma_std_uv','pma_auc_uv',\n",
    "       'pma_rms_mean',\n",
    "        'muscle','Trial in session', 'session', 'file']].set_index(['Trial in session','muscle','session', 'file']).unstack(1),2)\n",
    "\n",
    "pma_format.head(4)"
   ]
  },
  {
   "cell_type": "markdown",
   "metadata": {},
   "source": [
    "## 2. Analyse right hand"
   ]
  },
  {
   "cell_type": "code",
   "execution_count": null,
   "metadata": {},
   "outputs": [],
   "source": [
    "active_muscle = sheet.muscle.unique()[0]\n",
    "r_hand = active_hand(pma_all[pma_all.muscle=='lADM'][['movement_start', 'movement_end','indexes','Trial in session','Is slow']], pma_data, 10, active_muscle)\n",
    "\n",
    "r_hand['session'] = subject_path[-6]\n",
    "loc = len(subject_path)-subject_path[::-1].find(SIGN_PATH)\n",
    "r_hand['file'] = subject_path[loc:]\n",
    "\n",
    "r_hand.head(3)"
   ]
  },
  {
   "cell_type": "markdown",
   "metadata": {},
   "source": [
    "### Check active hand average numbers"
   ]
  },
  {
   "cell_type": "code",
   "execution_count": null,
   "metadata": {},
   "outputs": [],
   "source": [
    "round(r_hand.groupby(['muscle']).agg({'preactivation_mean_uv':'mean',\n",
    "                                 'activation_mean_uv':'mean',\n",
    "                                 'activation_auc_uv':'mean',\n",
    "                                 'movement_start':'count' # = how many movements done\n",
    "                                }),1)"
   ]
  },
  {
   "cell_type": "code",
   "execution_count": null,
   "metadata": {},
   "outputs": [],
   "source": [
    "r_hand_format = round(r_hand[['movement_start','movement_end',\n",
    "       'preactivation_mean_uv',\n",
    "       'preactivation_max_uv',\n",
    "       'preactivation_std_uv',\n",
    "       'preactivation_auc_uv',\n",
    "       'activation_mean_uv',\n",
    "       'activation_max_uv',\n",
    "        'activation_auc_uv',\n",
    "       'activation_std_uv',\n",
    "       'muscle','Trial in session','session', 'Is slow','file']].set_index(['Trial in session','muscle','session', 'file']).unstack(1),2)\n",
    "\n",
    "r_hand_format.head(3)"
   ]
  },
  {
   "cell_type": "markdown",
   "metadata": {},
   "source": [
    "## 3. Merge Data right and left hand"
   ]
  },
  {
   "cell_type": "code",
   "execution_count": null,
   "metadata": {},
   "outputs": [],
   "source": [
    "pma_format.head(2)"
   ]
  },
  {
   "cell_type": "code",
   "execution_count": null,
   "metadata": {},
   "outputs": [],
   "source": [
    "r_hand_format.head(2)"
   ]
  },
  {
   "cell_type": "markdown",
   "metadata": {},
   "source": [
    "### Check final output Right and Left hands"
   ]
  },
  {
   "cell_type": "code",
   "execution_count": null,
   "metadata": {},
   "outputs": [],
   "source": [
    "output = r_hand_format.merge(pma_format, how='left', on = ['Trial in session','file','session'], suffixes = ['_active','_pma'])\n",
    "output['active_muscle']  = str(r_hand.active_muscle.unique()[0])\n",
    "output = output.set_index('active_muscle', append=True)\n",
    "output"
   ]
  },
  {
   "cell_type": "markdown",
   "metadata": {},
   "source": [
    "## 4. Save pMA output to Excel"
   ]
  },
  {
   "cell_type": "code",
   "execution_count": null,
   "metadata": {},
   "outputs": [],
   "source": [
    "print('Current EMG file for subject:',subject_path)\n",
    "subject_name = input('Sibject code: ')\n",
    "file_name = subject_name + '_' + output.reset_index().file[0] +'_s' + output.reset_index().session[0] + '.xls'\n",
    "output.to_excel(file_name)\n",
    "print('pma data saved to: ', file_name)"
   ]
  },
  {
   "cell_type": "markdown",
   "metadata": {},
   "source": [
    "# <br><br><br>  Part 2B. pMA analysis (Subject level)"
   ]
  },
  {
   "cell_type": "markdown",
   "metadata": {},
   "source": [
    "## 0. Get data"
   ]
  },
  {
   "cell_type": "markdown",
   "metadata": {},
   "source": [
    "#### Adjast: Path for folders with movement excels and EMG files"
   ]
  },
  {
   "cell_type": "code",
   "execution_count": null,
   "metadata": {},
   "outputs": [],
   "source": [
    "excel_files_path = '/Users/ksenia.kozlova/Documents/GitHub/pma_grant/Movement data'\n",
    "emg_files_path = '/Users/ksenia.kozlova/Documents/GitHub/pma_grant/EMG data'"
   ]
  },
  {
   "cell_type": "markdown",
   "metadata": {},
   "source": [
    "__just run__"
   ]
  },
  {
   "cell_type": "code",
   "execution_count": null,
   "metadata": {},
   "outputs": [],
   "source": [
    "excel_files = np.array(os.listdir(excel_files_path))\n",
    "\n",
    "mov_files_all = pd.DataFrame()\n",
    "for subject in excel_files[excel_files!='.DS_Store']:\n",
    "    df_mov_files = pd.DataFrame()\n",
    "    df_mov_files['excel_file'] =  os.listdir(excel_files_path + '/'+ subject)\n",
    "\n",
    "    df_mov_files['session'] = np.where(df_mov_files.excel_file.str.contains('1|2|3')==True, df_mov_files.excel_file.str[-5], np.NaN)\n",
    "    df_mov_files['muscle_index'] = np.where((df_mov_files.excel_file.str.contains('APB')==True), df_mov_files.excel_file.str.find('APB'),\n",
    "                                        df_mov_files.excel_file.str.find('ADM'))\n",
    "    df_mov_files['muscle'] = df_mov_files.apply(lambda x: x.excel_file[x.muscle_index:x.muscle_index+3], axis=1)\n",
    "    df_mov_files['subject'] = subject\n",
    "    \n",
    "    mov_files_all = mov_files_all.append(df_mov_files[df_mov_files.excel_file!='.DS_Store'])\n",
    "    \n",
    "\n",
    "files_emg = np.array(os.listdir(emg_files_path))\n",
    "\n",
    "emg_files_all = pd.DataFrame()\n",
    "for folder in files_emg[files_emg!='.DS_Store']:\n",
    "    df_emg_files = pd.DataFrame({'emg_file': os.listdir(emg_files_path+'/'+folder)})\n",
    "    df_emg_files = df_emg_files[df_emg_files['emg_file'].str.contains('.vhdr')]\n",
    "    df_emg_files['session'] = np.where(df_emg_files['emg_file'].str.contains('1|2|3')==True, df_emg_files['emg_file'].str[-6], np.NaN)\n",
    "    df_emg_files['muscle'] = np.where((df_emg_files['emg_file'].str.contains('1|2|3')==True)\n",
    "                                      &(df_emg_files['emg_file'].str.contains('APB|ADM')==True), df_emg_files['emg_file'].str[-10:-7], np.NaN)\n",
    "    \n",
    "    df_emg_files['muscle_index'] = np.where(df_emg_files.emg_file.str.contains('APB')==True\n",
    "                                            , df_emg_files['emg_file'].str.find('APB'),\n",
    "                                            df_emg_files['emg_file'].str.find('ADM'))\n",
    "    \n",
    "    df_emg_files['muscle'] = df_emg_files.apply(lambda x: x.emg_file[x.muscle_index:x.muscle_index+3], axis=1)\n",
    "    \n",
    "    df_emg_files['subject'] = folder\n",
    "    emg_files_all = emg_files_all.append(df_emg_files[(df_emg_files.session.isna()==False)])\n",
    "    \n",
    "emg_mov_couples = mov_files_all.merge(emg_files_all, how='left', on = ['session','muscle','subject'])\n",
    "\n",
    "algo_couples = emg_mov_couples[['excel_file','emg_file','subject','muscle','session']]"
   ]
  },
  {
   "cell_type": "markdown",
   "metadata": {},
   "source": [
    "#### see list of subjects movement Done"
   ]
  },
  {
   "cell_type": "code",
   "execution_count": null,
   "metadata": {},
   "outputs": [],
   "source": [
    "print('Sibjects movement done:', list(algo_couples.subject.unique()))"
   ]
  },
  {
   "cell_type": "markdown",
   "metadata": {},
   "source": [
    "#### Adjast: Select subjects to run pMA (fill subjects_to_analyse list)"
   ]
  },
  {
   "cell_type": "code",
   "execution_count": null,
   "metadata": {
    "scrolled": true
   },
   "outputs": [],
   "source": [
    "subjects_to_analyse = ['MedVer_11', 'AnVl_28', 'DaSa_27', 'VaGe_25', 'VaKo_21', \n",
    "                       'TimSul_10', 'AlKI_19', 'KrLy_20', 'NiCh_15', 'LaKi_31', \n",
    "                       'KoYa_30', 'AlFe_16', 'PoAn_12', 'MiBa_13', \n",
    "                       'TiAr_14', 'StSh_24', 'RyEk_29', 'ArtDz_9', 'AlLo_26', \n",
    "                       'GlePe_18', 'PoSe_23']\n",
    "    \n",
    "subjects_to_analyse2 = [ 'VaKo_21',  'AlKI_19', 'AlFe_16',  'ArtDz_9',\n",
    "                        'PoSe_23']\n",
    "    \n",
    "pd.set_option('display.max_rows', 1000)\n",
    "\n",
    "\n",
    "selected_couples = algo_couples[(algo_couples.subject.isin(subjects_to_analyse2))&(~algo_couples.excel_file.str.contains('_s'))]\n",
    "selected_couples"
   ]
  },
  {
   "cell_type": "markdown",
   "metadata": {},
   "source": [
    "#### See number of data by subjects in folders"
   ]
  },
  {
   "cell_type": "code",
   "execution_count": null,
   "metadata": {
    "scrolled": true
   },
   "outputs": [],
   "source": [
    "selected_couples.groupby(['subject','muscle']).count().excel_file.to_frame().unstack(1).to_clipboard()"
   ]
  },
  {
   "cell_type": "markdown",
   "metadata": {},
   "source": [
    "## 1. Run pMA analisys for list of subjects (data filtering, pma find, rigt/left hands analysis, output save to excel file)"
   ]
  },
  {
   "cell_type": "markdown",
   "metadata": {},
   "source": [
    "#### Check average numbers output during run"
   ]
  },
  {
   "cell_type": "code",
   "execution_count": null,
   "metadata": {
    "scrolled": true
   },
   "outputs": [],
   "source": [
    "for index, couple in tqdm(selected_couples.iterrows()):\n",
    "    \n",
    "    try: \n",
    "        \n",
    "        # DATA LOAD\n",
    "        subject_path = emg_files_path + '/' + str(couple.subject) + '/' + couple.emg_file\n",
    "        movement_path = excel_files_path + '/' + str(couple.subject) + '/' + couple.excel_file\n",
    "\n",
    "        # EMG FILTERS\n",
    "        raw = mne.io.read_raw_brainvision(subject_path, verbose=False)\n",
    "        # high pass and low pass filters\n",
    "        filters_hp_lp = raw.load_data().filter(l_freq=20, h_freq=1000, verbose=False)\n",
    "        # notch filters\n",
    "        filters_notch = np.array([50, 100, 150, 200])\n",
    "        raw_filtered = filters_hp_lp.notch_filter(freqs=filters_notch, verbose=False)\n",
    "        pma_data = raw_filtered.to_data_frame()\n",
    "\n",
    "\n",
    "        sheet = pd.read_excel(movement_path)\n",
    "        sheet['slow'] = np.where((sheet['slow'] == '')|(sheet.slow.isna()==True), sheet['slow'].shift(1), sheet['slow'])\n",
    "        sheet['bad'] = np.where((sheet['bad'] == '')|(sheet.bad.isna()==True), sheet['bad'].shift(1), sheet['bad'])\n",
    "        sheet['trial_number'] = (2+ np.array(range(sheet.shape[0])))//2\n",
    "        sheet = sheet[(sheet.bad!='TRUE')&(sheet.bad!=1)]\n",
    "\n",
    "\n",
    "        print('Subject:',couple.subject, 'active muscle ' , sheet.muscle.unique()[0], ' session ' , couple.session)\n",
    "\n",
    "        # Left Hand Data processing\n",
    "        pma_all = pd.DataFrame()\n",
    "\n",
    "        PMA_START_POSITIVE = 0.25 \n",
    "        for muscle in tqdm(['lAPB','lADM','lECU']):\n",
    "            # culculate preactivation thrs in preactivatuon window based on envelop\n",
    "            thrss = pma_find_preact_thrs(sheet, pma_data, 1000, muscle)\n",
    "            # find pma times \n",
    "            pma = find_pma(pma_data, muscle, thrss, PMA_START_POSITIVE) \n",
    "            # calculate rms or each pma\n",
    "            rms = rms_pma(pma)\n",
    "            # save all muscles to one df\n",
    "            pma_all=pma_all.append(rms)\n",
    "            print(muscle, 'is done')\n",
    "\n",
    "\n",
    "        pma_all['pma_latency_ms'] = pma_all.pma_time_start - pma_all.movement_start\n",
    "        pma_all['session'] = couple.session\n",
    "        pma_all['file'] = couple.emg_file\n",
    "\n",
    "        pma_format = round(pma_all[[\n",
    "           'preactivation_mean_uv',\n",
    "           'preactivation_max_uv',\n",
    "           'preactivation_std_uv',\n",
    "           'preactivation_auc_uv',\n",
    "           'preactivation_window_rms_mean',\n",
    "            'preac_thrs','pma_duration_ms', 'pma_latency_ms',\n",
    "           'pma_mean_uv', 'pma_max_uv', 'pma_std_uv','pma_auc_uv',\n",
    "           'pma_rms_mean',\n",
    "            'muscle','Trial in session', 'session', 'file']].set_index(['Trial in session','muscle','session', 'file']).unstack(1),2)\n",
    "\n",
    "        # Left hand process check\n",
    "        try:\n",
    "            pma_left_pivot = round(pma_all.groupby(['muscle']).agg({'pma_duration_ms':'mean',\n",
    "                                         'pma_latency_ms':'mean',\n",
    "                                         'pma_rms_mean':'mean',\n",
    "                                         'pma_mean_uv':'mean',\n",
    "                                         'pma_wnd':'count', # = how many pma found\n",
    "                                         'movement_start':'count' # = how many movemnts\n",
    "                                        }),1)\n",
    "\n",
    "            print('PMA mean activity for ', couple.subject, 'active muscle ' , sheet.muscle.unique()[0], ' session ' , couple.session)\n",
    "            print(pma_left_pivot)\n",
    "        except:\n",
    "            print('No numeric data for PMA',couple.subject, 'active muscle ' , sheet.muscle.unique()[0], ' session ' , couple.session )\n",
    "            pass\n",
    "\n",
    "        # Right Hand processing \n",
    "        active_muscle = sheet.muscle.unique()[0]\n",
    "        r_hand = active_hand(pma_all[pma_all.muscle=='lAPB'][['movement_start', 'movement_end','indexes','Trial in session','Is slow']], pma_data, 10, active_muscle)\n",
    "\n",
    "        r_hand['session'] = couple.session\n",
    "        r_hand['file'] = couple.emg_file\n",
    "\n",
    "        r_hand_format = round(r_hand[['movement_start','movement_end',\n",
    "           'preactivation_mean_uv',\n",
    "           'preactivation_max_uv',\n",
    "           'preactivation_std_uv',\n",
    "           'preactivation_auc_uv',\n",
    "           'activation_mean_uv',\n",
    "           'activation_max_uv',\n",
    "            'activation_auc_uv',\n",
    "           'activation_std_uv',\n",
    "           'muscle','Trial in session','session', 'Is slow','file']].set_index(['Trial in session','muscle','session', 'file']).unstack(1),2)\n",
    "\n",
    "\n",
    "        # Right hand process check\n",
    "\n",
    "        try:\n",
    "            right_hand_pivot = round(r_hand.groupby(['muscle']).agg({'preactivation_mean_uv':'mean',\n",
    "                                         'activation_mean_uv':'mean',\n",
    "                                         'activation_auc_uv':'mean',\n",
    "                                         'movement_start':'count' # = how many movements done\n",
    "                                        }),1)\n",
    "\n",
    "            print('Right Hand mean activity for ', couple.subject, 'active muscle ' , sheet.muscle.unique()[0], ' session ' , couple.session)\n",
    "            print(right_hand_pivot)\n",
    "\n",
    "        except:\n",
    "            print('No numeric data for Right hand ',couple.subject, 'active muscle ' , sheet.muscle.unique()[0], ' session ' , couple.session )\n",
    "            pass\n",
    "\n",
    "        output = r_hand_format.merge(pma_format, how='left', on = ['Trial in session','file','session'], suffixes = ['_active','_pma'])\n",
    "        output['active_muscle']  = sheet.muscle.unique()[0]\n",
    "        output = output.set_index('active_muscle', append=True)\n",
    "\n",
    "\n",
    "        file_name = 'algo_' + couple.subject + '_' + couple.muscle +'_s' + couple.session + '.xls'\n",
    "\n",
    "        output.to_excel(file_name)\n",
    "\n",
    "        print('pma data saved to: ', file_name)\n",
    "    \n",
    "    except Exception as er:\n",
    "        print('Failed ', couple.subject, couple.muscle, couple.session, er)\n",
    "        pass"
   ]
  },
  {
   "cell_type": "markdown",
   "metadata": {},
   "source": [
    "### Auto pMA analysis is Done"
   ]
  },
  {
   "cell_type": "markdown",
   "metadata": {},
   "source": [
    "Mudrich: Latency of pMA was subsequently defined automatically during the delay between burst-onset of FDIVol and the time point, at which muscular activity in the contralateral (resting) FDIpMA exceeded a threshold of its own mean baseline activity (1000 ms pre-FDIVol burst onset) + 2 SD for a time window of at least 10 ms"
   ]
  },
  {
   "cell_type": "markdown",
   "metadata": {},
   "source": [
    "# Part 3. All 6 files to one for each subject"
   ]
  },
  {
   "cell_type": "code",
   "execution_count": null,
   "metadata": {},
   "outputs": [],
   "source": [
    "import os\n",
    "pma_analisys_folder_path = '/Users/ksenia.kozlova/Documents/GitHub/pma_grant'\n",
    "part2_files = np.array(os.listdir(pma_analisys_folder_path))"
   ]
  },
  {
   "cell_type": "code",
   "execution_count": null,
   "metadata": {},
   "outputs": [],
   "source": [
    "needed_files_df = pd.DataFrame(part2_files[pd.Series(part2_files).str.contains('algo')])\n",
    "needed_files_df['subject'] =  needed_files_df.apply(lambda x: x[0][5:11],axis=1)\n",
    "needed_files_df['session'] =  needed_files_df.apply(lambda x: x[0][-5],axis=1)\n",
    "needed_files_df['muscle'] =  needed_files_df.apply(lambda x: x[0][-10:-7],axis=1)\n",
    "needed_files_df = needed_files_df.sort_values(by=['subject','muscle','session'])\n",
    "needed_files_df.head(7)"
   ]
  },
  {
   "cell_type": "code",
   "execution_count": null,
   "metadata": {},
   "outputs": [],
   "source": [
    "for subj in needed_files_df.subject.unique():\n",
    "    all_sessions_file = pd.DataFrame()\n",
    "    files_subject = needed_files_df[needed_files_df.subject == subj]\n",
    "    for i, file in files_subject.iterrows():\n",
    "        sess = pd.read_excel(pma_analisys_folder_path+'/'+file[0], header=[0,1,2])\n",
    "        all_sessions_file = all_sessions_file.append(sess)\n",
    "    all_sessions_file.to_excel(subj+'.xls')"
   ]
  }
 ],
 "metadata": {
  "colab": {
   "collapsed_sections": [],
   "include_colab_link": true,
   "name": "pMA_v2.ipynb",
   "provenance": []
  },
  "kernelspec": {
   "display_name": "Python 3",
   "language": "python",
   "name": "python3"
  },
  "language_info": {
   "codemirror_mode": {
    "name": "ipython",
    "version": 3
   },
   "file_extension": ".py",
   "mimetype": "text/x-python",
   "name": "python",
   "nbconvert_exporter": "python",
   "pygments_lexer": "ipython3",
   "version": "3.8.5"
  },
  "toc-autonumbering": false,
  "widgets": {
   "application/vnd.jupyter.widget-state+json": {
    "107fb4c9afbd45e1847375b66412e925": {
     "model_module": "jupyter-matplotlib",
     "model_module_version": "^0.10.0",
     "model_name": "MPLCanvasModel",
     "state": {
      "_cursor": "default",
      "_dom_classes": [],
      "_figure_label": "/content/PoAn/PoAn_APB_3.eeg",
      "_height": 0,
      "_image_mode": "full",
      "_message": "",
      "_model_module": "jupyter-matplotlib",
      "_model_module_version": "^0.10.0",
      "_model_name": "MPLCanvasModel",
      "_rubberband_height": 0,
      "_rubberband_width": 0,
      "_rubberband_x": 0,
      "_rubberband_y": 0,
      "_view_count": null,
      "_view_module": "jupyter-matplotlib",
      "_view_module_version": "^0.10.0",
      "_view_name": "MPLCanvasView",
      "_width": 0,
      "capture_scroll": true,
      "footer_visible": true,
      "header_visible": true,
      "layout": "IPY_MODEL_cf52a158956f4f548d532f7f0262840b",
      "resizable": true,
      "toolbar": "IPY_MODEL_d97ea6be36604199812f4d2dc6bb27f6",
      "toolbar_position": "left",
      "toolbar_visible": true
     }
    }
   }
  }
 },
 "nbformat": 4,
 "nbformat_minor": 4
}
